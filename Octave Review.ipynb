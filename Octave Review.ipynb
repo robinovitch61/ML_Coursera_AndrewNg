{
 "cells": [
  {
   "cell_type": "code",
   "execution_count": 1,
   "metadata": {
    "collapsed": false
   },
   "outputs": [
    {
     "name": "stdout",
     "output_type": "stream",
     "text": [
      "A =\n",
      "\n",
      "   1   2\n",
      "   3   4\n",
      "\n"
     ]
    }
   ],
   "source": [
    "A = [1 2; 3 4]"
   ]
  },
  {
   "cell_type": "code",
   "execution_count": 2,
   "metadata": {
    "collapsed": false
   },
   "outputs": [
    {
     "name": "stdout",
     "output_type": "stream",
     "text": [
      "B =\n",
      "\n",
      "  -2.00000   1.00000\n",
      "   1.50000  -0.50000\n",
      "\n"
     ]
    }
   ],
   "source": [
    "B = pinv(A)"
   ]
  },
  {
   "cell_type": "code",
   "execution_count": 3,
   "metadata": {
    "collapsed": false
   },
   "outputs": [
    {
     "name": "stdout",
     "output_type": "stream",
     "text": [
      "ans =\n",
      "\n",
      "   1.0000e+00  -4.4409e-16\n",
      "   8.8818e-16   1.0000e+00\n",
      "\n"
     ]
    }
   ],
   "source": [
    "A*B"
   ]
  },
  {
   "cell_type": "code",
   "execution_count": 1,
   "metadata": {
    "collapsed": false
   },
   "outputs": [
    {
     "name": "stdout",
     "output_type": "stream",
     "text": [
      "ans =  11\r\n"
     ]
    }
   ],
   "source": [
    "5+6"
   ]
  },
  {
   "cell_type": "code",
   "execution_count": 2,
   "metadata": {
    "collapsed": false
   },
   "outputs": [
    {
     "name": "stdout",
     "output_type": "stream",
     "text": [
      "ans =  0.50000\r\n"
     ]
    }
   ],
   "source": [
    "1/2"
   ]
  },
  {
   "cell_type": "code",
   "execution_count": 3,
   "metadata": {
    "collapsed": false
   },
   "outputs": [
    {
     "name": "stdout",
     "output_type": "stream",
     "text": [
      "ans = 0\r\n"
     ]
    }
   ],
   "source": [
    "1 == 2"
   ]
  },
  {
   "cell_type": "code",
   "execution_count": 5,
   "metadata": {
    "collapsed": false
   },
   "outputs": [
    {
     "name": "stdout",
     "output_type": "stream",
     "text": [
      "ans = 1\r\n"
     ]
    }
   ],
   "source": [
    "1 ~= 2"
   ]
  },
  {
   "cell_type": "code",
   "execution_count": 6,
   "metadata": {
    "collapsed": false
   },
   "outputs": [
    {
     "name": "stdout",
     "output_type": "stream",
     "text": [
      "ans = 0\r\n"
     ]
    }
   ],
   "source": [
    "1 && 0"
   ]
  },
  {
   "cell_type": "code",
   "execution_count": 7,
   "metadata": {
    "collapsed": false
   },
   "outputs": [
    {
     "name": "stdout",
     "output_type": "stream",
     "text": [
      "ans = 1\r\n"
     ]
    }
   ],
   "source": [
    "1 || 0"
   ]
  },
  {
   "cell_type": "code",
   "execution_count": 8,
   "metadata": {
    "collapsed": false
   },
   "outputs": [
    {
     "name": "stdout",
     "output_type": "stream",
     "text": [
      "ans = 1\r\n"
     ]
    }
   ],
   "source": [
    "xor(1,0) %evaluates to true only if one is true"
   ]
  },
  {
   "cell_type": "code",
   "execution_count": 9,
   "metadata": {
    "collapsed": false
   },
   "outputs": [
    {
     "name": "stdout",
     "output_type": "stream",
     "text": [
      "ans = 0\r\n"
     ]
    }
   ],
   "source": [
    "xor(1,1,0)"
   ]
  },
  {
   "cell_type": "code",
   "execution_count": 11,
   "metadata": {
    "collapsed": false
   },
   "outputs": [],
   "source": [
    "a = 3;"
   ]
  },
  {
   "cell_type": "code",
   "execution_count": 12,
   "metadata": {
    "collapsed": false
   },
   "outputs": [
    {
     "name": "stdout",
     "output_type": "stream",
     "text": [
      "b = hi\r\n"
     ]
    }
   ],
   "source": [
    "b = 'hi'"
   ]
  },
  {
   "cell_type": "code",
   "execution_count": 13,
   "metadata": {
    "collapsed": true
   },
   "outputs": [],
   "source": [
    "c = (3 >= 1);"
   ]
  },
  {
   "cell_type": "code",
   "execution_count": 14,
   "metadata": {
    "collapsed": false
   },
   "outputs": [
    {
     "name": "stdout",
     "output_type": "stream",
     "text": [
      "c = 1\r\n"
     ]
    }
   ],
   "source": [
    "c"
   ]
  },
  {
   "cell_type": "code",
   "execution_count": 15,
   "metadata": {
    "collapsed": false
   },
   "outputs": [
    {
     "name": "stdout",
     "output_type": "stream",
     "text": [
      "a =  3.1416\r\n"
     ]
    }
   ],
   "source": [
    "a = pi"
   ]
  },
  {
   "cell_type": "code",
   "execution_count": 16,
   "metadata": {
    "collapsed": false
   },
   "outputs": [
    {
     "name": "stdout",
     "output_type": "stream",
     "text": [
      " 3.1416\r\n"
     ]
    }
   ],
   "source": [
    "disp(a)"
   ]
  },
  {
   "cell_type": "code",
   "execution_count": 17,
   "metadata": {
    "collapsed": false
   },
   "outputs": [
    {
     "name": "stdout",
     "output_type": "stream",
     "text": [
      "2 decimals: 3.14\r\n"
     ]
    }
   ],
   "source": [
    "disp(sprintf('2 decimals: %0.2f', a))"
   ]
  },
  {
   "cell_type": "code",
   "execution_count": 18,
   "metadata": {
    "collapsed": false
   },
   "outputs": [
    {
     "name": "stdout",
     "output_type": "stream",
     "text": [
      "6 decimals: 3.141593\r\n"
     ]
    }
   ],
   "source": [
    "disp(sprintf('6 decimals: %0.6f', a))"
   ]
  },
  {
   "cell_type": "code",
   "execution_count": 19,
   "metadata": {
    "collapsed": true
   },
   "outputs": [],
   "source": [
    "format long"
   ]
  },
  {
   "cell_type": "code",
   "execution_count": 20,
   "metadata": {
    "collapsed": false
   },
   "outputs": [
    {
     "name": "stdout",
     "output_type": "stream",
     "text": [
      "a =  3.14159265358979\r\n"
     ]
    }
   ],
   "source": [
    "a"
   ]
  },
  {
   "cell_type": "code",
   "execution_count": 21,
   "metadata": {
    "collapsed": true
   },
   "outputs": [],
   "source": [
    "format short"
   ]
  },
  {
   "cell_type": "code",
   "execution_count": 22,
   "metadata": {
    "collapsed": false
   },
   "outputs": [
    {
     "name": "stdout",
     "output_type": "stream",
     "text": [
      "a =  3.1416\r\n"
     ]
    }
   ],
   "source": [
    "a"
   ]
  },
  {
   "cell_type": "code",
   "execution_count": 23,
   "metadata": {
    "collapsed": false
   },
   "outputs": [
    {
     "name": "stdout",
     "output_type": "stream",
     "text": [
      "A =\n",
      "\n",
      "   1   2\n",
      "   3   4\n",
      "   5   6\n",
      "\n"
     ]
    }
   ],
   "source": [
    "A = [1 2; 3 4; 5 6]"
   ]
  },
  {
   "cell_type": "code",
   "execution_count": 24,
   "metadata": {
    "collapsed": false
   },
   "outputs": [
    {
     "name": "stdout",
     "output_type": "stream",
     "text": [
      "A =\n",
      "\n",
      "   1   2\n",
      "   3   4\n",
      "   5   6\n",
      "\n"
     ]
    }
   ],
   "source": [
    "A = [1 2;\n",
    "3 4;\n",
    "5 6]"
   ]
  },
  {
   "cell_type": "code",
   "execution_count": 25,
   "metadata": {
    "collapsed": false
   },
   "outputs": [
    {
     "name": "stdout",
     "output_type": "stream",
     "text": [
      "V =\n",
      "\n",
      "   1   2   3\n",
      "\n"
     ]
    }
   ],
   "source": [
    "V = [1 2 3]"
   ]
  },
  {
   "cell_type": "code",
   "execution_count": 26,
   "metadata": {
    "collapsed": false
   },
   "outputs": [
    {
     "name": "stdout",
     "output_type": "stream",
     "text": [
      "V =\n",
      "\n",
      "   1\n",
      "   2\n",
      "   3\n",
      "\n"
     ]
    }
   ],
   "source": [
    "V = [1; 2; 3]"
   ]
  },
  {
   "cell_type": "code",
   "execution_count": 27,
   "metadata": {
    "collapsed": false
   },
   "outputs": [
    {
     "name": "stdout",
     "output_type": "stream",
     "text": [
      "v =\n",
      "\n",
      "    1.0000    1.2000    1.4000    1.6000    1.8000    2.0000\n",
      "\n"
     ]
    }
   ],
   "source": [
    "v = 1:0.2:2"
   ]
  },
  {
   "cell_type": "code",
   "execution_count": 28,
   "metadata": {
    "collapsed": false
   },
   "outputs": [
    {
     "name": "stdout",
     "output_type": "stream",
     "text": [
      "v =\n",
      "\n",
      "   1   2   3   4   5   6\n",
      "\n"
     ]
    }
   ],
   "source": [
    "v = 1:6"
   ]
  },
  {
   "cell_type": "code",
   "execution_count": 29,
   "metadata": {
    "collapsed": false
   },
   "outputs": [
    {
     "name": "stdout",
     "output_type": "stream",
     "text": [
      "ans =\n",
      "\n",
      "   1   1   1\n",
      "   1   1   1\n",
      "\n"
     ]
    }
   ],
   "source": [
    "ones(2,3)"
   ]
  },
  {
   "cell_type": "code",
   "execution_count": 1,
   "metadata": {
    "collapsed": false
   },
   "outputs": [
    {
     "name": "stdout",
     "output_type": "stream",
     "text": [
      "w =\n",
      "\n",
      "   0   0   0\n",
      "\n"
     ]
    }
   ],
   "source": [
    "w = zeros(1,3)"
   ]
  },
  {
   "cell_type": "code",
   "execution_count": 2,
   "metadata": {
    "collapsed": false
   },
   "outputs": [
    {
     "name": "stdout",
     "output_type": "stream",
     "text": [
      "w =\n",
      "\n",
      "   0.28422   0.42660   0.33385\n",
      "\n"
     ]
    }
   ],
   "source": [
    "w = rand(1,3)"
   ]
  },
  {
   "cell_type": "code",
   "execution_count": 4,
   "metadata": {
    "collapsed": false
   },
   "outputs": [
    {
     "name": "stdout",
     "output_type": "stream",
     "text": [
      "ans =\n",
      "\n",
      "   0.18391   0.12871   0.72906\n",
      "   0.26300   0.62758   0.48661\n",
      "   0.79680   0.32214   0.11703\n",
      "\n"
     ]
    }
   ],
   "source": [
    "rand(3,3) %uniform distribution b/n 0-1"
   ]
  },
  {
   "cell_type": "code",
   "execution_count": 5,
   "metadata": {
    "collapsed": false
   },
   "outputs": [
    {
     "name": "stdout",
     "output_type": "stream",
     "text": [
      "ans =\n",
      "\n",
      "  -0.667018  -0.079999   0.722664\n",
      "\n"
     ]
    }
   ],
   "source": [
    "randn(1,3) %gaussian"
   ]
  },
  {
   "cell_type": "code",
   "execution_count": 6,
   "metadata": {
    "collapsed": false
   },
   "outputs": [
    {
     "name": "stdout",
     "output_type": "stream",
     "text": [
      "w =\n",
      "\n",
      " Columns 1 through 6:\n",
      "\n",
      "   -5.625389   -8.743491   -7.608076   -3.242984   -2.086117   -5.384709\n",
      "\n",
      " Columns 7 through 12:\n",
      "\n",
      "   -6.760500   -9.000011   -4.830560   -2.094677   -5.650164   -8.269464\n",
      "\n",
      " Columns 13 through 18:\n",
      "\n",
      "   -6.689103   -9.181469   -8.415111   -1.707176   -6.631613   -5.733595\n",
      "\n",
      " Columns 19 through 24:\n",
      "\n",
      "   -7.923948   -3.430070   -8.302822   -5.773589   -5.462679    1.333453\n",
      "\n",
      " Columns 25 through 30:\n",
      "\n",
      "   -5.190863   -7.656035   -1.007791   -6.777047  -12.108616   -5.197806\n",
      "\n",
      " Columns 31 through 36:\n",
      "\n",
      "  -10.203188   -6.912526   -5.831199   -4.297756   -7.873237   -6.541436\n",
      "\n",
      " Columns 37 through 42:\n",
      "\n",
      "   -6.785350   -1.428369    0.305715   -6.908738   -7.694950  -10.540304\n",
      "\n",
      " Columns 43 through 48:\n",
      "\n",
      "   -8.721720   -8.905769    3.412215   -7.123042  -11.428052  -12.072326\n",
      "\n",
      " Columns 49 through 54:\n",
      "\n",
      "   -4.035228   -7.782184   -2.872987   -0.943907   -4.262834   -6.710831\n",
      "\n",
      " Columns 55 through 60:\n",
      "\n",
      "   -5.144560   -6.159329   -5.196806    2.534361   -9.776033   -6.854508\n",
      "\n",
      " Columns 61 through 66:\n",
      "\n",
      "   -8.692101   -9.859775   -4.468284   -6.719095   -5.819736   -6.908712\n",
      "\n",
      " Columns 67 through 72:\n",
      "\n",
      "   -5.939823   -2.113770   -2.751981   -5.522362   -1.980226   -8.479234\n",
      "\n",
      " Columns 73 through 78:\n",
      "\n",
      "  -10.903164  -10.398572   -1.527179  -14.657499   -7.559074   -8.961605\n",
      "\n",
      " Columns 79 through 84:\n",
      "\n",
      "   -7.930674   -0.499722   -6.905560    4.573380   -9.718714   -5.891973\n",
      "\n",
      " Columns 85 through 90:\n",
      "\n",
      "  -10.392704   -7.295151   -6.037647   -3.497828   -6.137275   -2.071937\n",
      "\n",
      " Columns 91 through 96:\n",
      "\n",
      "   -8.000508   -3.091125   -6.437824  -10.720296   -4.203032  -13.453484\n",
      "\n",
      " Columns 97 through 102:\n",
      "\n",
      "   -3.794772   -2.348513   -6.949044   -8.872742   -5.248880   -4.938039\n",
      "\n",
      " Columns 103 through 108:\n",
      "\n",
      "   -6.618068   -7.312933   -5.279359   -6.675833   -9.167276   -9.454903\n",
      "\n",
      " Columns 109 through 114:\n",
      "\n",
      "  -12.136917   -6.134078  -10.868438  -10.476961   -1.941216   -2.993693\n",
      "\n",
      " Columns 115 through 120:\n",
      "\n",
      "   -4.399090   -4.881555   -4.393530   -4.710508   -7.057772   -6.648880\n",
      "\n",
      " Columns 121 through 126:\n",
      "\n",
      "   -4.156401   -4.970934   -9.531130   -2.607387   -5.906841   -6.279662\n",
      "\n",
      " Columns 127 through 132:\n",
      "\n",
      "   -1.278588   -0.060641   -5.952066   -6.040700   -9.297287   -5.448123\n",
      "\n",
      " Columns 133 through 138:\n",
      "\n",
      "   -9.132662   -1.056899   -9.908153    3.836194   -4.423478   -8.533182\n",
      "\n",
      " Columns 139 through 144:\n",
      "\n",
      "   -9.367138   -5.260937   -9.471508   -5.070531  -13.981562  -11.036047\n",
      "\n",
      " Columns 145 through 150:\n",
      "\n",
      "   -7.593134   -7.586220   -7.780226   -9.584621   -7.540536   -7.452197\n",
      "\n",
      " Columns 151 through 156:\n",
      "\n",
      "   -3.169337   -6.240560   -5.531253   -4.531829   -5.671212   -3.396083\n",
      "\n",
      " Columns 157 through 162:\n",
      "\n",
      "   -7.067621   -2.614916   -1.327416   -6.543640   -1.252407   -5.448879\n",
      "\n",
      " Columns 163 through 168:\n",
      "\n",
      "   -6.175632  -10.187572   -4.294258   -5.967743   -3.161011   -2.750825\n",
      "\n",
      " Columns 169 through 174:\n",
      "\n",
      "   -1.797287   -6.022462   -9.304173   -2.380968   -7.085945  -10.185529\n",
      "\n",
      " Columns 175 through 180:\n",
      "\n",
      "   -8.823508  -11.988366   -6.045738   -1.076418   -1.362104   -1.282782\n",
      "\n",
      " Columns 181 through 186:\n",
      "\n",
      "  -12.386327   -7.820766   -8.926954   -3.347097   -3.766870   -8.657117\n",
      "\n",
      " Columns 187 through 192:\n",
      "\n",
      "   -8.152509   -5.713548   -9.511584   -2.916778   -7.551612  -10.378135\n",
      "\n",
      " Columns 193 through 198:\n",
      "\n",
      "    2.360476   -7.619465   -7.945579   -6.562804   -8.011599   -8.512984\n",
      "\n",
      " Columns 199 through 204:\n",
      "\n",
      "   -4.925233   -6.001463  -12.017440   -2.359862   -3.506588   -6.000996\n",
      "\n",
      " Columns 205 through 210:\n",
      "\n",
      "  -11.115143   -7.556524   -9.302252   -5.453934   -1.598467   -2.444807\n",
      "\n",
      " Columns 211 through 216:\n",
      "\n",
      "    0.956795   -6.649036   -9.284065   -7.077190   -3.978545   -4.084176\n",
      "\n",
      " Columns 217 through 222:\n",
      "\n",
      "   -1.059548  -11.528488   -2.982515   -2.708118   -1.954471   -9.120982\n",
      "\n",
      " Columns 223 through 228:\n",
      "\n",
      "   -6.181062   -2.602970   -5.010041   -6.484088   -4.119271   -2.781744\n",
      "\n",
      " Columns 229 through 234:\n",
      "\n",
      "   -3.906343  -12.168226   -9.105680   -1.844729   -1.531463   -4.529267\n",
      "\n",
      " Columns 235 through 240:\n",
      "\n",
      "   -3.592017   -3.484719   -6.331119   -5.966351   -5.699032   -2.826937\n",
      "\n",
      " Columns 241 through 246:\n",
      "\n",
      "   -5.856839   -7.947084  -10.245193   -9.842531   -8.303781   -4.327615\n",
      "\n",
      " Columns 247 through 252:\n",
      "\n",
      "   -7.289021   -9.890737   -4.995516   -8.209620   -9.024783   -4.556826\n",
      "\n",
      " Columns 253 through 258:\n",
      "\n",
      "   -2.620384   -8.464424   -2.235475   -8.108224    0.360351   -4.131645\n",
      "\n",
      " Columns 259 through 264:\n",
      "\n",
      "   -3.419611   -6.302277   -2.406690   -1.470534   -6.205890   -2.854016\n",
      "\n",
      " Columns 265 through 270:\n",
      "\n",
      "   -9.336607   -9.239366   -6.937648   -6.737173   -4.204476   -6.640799\n",
      "\n",
      " Columns 271 through 276:\n",
      "\n",
      "   -1.373948   -2.728661   -4.971626   -3.148052   -4.796592   -6.213179\n",
      "\n",
      " Columns 277 through 282:\n",
      "\n",
      "   -7.856517   -4.428923   -5.338676  -10.097343   -6.490246   -3.058322\n",
      "\n",
      " Columns 283 through 288:\n",
      "\n",
      "   -2.310315   -2.468946   -1.655580   -5.786314   -5.338808   -4.818827\n",
      "\n",
      " Columns 289 through 294:\n",
      "\n",
      "  -10.830039   -5.291815   -3.948570   -7.748904   -9.834940   -8.038883\n",
      "\n",
      " Columns 295 through 300:\n",
      "\n",
      "   -7.592154   -2.847406   -0.347222   -9.212979   -5.613838   -6.781414\n",
      "\n",
      " Columns 301 through 306:\n",
      "\n",
      "   -7.838966   -2.485207   -5.040722   -2.435847   -9.867494   -4.844162\n",
      "\n",
      " Columns 307 through 312:\n",
      "\n",
      "   -7.326766   -3.350795   -4.953288   -6.089691  -10.166808   -0.424737\n",
      "\n",
      " Columns 313 through 318:\n",
      "\n",
      "   -3.856182   -5.318260   -0.652245   -7.821217   -7.450686   -3.904555\n",
      "\n",
      " Columns 319 through 324:\n",
      "\n",
      "   -5.945654   -6.354985   -6.484594   -2.828472   -7.335210   -7.732368\n",
      "\n",
      " Columns 325 through 330:\n",
      "\n",
      "   -5.021461   -5.717777   -3.858559   -3.126167   -5.081123   -9.867311\n",
      "\n",
      " Columns 331 through 336:\n",
      "\n",
      "   -9.607738  -11.117957   -8.982650   -8.162879   -7.341954   -5.482673\n",
      "\n",
      " Columns 337 through 342:\n",
      "\n",
      "   -4.570420   -5.288018   -4.465243   -9.586781   -2.014354   -3.754554\n",
      "\n",
      " Columns 343 through 348:\n",
      "\n",
      "   -3.187671   -5.875327  -12.265887   -8.138184   -8.062845   -2.942783\n",
      "\n",
      " Columns 349 through 354:\n",
      "\n",
      "   -5.351664   -7.888036   -4.436632   -4.226557   -5.415566   -6.029076\n",
      "\n",
      " Columns 355 through 360:\n",
      "\n",
      "   -7.691993  -10.134915   -5.255711   -4.524012   -3.433747   -3.310227\n",
      "\n",
      " Columns 361 through 366:\n",
      "\n",
      "   -4.222035  -12.898699   -9.042959   -3.865481   -6.710270  -10.383553\n",
      "\n",
      " Columns 367 through 372:\n",
      "\n",
      "   -0.791859   -3.914818   -4.638948   -6.920767   -5.917716   -3.295434\n",
      "\n",
      " Columns 373 through 378:\n",
      "\n",
      "   -6.052043   -0.572864   -4.446799   -3.221424   -3.013131   -6.541638\n",
      "\n",
      " Columns 379 through 384:\n",
      "\n",
      "   -6.573295   -5.302573   -6.012449   -2.222939   -6.552296   -5.656346\n",
      "\n",
      " Columns 385 through 390:\n",
      "\n",
      "   -6.599785   -9.494416   -3.888757   -6.309333   -5.015044   -3.624667\n",
      "\n",
      " Columns 391 through 396:\n",
      "\n",
      "   -2.933121  -11.761542   -6.013400   -2.230293   -6.196180    0.425987\n",
      "\n",
      " Columns 397 through 402:\n",
      "\n",
      "   -9.840582   -3.821926    0.587049   -6.272716  -10.426200   -8.164943\n",
      "\n",
      " Columns 403 through 408:\n",
      "\n",
      "   -4.372485   -6.001275   -6.580380   -3.843983   -2.945394   -2.941686\n",
      "\n",
      " Columns 409 through 414:\n",
      "\n",
      "   -3.796698  -12.702806   -2.418179  -10.214370   -7.882031   -1.734015\n",
      "\n",
      " Columns 415 through 420:\n",
      "\n",
      "   -4.832331   -8.813420  -11.935448   -0.218733  -12.035418   -4.740016\n",
      "\n",
      " Columns 421 through 426:\n",
      "\n",
      "   -5.875959   -5.513434   -4.101479   -5.952622  -11.682405  -10.015169\n",
      "\n",
      " Columns 427 through 432:\n",
      "\n",
      "   -9.049988  -11.829066   -3.337349   -9.134434   -3.500929    1.677625\n",
      "\n",
      " Columns 433 through 438:\n",
      "\n",
      "   -5.614498   -4.752594   -2.858971   -9.973489   -7.120685   -0.648305\n",
      "\n",
      " Columns 439 through 444:\n",
      "\n",
      "   -4.156549   -9.509232  -12.507954   -7.915621  -11.577620  -10.864617\n",
      "\n",
      " Columns 445 through 450:\n",
      "\n",
      "   -0.097736  -10.305562   -7.510721  -10.801506    1.340957   -3.207494\n",
      "\n",
      " Columns 451 through 456:\n",
      "\n",
      "   -6.611835   -2.660623   -5.848748  -10.436776   -5.225200   -8.423366\n",
      "\n",
      " Columns 457 through 462:\n",
      "\n",
      "  -12.644662   -3.140762   -8.045750  -10.238258  -11.988626   -6.218513\n",
      "\n",
      " Columns 463 through 468:\n",
      "\n",
      "   -3.929404   -4.094197   -7.266258  -13.384207   -7.666708   -6.965016\n",
      "\n",
      " Columns 469 through 474:\n",
      "\n",
      "   -2.891412   -8.390394   -6.709978    0.487486  -11.303072   -7.498675\n",
      "\n",
      " Columns 475 through 480:\n",
      "\n",
      "  -12.499735   -0.435395   -8.311235   -8.296357   -0.964165   -9.047846\n",
      "\n",
      " Columns 481 through 486:\n",
      "\n",
      "   -4.309990   -6.598748   -8.547734  -10.504337   -3.577089   -6.551861\n",
      "\n",
      " Columns 487 through 492:\n",
      "\n",
      "   -0.897209   -4.234515   -7.292449   -5.701198   -4.986772   -7.225460\n",
      "\n",
      " Columns 493 through 498:\n",
      "\n",
      "   -0.674569   -2.644745   -4.794083   -1.053323   -6.896970  -13.773016\n",
      "\n",
      " Columns 499 through 504:\n",
      "\n",
      "   -6.021733   -2.860185   -4.782742   -6.867022   -9.839247   -3.192304\n",
      "\n",
      " Columns 505 through 510:\n",
      "\n",
      "   -1.695947   -7.179175   -7.548935   -7.331672   -5.499232   -2.533677\n",
      "\n",
      " Columns 511 through 516:\n",
      "\n",
      "   -9.238180   -5.923509   -5.336031   -5.832038    0.413261   -4.926835\n",
      "\n",
      " Columns 517 through 522:\n",
      "\n",
      "   -7.999113   -5.613540   -1.936456   -3.130269   -8.106314  -10.296358\n",
      "\n",
      " Columns 523 through 528:\n",
      "\n",
      "   -7.748100   -5.308980  -12.504269   -4.685912   -4.851920   -5.385734\n",
      "\n",
      " Columns 529 through 534:\n",
      "\n",
      "  -10.546337   -7.077932   -3.771190   -6.026559   -9.622254   -4.824153\n",
      "\n",
      " Columns 535 through 540:\n",
      "\n",
      "   -3.966406  -12.854739   -3.152747   -4.511988   -2.573805   -5.757754\n",
      "\n",
      " Columns 541 through 546:\n",
      "\n",
      "    0.997914   -5.737180   -6.696348   -2.103396   -6.539881   -8.329383\n",
      "\n",
      " Columns 547 through 552:\n",
      "\n",
      "  -10.056433  -11.755481   -6.701977   -5.616228   -6.153021   -3.919870\n",
      "\n",
      " Columns 553 through 558:\n",
      "\n",
      "   -2.778815   -7.152381   -6.265208   -1.504921   -6.394373   -8.723915\n",
      "\n",
      " Columns 559 through 564:\n",
      "\n",
      "   -1.228429   -4.365487  -13.769045  -11.768536   -6.491750   -6.850429\n",
      "\n",
      " Columns 565 through 570:\n",
      "\n",
      "  -11.121671   -9.343623   -5.213146   -4.992986   -3.748819   -0.015813\n",
      "\n",
      " Columns 571 through 576:\n",
      "\n",
      "   -4.440641   -3.477975   -6.173541   -1.099726  -11.195121   -8.386551\n",
      "\n",
      " Columns 577 through 582:\n",
      "\n",
      "   -7.409842  -13.737591   -7.123562   -6.055243   -8.020374   -5.105577\n",
      "\n",
      " Columns 583 through 588:\n",
      "\n",
      "   -3.785836   -8.949324  -13.307586   -3.939324   -6.844040   -4.233902\n",
      "\n",
      " Columns 589 through 594:\n",
      "\n",
      "   -8.024170   -4.945896   -8.518583   -1.131663   -3.679044   -1.389360\n",
      "\n",
      " Columns 595 through 600:\n",
      "\n",
      "   -9.729476   -6.626825   -5.901567   -2.995902   -7.435949   -4.113612\n",
      "\n",
      " Columns 601 through 606:\n",
      "\n",
      "   -1.778673   -8.486991   -4.537247   -3.350312   -9.769233   -7.075161\n",
      "\n",
      " Columns 607 through 612:\n",
      "\n",
      "   -4.501407   -4.881919   -6.239354   -7.692661  -11.529687   -3.628242\n",
      "\n",
      " Columns 613 through 618:\n",
      "\n",
      "   -2.855366   -7.334493   -3.565044   -6.533250   -3.806332   -4.197587\n",
      "\n",
      " Columns 619 through 624:\n",
      "\n",
      "   -5.659725   -2.225473   -6.910693   -8.903083   -0.709080   -8.770906\n",
      "\n",
      " Columns 625 through 630:\n",
      "\n",
      "   -8.400930   -6.482588   -7.617398   -8.675008   -3.190714    1.372592\n",
      "\n",
      " Columns 631 through 636:\n",
      "\n",
      "   -7.834878   -8.963242   -7.286365   -7.019793   -5.635928   -3.231399\n",
      "\n",
      " Columns 637 through 642:\n",
      "\n",
      "   -3.758973   -1.058498   -6.943375   -7.078494   -7.480455   -1.338969\n",
      "\n",
      " Columns 643 through 648:\n",
      "\n",
      "  -10.020452   -6.416192  -11.845110   -4.197251   -5.094117   -8.724953\n",
      "\n",
      " Columns 649 through 654:\n",
      "\n",
      "   -0.786251   -8.960896   -2.187220   -3.271456  -10.198037   -9.631867\n",
      "\n",
      " Columns 655 through 660:\n",
      "\n",
      "   -4.703078   -2.487430   -8.050557   -3.149117   -7.872775   -6.388945\n",
      "\n",
      " Columns 661 through 666:\n",
      "\n",
      "   -0.148899   -9.331495  -11.652643   -6.594159   -3.620100   -8.666624\n",
      "\n",
      " Columns 667 through 672:\n",
      "\n",
      "   -7.457564  -10.221931   -2.061530   -2.772756   -6.202115   -2.892609\n",
      "\n",
      " Columns 673 through 678:\n",
      "\n",
      "   -1.653018   -6.082749   -5.139508   -6.443949   -2.349119   -7.124091\n",
      "\n",
      " Columns 679 through 684:\n",
      "\n",
      "  -11.506160   -7.710318   -7.952303   -8.066873   -8.445691   -9.190487\n",
      "\n",
      " Columns 685 through 690:\n",
      "\n",
      "   -9.987747   -3.255353   -0.628840   -2.876968   -7.635715   -8.020710\n",
      "\n",
      " Columns 691 through 696:\n",
      "\n",
      "   -8.891859   -8.920269   -3.749411   -6.101501  -10.629404   -4.239663\n",
      "\n",
      " Columns 697 through 702:\n",
      "\n",
      "   -1.263204   -6.570039   -5.573263   -2.494805   -2.806061   -6.859857\n",
      "\n",
      " Columns 703 through 708:\n",
      "\n",
      "   -4.879857   -9.557046  -11.857831   -8.350444  -10.176342  -10.200714\n",
      "\n",
      " Columns 709 through 714:\n",
      "\n",
      "   -2.345316   -3.074617   -5.200802   -4.364268   -5.689877   -4.530320\n",
      "\n",
      " Columns 715 through 720:\n",
      "\n",
      "   -6.563463   -6.527228  -12.006161   -8.488671   -6.599914   -6.423209\n",
      "\n",
      " Columns 721 through 726:\n",
      "\n",
      "   -1.443092   -5.408951   -3.897917   -3.303342   -6.980531   -4.887718\n",
      "\n",
      " Columns 727 through 732:\n",
      "\n",
      "   -2.184993   -8.006656   -7.390963   -7.104288    2.102388   -1.808442\n",
      "\n",
      " Columns 733 through 738:\n",
      "\n",
      "   -7.493939  -11.317869   -4.563580   -1.815643   -2.616760  -10.253115\n",
      "\n",
      " Columns 739 through 744:\n",
      "\n",
      "  -11.612952   -5.536150   -6.454487   -4.196028   -8.244831   -2.523431\n",
      "\n",
      " Columns 745 through 750:\n",
      "\n",
      "   -5.837046   -4.506306   -3.990832   -7.132848   -2.801252   -4.379252\n",
      "\n",
      " Columns 751 through 756:\n",
      "\n",
      "  -13.057223   -8.193062   -7.464338   -5.530123   -3.791408   -7.325677\n",
      "\n",
      " Columns 757 through 762:\n",
      "\n",
      "   -5.586678   -1.817527   -4.045251   -8.572246   -3.099371   -5.407853\n",
      "\n",
      " Columns 763 through 768:\n",
      "\n",
      "   -9.117436   -8.274649   -2.695536   -7.051240   -6.284249   -1.384758\n",
      "\n",
      " Columns 769 through 774:\n",
      "\n",
      "   -1.992642   -4.960490   -5.411980   -5.493869   -1.403703  -10.621656\n",
      "\n",
      " Columns 775 through 780:\n",
      "\n",
      "   -9.212558   -3.956845    0.146613   -7.487237   -5.596658   -3.235443\n",
      "\n",
      " Columns 781 through 786:\n",
      "\n",
      "   -3.049908   -1.050136  -10.841431   -6.074808   -9.214021   -0.942217\n",
      "\n",
      " Columns 787 through 792:\n",
      "\n",
      "   -6.712903   -3.800220   -8.394152   -4.856430   -5.629106  -13.028809\n",
      "\n",
      " Columns 793 through 798:\n",
      "\n",
      "    0.695321   -6.529943   -7.043225   -1.342355   -5.634729   -7.460635\n",
      "\n",
      " Columns 799 through 804:\n",
      "\n",
      "   -5.762180   -2.064793   -8.364144    2.226135   -0.390853   -5.608853\n",
      "\n",
      " Columns 805 through 810:\n",
      "\n",
      "   -5.483518   -4.692015   -9.134634   -2.163784   -5.538049   -3.543903\n",
      "\n",
      " Columns 811 through 816:\n",
      "\n",
      "   -1.519737   -4.151296    0.363740   -6.586553   -4.036437   -3.821033\n",
      "\n",
      " Columns 817 through 822:\n",
      "\n",
      "   -1.502815    0.716657   -5.256452  -13.613733   -8.668381   -8.746615\n",
      "\n",
      " Columns 823 through 828:\n",
      "\n",
      "   -3.798772   -8.977155   -6.618817   -4.817598   -7.930331   -1.843658\n",
      "\n",
      " Columns 829 through 834:\n",
      "\n",
      "   -0.660382   -1.545258   -1.370099   -4.818492   -6.239708    1.329986\n",
      "\n",
      " Columns 835 through 840:\n",
      "\n",
      "   -0.229850   -1.836019    1.005429   -3.030705   -3.338443   -3.809998\n",
      "\n",
      " Columns 841 through 846:\n",
      "\n",
      "   -0.830971  -10.810044   -8.239957   -8.629543    0.208189   -5.023646\n",
      "\n",
      " Columns 847 through 852:\n",
      "\n",
      "  -10.681277  -13.870854   -7.906447   -2.667522   -3.490360   -3.137029\n",
      "\n",
      " Columns 853 through 858:\n",
      "\n",
      "   -3.961436    0.486155   -8.525411   -1.285346   -8.386199   -2.907884\n",
      "\n",
      " Columns 859 through 864:\n",
      "\n",
      "   -4.439742   -9.415780  -11.301499   -6.840333  -13.420878  -13.450820\n",
      "\n",
      " Columns 865 through 870:\n",
      "\n",
      "  -14.365239  -12.101373    0.536992   -6.733699   -8.620083  -10.206216\n",
      "\n",
      " Columns 871 through 876:\n",
      "\n",
      "   -4.700058  -11.097849   -5.707842  -11.825307  -12.533048   -8.247702\n",
      "\n",
      " Columns 877 through 882:\n",
      "\n",
      "  -10.869048   -0.173283   -7.073617   -9.356078   -0.200324   -9.868731\n",
      "\n",
      " Columns 883 through 888:\n",
      "\n",
      "   -8.417350   -2.709803  -12.803803   -7.270749   -4.876043  -10.220600\n",
      "\n",
      " Columns 889 through 894:\n",
      "\n",
      "   -7.980109    0.046452   -9.250586   -6.152710  -11.121896   -7.798106\n",
      "\n",
      " Columns 895 through 900:\n",
      "\n",
      "   -1.557918   -7.689411   -7.312459    2.394571    3.381378   -7.748566\n",
      "\n",
      " Columns 901 through 906:\n",
      "\n",
      "   -5.745721   -8.512401   -4.433855   -6.262888   -6.622554   -9.633268\n",
      "\n",
      " Columns 907 through 912:\n",
      "\n",
      "   -4.368269   -8.502053   -5.986911  -10.382180   -9.546165   -2.238302\n",
      "\n",
      " Columns 913 through 918:\n",
      "\n",
      "   -7.116070   -8.069245   -4.504598  -10.136957  -10.055393   -2.137619\n",
      "\n",
      " Columns 919 through 924:\n",
      "\n",
      "   -7.621689   -8.040303   -0.015166   -1.705347   -4.314143   -4.786883\n",
      "\n",
      " Columns 925 through 930:\n",
      "\n",
      "   -6.720779   -2.338973   -4.843627   -8.730455   -7.717947   -5.836305\n",
      "\n",
      " Columns 931 through 936:\n",
      "\n",
      "   -9.768776   -3.731108   -3.300209   -9.375142    0.239134   -5.826455\n",
      "\n",
      " Columns 937 through 942:\n",
      "\n",
      "  -10.764555   -3.911531  -10.558976  -12.452787   -8.576422   -5.773513\n",
      "\n",
      " Columns 943 through 948:\n",
      "\n",
      "   -4.847372   -6.169728   -3.282674  -11.912100   -7.649006   -5.816456\n",
      "\n",
      " Columns 949 through 954:\n",
      "\n",
      "  -10.906826   -7.248134   -9.254809   -8.918417   -9.825428   -6.381079\n",
      "\n",
      " Columns 955 through 960:\n",
      "\n",
      "   -4.526326   -6.053634  -11.026900   -0.825595   -1.381767   -6.959682\n",
      "\n",
      " Columns 961 through 966:\n",
      "\n",
      "   -8.194393    2.148340   -5.890009   -4.745217   -2.112055   -5.437939\n",
      "\n",
      " Columns 967 through 972:\n",
      "\n",
      "   -8.428213   -2.041735   -5.630359   -7.101447   -6.804263   -2.528846\n",
      "\n",
      " Columns 973 through 978:\n",
      "\n",
      "   -9.092298   -8.992911   -3.446973   -9.098901   -3.610632   -2.663679\n",
      "\n",
      " Columns 979 through 984:\n",
      "\n",
      "   -5.632837   -4.989505  -12.256689    0.694126    0.268357   -8.209318\n",
      "\n",
      " Columns 985 through 990:\n",
      "\n",
      "   -6.892784   -6.100860   -8.698437   -3.376093   -4.639630   -7.487493\n",
      "\n",
      " Columns 991 through 996:\n",
      "\n",
      "   -2.987103   -3.916378   -6.182755   -2.326276  -14.301909   -7.705191\n",
      "\n",
      " Columns 997 through 1000:\n",
      "\n",
      "   -6.459095   -9.583969   -1.226833   -4.697826\n",
      "\n"
     ]
    }
   ],
   "source": [
    "w = -6 + sqrt(10) * (randn(1,1000))"
   ]
  },
  {
   "cell_type": "code",
   "execution_count": 7,
   "metadata": {
    "collapsed": false
   },
   "outputs": [
    {
     "data": {
      "image/svg+xml": [
       "<svg height=\"420px\" viewBox=\"0 0 576 432\" width=\"560px\" xmlns=\"http://www.w3.org/2000/svg\" xmlns:xlink=\"http://www.w3.org/1999/xlink\">\n",
       "\n",
       "<title>Gnuplot</title>\n",
       "<desc>Produced by GNUPLOT 5.0 patchlevel 5 </desc>\n",
       "\n",
       "<g id=\"gnuplot_canvas\">\n",
       "\n",
       "<rect fill=\"#ffffff\" height=\"432\" width=\"576\" x=\"0\" y=\"0\"/>\n",
       "<defs>\n",
       "\n",
       "\t<circle id=\"gpDot\" r=\"0.5\" stroke-width=\"0.5\"/>\n",
       "\t<path d=\"M-1,0 h2 M0,-1 v2\" id=\"gpPt0\" stroke=\"currentColor\" stroke-width=\"0.333\"/>\n",
       "\t<path d=\"M-1,-1 L1,1 M1,-1 L-1,1\" id=\"gpPt1\" stroke=\"currentColor\" stroke-width=\"0.333\"/>\n",
       "\t<path d=\"M-1,0 L1,0 M0,-1 L0,1 M-1,-1 L1,1 M-1,1 L1,-1\" id=\"gpPt2\" stroke=\"currentColor\" stroke-width=\"0.333\"/>\n",
       "\t<rect height=\"2\" id=\"gpPt3\" stroke=\"currentColor\" stroke-width=\"0.333\" width=\"2\" x=\"-1\" y=\"-1\"/>\n",
       "\t<rect fill=\"currentColor\" height=\"2\" id=\"gpPt4\" stroke=\"currentColor\" stroke-width=\"0.333\" width=\"2\" x=\"-1\" y=\"-1\"/>\n",
       "\t<circle cx=\"0\" cy=\"0\" id=\"gpPt5\" r=\"1\" stroke=\"currentColor\" stroke-width=\"0.333\"/>\n",
       "\t<use fill=\"currentColor\" id=\"gpPt6\" stroke=\"none\" xlink:href=\"#gpPt5\"/>\n",
       "\t<path d=\"M0,-1.33 L-1.33,0.67 L1.33,0.67 z\" id=\"gpPt7\" stroke=\"currentColor\" stroke-width=\"0.333\"/>\n",
       "\t<use fill=\"currentColor\" id=\"gpPt8\" stroke=\"none\" xlink:href=\"#gpPt7\"/>\n",
       "\t<use id=\"gpPt9\" stroke=\"currentColor\" transform=\"rotate(180)\" xlink:href=\"#gpPt7\"/>\n",
       "\t<use fill=\"currentColor\" id=\"gpPt10\" stroke=\"none\" xlink:href=\"#gpPt9\"/>\n",
       "\t<use id=\"gpPt11\" stroke=\"currentColor\" transform=\"rotate(45)\" xlink:href=\"#gpPt3\"/>\n",
       "\t<use fill=\"currentColor\" id=\"gpPt12\" stroke=\"none\" xlink:href=\"#gpPt11\"/>\n",
       "\t<path d=\"M0,1.330 L1.265,0.411 L0.782,-1.067 L-0.782,-1.076 L-1.265,0.411 z\" id=\"gpPt13\" stroke=\"currentColor\" stroke-width=\"0.333\"/>\n",
       "\t<use fill=\"currentColor\" id=\"gpPt14\" stroke=\"none\" xlink:href=\"#gpPt13\"/>\n",
       "\t<filter filterUnits=\"objectBoundingBox\" height=\"1\" id=\"textbox\" width=\"1\" x=\"0\" y=\"0\">\n",
       "\t  <feFlood flood-color=\"#FFFFFF\" flood-opacity=\"1\" result=\"bgnd\"/>\n",
       "\t  <feComposite in=\"SourceGraphic\" in2=\"bgnd\" operator=\"atop\"/>\n",
       "\t</filter>\n",
       "\t<filter filterUnits=\"objectBoundingBox\" height=\"1\" id=\"greybox\" width=\"1\" x=\"0\" y=\"0\">\n",
       "\t  <feFlood flood-color=\"lightgrey\" flood-opacity=\"1\" result=\"grey\"/>\n",
       "\t  <feComposite in=\"SourceGraphic\" in2=\"grey\" operator=\"atop\"/>\n",
       "\t</filter>\n",
       "</defs>\n",
       "<g color=\"#FFFFFF\" fill=\"none\" stroke=\"currentColor\" stroke-linecap=\"butt\" stroke-linejoin=\"miter\" stroke-width=\"1.00\">\n",
       "</g>\n",
       "<g color=\"black\" fill=\"none\" stroke=\"currentColor\" stroke-linecap=\"butt\" stroke-linejoin=\"miter\" stroke-width=\"1.00\">\n",
       "\t<g shape-rendering=\"crispEdges\" stroke=\"none\">\n",
       "\t\t<polygon fill=\"rgb(255, 255, 255)\" points=\"30.8,408.0 559.0,408.0 559.0,11.4 30.8,11.4 \"/>\n",
       "\t</g>\n",
       "</g>\n",
       "<g color=\"black\" fill=\"none\" stroke=\"currentColor\" stroke-linecap=\"butt\" stroke-linejoin=\"miter\" stroke-width=\"1.00\">\n",
       "\t<path d=\"M30.8,408.0 L39.2,408.0 M559.1,408.0 L550.7,408.0  \" stroke=\"rgb(  0,   0,   0)\"/>\t<g fill=\"rgb(38,38,38)\" font-family=\"Arial\" font-size=\"10.00\" stroke=\"none\" text-anchor=\"end\" transform=\"translate(25.2,411.3)\">\n",
       "\t\t<text><tspan font-family=\"Arial\">0</tspan></text>\n",
       "\t</g>\n",
       "</g>\n",
       "<g color=\"black\" fill=\"none\" stroke=\"currentColor\" stroke-linecap=\"butt\" stroke-linejoin=\"miter\" stroke-width=\"1.00\">\n",
       "\t<path d=\"M30.8,328.7 L39.2,328.7 M559.1,328.7 L550.7,328.7  \" stroke=\"rgb(  0,   0,   0)\"/>\t<g fill=\"rgb(38,38,38)\" font-family=\"Arial\" font-size=\"10.00\" stroke=\"none\" text-anchor=\"end\" transform=\"translate(25.2,332.0)\">\n",
       "\t\t<text><tspan font-family=\"Arial\">50</tspan></text>\n",
       "\t</g>\n",
       "</g>\n",
       "<g color=\"black\" fill=\"none\" stroke=\"currentColor\" stroke-linecap=\"butt\" stroke-linejoin=\"miter\" stroke-width=\"1.00\">\n",
       "\t<path d=\"M30.8,249.3 L39.2,249.3 M559.1,249.3 L550.7,249.3  \" stroke=\"rgb(  0,   0,   0)\"/>\t<g fill=\"rgb(38,38,38)\" font-family=\"Arial\" font-size=\"10.00\" stroke=\"none\" text-anchor=\"end\" transform=\"translate(25.2,252.6)\">\n",
       "\t\t<text><tspan font-family=\"Arial\">100</tspan></text>\n",
       "\t</g>\n",
       "</g>\n",
       "<g color=\"black\" fill=\"none\" stroke=\"currentColor\" stroke-linecap=\"butt\" stroke-linejoin=\"miter\" stroke-width=\"1.00\">\n",
       "\t<path d=\"M30.8,170.0 L39.2,170.0 M559.1,170.0 L550.7,170.0  \" stroke=\"rgb(  0,   0,   0)\"/>\t<g fill=\"rgb(38,38,38)\" font-family=\"Arial\" font-size=\"10.00\" stroke=\"none\" text-anchor=\"end\" transform=\"translate(25.2,173.3)\">\n",
       "\t\t<text><tspan font-family=\"Arial\">150</tspan></text>\n",
       "\t</g>\n",
       "</g>\n",
       "<g color=\"black\" fill=\"none\" stroke=\"currentColor\" stroke-linecap=\"butt\" stroke-linejoin=\"miter\" stroke-width=\"1.00\">\n",
       "\t<path d=\"M30.8,90.6 L39.2,90.6 M559.1,90.6 L550.7,90.6  \" stroke=\"rgb(  0,   0,   0)\"/>\t<g fill=\"rgb(38,38,38)\" font-family=\"Arial\" font-size=\"10.00\" stroke=\"none\" text-anchor=\"end\" transform=\"translate(25.2,93.9)\">\n",
       "\t\t<text><tspan font-family=\"Arial\">200</tspan></text>\n",
       "\t</g>\n",
       "</g>\n",
       "<g color=\"black\" fill=\"none\" stroke=\"currentColor\" stroke-linecap=\"butt\" stroke-linejoin=\"miter\" stroke-width=\"1.00\">\n",
       "\t<path d=\"M30.8,11.3 L39.2,11.3 M559.1,11.3 L550.7,11.3  \" stroke=\"rgb(  0,   0,   0)\"/>\t<g fill=\"rgb(38,38,38)\" font-family=\"Arial\" font-size=\"10.00\" stroke=\"none\" text-anchor=\"end\" transform=\"translate(25.2,14.6)\">\n",
       "\t\t<text><tspan font-family=\"Arial\">250</tspan></text>\n",
       "\t</g>\n",
       "</g>\n",
       "<g color=\"black\" fill=\"none\" stroke=\"currentColor\" stroke-linecap=\"butt\" stroke-linejoin=\"miter\" stroke-width=\"1.00\">\n",
       "\t<path d=\"M30.8,408.0 L30.8,399.6 M30.8,11.3 L30.8,19.7  \" stroke=\"rgb(  0,   0,   0)\"/>\t<g fill=\"rgb(38,38,38)\" font-family=\"Arial\" font-size=\"10.00\" stroke=\"none\" text-anchor=\"middle\" transform=\"translate(30.8,423.3)\">\n",
       "\t\t<text><tspan font-family=\"Arial\">-15</tspan></text>\n",
       "\t</g>\n",
       "</g>\n",
       "<g color=\"black\" fill=\"none\" stroke=\"currentColor\" stroke-linecap=\"butt\" stroke-linejoin=\"miter\" stroke-width=\"1.00\">\n",
       "\t<path d=\"M162.9,408.0 L162.9,399.6 M162.9,11.3 L162.9,19.7  \" stroke=\"rgb(  0,   0,   0)\"/>\t<g fill=\"rgb(38,38,38)\" font-family=\"Arial\" font-size=\"10.00\" stroke=\"none\" text-anchor=\"middle\" transform=\"translate(162.9,423.3)\">\n",
       "\t\t<text><tspan font-family=\"Arial\">-10</tspan></text>\n",
       "\t</g>\n",
       "</g>\n",
       "<g color=\"black\" fill=\"none\" stroke=\"currentColor\" stroke-linecap=\"butt\" stroke-linejoin=\"miter\" stroke-width=\"1.00\">\n",
       "\t<path d=\"M295.0,408.0 L295.0,399.6 M295.0,11.3 L295.0,19.7  \" stroke=\"rgb(  0,   0,   0)\"/>\t<g fill=\"rgb(38,38,38)\" font-family=\"Arial\" font-size=\"10.00\" stroke=\"none\" text-anchor=\"middle\" transform=\"translate(295.0,423.3)\">\n",
       "\t\t<text><tspan font-family=\"Arial\">-5</tspan></text>\n",
       "\t</g>\n",
       "</g>\n",
       "<g color=\"black\" fill=\"none\" stroke=\"currentColor\" stroke-linecap=\"butt\" stroke-linejoin=\"miter\" stroke-width=\"1.00\">\n",
       "\t<path d=\"M427.0,408.0 L427.0,399.6 M427.0,11.3 L427.0,19.7  \" stroke=\"rgb(  0,   0,   0)\"/>\t<g fill=\"rgb(38,38,38)\" font-family=\"Arial\" font-size=\"10.00\" stroke=\"none\" text-anchor=\"middle\" transform=\"translate(427.0,423.3)\">\n",
       "\t\t<text><tspan font-family=\"Arial\">0</tspan></text>\n",
       "\t</g>\n",
       "</g>\n",
       "<g color=\"black\" fill=\"none\" stroke=\"currentColor\" stroke-linecap=\"butt\" stroke-linejoin=\"miter\" stroke-width=\"1.00\">\n",
       "\t<path d=\"M559.1,408.0 L559.1,399.6 M559.1,11.3 L559.1,19.7  \" stroke=\"rgb(  0,   0,   0)\"/>\t<g fill=\"rgb(38,38,38)\" font-family=\"Arial\" font-size=\"10.00\" stroke=\"none\" text-anchor=\"middle\" transform=\"translate(559.1,423.3)\">\n",
       "\t\t<text><tspan font-family=\"Arial\">5</tspan></text>\n",
       "\t</g>\n",
       "</g>\n",
       "<g color=\"black\" fill=\"none\" stroke=\"currentColor\" stroke-linecap=\"butt\" stroke-linejoin=\"miter\" stroke-width=\"1.00\">\n",
       "</g>\n",
       "<g color=\"black\" fill=\"none\" stroke=\"currentColor\" stroke-linecap=\"butt\" stroke-linejoin=\"miter\" stroke-width=\"1.00\">\n",
       "</g>\n",
       "\t<g id=\"gnuplot_plot_1a\"><title>gnuplot_plot_1a</title>\n",
       "<g color=\"black\" fill=\"none\" stroke=\"currentColor\" stroke-linecap=\"butt\" stroke-linejoin=\"miter\" stroke-width=\"1.00\">\n",
       "\t<g shape-rendering=\"crispEdges\" stroke=\"none\">\n",
       "\t\t<polygon fill=\"rgb( 68,   1,  84)\" points=\"39.8,408.0 39.8,377.9 90.6,377.9 90.6,408.0 \"/>\n",
       "\t</g>\n",
       "\t<path d=\"M39.8,408.0 L39.8,377.9 L90.6,377.9 L90.6,408.0  \" stroke=\"rgb( 68,   1,  84)\"/></g>\n",
       "\t</g>\n",
       "\t<g id=\"gnuplot_plot_2a\"><title>gnuplot_plot_2a</title>\n",
       "<g color=\"#FFFFFF\" fill=\"none\" stroke=\"rgb( 68,   1,  84)\" stroke-linecap=\"butt\" stroke-linejoin=\"miter\" stroke-width=\"0.50\">\n",
       "</g>\n",
       "<g color=\"black\" fill=\"none\" stroke=\"currentColor\" stroke-linecap=\"butt\" stroke-linejoin=\"miter\" stroke-width=\"0.50\">\n",
       "\t<path d=\"M39.8,408.0 L39.8,377.9 L90.6,377.9 L90.6,408.0 L39.8,408.0  \" stroke=\"rgb(  0,   0,   0)\"/></g>\n",
       "\t</g>\n",
       "\t<g id=\"gnuplot_plot_3a\"><title>gnuplot_plot_3a</title>\n",
       "<g color=\"#FFFFFF\" fill=\"none\" stroke=\"rgb(  0,   0,   0)\" stroke-linecap=\"butt\" stroke-linejoin=\"miter\" stroke-width=\"1.00\">\n",
       "</g>\n",
       "<g color=\"black\" fill=\"none\" stroke=\"currentColor\" stroke-linecap=\"butt\" stroke-linejoin=\"miter\" stroke-width=\"1.00\">\n",
       "\t<g shape-rendering=\"crispEdges\" stroke=\"none\">\n",
       "\t\t<polygon fill=\"rgb( 68,   1,  84)\" points=\"90.6,408.0 90.6,320.7 141.4,320.7 141.4,408.0 \"/>\n",
       "\t</g>\n",
       "\t<path d=\"M90.6,408.0 L90.6,320.7 L141.4,320.7 L141.4,408.0  \" stroke=\"rgb( 68,   1,  84)\"/></g>\n",
       "\t</g>\n",
       "\t<g id=\"gnuplot_plot_4a\"><title>gnuplot_plot_4a</title>\n",
       "<g color=\"#FFFFFF\" fill=\"none\" stroke=\"rgb( 68,   1,  84)\" stroke-linecap=\"butt\" stroke-linejoin=\"miter\" stroke-width=\"0.50\">\n",
       "</g>\n",
       "<g color=\"black\" fill=\"none\" stroke=\"currentColor\" stroke-linecap=\"butt\" stroke-linejoin=\"miter\" stroke-width=\"0.50\">\n",
       "\t<path d=\"M90.6,408.0 L90.6,320.7 L141.4,320.7 L141.4,408.0 L90.6,408.0  \" stroke=\"rgb(  0,   0,   0)\"/></g>\n",
       "\t</g>\n",
       "\t<g id=\"gnuplot_plot_5a\"><title>gnuplot_plot_5a</title>\n",
       "<g color=\"#FFFFFF\" fill=\"none\" stroke=\"rgb(  0,   0,   0)\" stroke-linecap=\"butt\" stroke-linejoin=\"miter\" stroke-width=\"1.00\">\n",
       "</g>\n",
       "<g color=\"black\" fill=\"none\" stroke=\"currentColor\" stroke-linecap=\"butt\" stroke-linejoin=\"miter\" stroke-width=\"1.00\">\n",
       "\t<g shape-rendering=\"crispEdges\" stroke=\"none\">\n",
       "\t\t<polygon fill=\"rgb( 68,   1,  84)\" points=\"141.4,408.0 141.4,214.4 192.2,214.4 192.2,408.0 \"/>\n",
       "\t</g>\n",
       "\t<path d=\"M141.4,408.0 L141.4,214.4 L192.2,214.4 L192.2,408.0  \" stroke=\"rgb( 68,   1,  84)\"/></g>\n",
       "\t</g>\n",
       "\t<g id=\"gnuplot_plot_6a\"><title>gnuplot_plot_6a</title>\n",
       "<g color=\"#FFFFFF\" fill=\"none\" stroke=\"rgb( 68,   1,  84)\" stroke-linecap=\"butt\" stroke-linejoin=\"miter\" stroke-width=\"0.50\">\n",
       "</g>\n",
       "<g color=\"black\" fill=\"none\" stroke=\"currentColor\" stroke-linecap=\"butt\" stroke-linejoin=\"miter\" stroke-width=\"0.50\">\n",
       "\t<path d=\"M141.4,408.0 L141.4,214.4 L192.2,214.4 L192.2,408.0 L141.4,408.0  \" stroke=\"rgb(  0,   0,   0)\"/></g>\n",
       "\t</g>\n",
       "\t<g id=\"gnuplot_plot_7a\"><title>gnuplot_plot_7a</title>\n",
       "<g color=\"#FFFFFF\" fill=\"none\" stroke=\"rgb(  0,   0,   0)\" stroke-linecap=\"butt\" stroke-linejoin=\"miter\" stroke-width=\"1.00\">\n",
       "</g>\n",
       "<g color=\"black\" fill=\"none\" stroke=\"currentColor\" stroke-linecap=\"butt\" stroke-linejoin=\"miter\" stroke-width=\"1.00\">\n",
       "\t<g shape-rendering=\"crispEdges\" stroke=\"none\">\n",
       "\t\t<polygon fill=\"rgb( 68,   1,  84)\" points=\"192.2,408.0 192.2,127.1 243.0,127.1 243.0,408.0 \"/>\n",
       "\t</g>\n",
       "\t<path d=\"M192.2,408.0 L192.2,127.1 L243.0,127.1 L243.0,408.0  \" stroke=\"rgb( 68,   1,  84)\"/></g>\n",
       "\t</g>\n",
       "\t<g id=\"gnuplot_plot_8a\"><title>gnuplot_plot_8a</title>\n",
       "<g color=\"#FFFFFF\" fill=\"none\" stroke=\"rgb( 68,   1,  84)\" stroke-linecap=\"butt\" stroke-linejoin=\"miter\" stroke-width=\"0.50\">\n",
       "</g>\n",
       "<g color=\"black\" fill=\"none\" stroke=\"currentColor\" stroke-linecap=\"butt\" stroke-linejoin=\"miter\" stroke-width=\"0.50\">\n",
       "\t<path d=\"M192.2,408.0 L192.2,127.1 L243.0,127.1 L243.0,408.0 L192.2,408.0  \" stroke=\"rgb(  0,   0,   0)\"/></g>\n",
       "\t</g>\n",
       "\t<g id=\"gnuplot_plot_9a\"><title>gnuplot_plot_9a</title>\n",
       "<g color=\"#FFFFFF\" fill=\"none\" stroke=\"rgb(  0,   0,   0)\" stroke-linecap=\"butt\" stroke-linejoin=\"miter\" stroke-width=\"1.00\">\n",
       "</g>\n",
       "<g color=\"black\" fill=\"none\" stroke=\"currentColor\" stroke-linecap=\"butt\" stroke-linejoin=\"miter\" stroke-width=\"1.00\">\n",
       "\t<g shape-rendering=\"crispEdges\" stroke=\"none\">\n",
       "\t\t<polygon fill=\"rgb( 68,   1,  84)\" points=\"243.0,408.0 243.0,46.2 293.8,46.2 293.8,408.0 \"/>\n",
       "\t</g>\n",
       "\t<path d=\"M243.0,408.0 L243.0,46.2 L293.8,46.2 L293.8,408.0  \" stroke=\"rgb( 68,   1,  84)\"/></g>\n",
       "\t</g>\n",
       "\t<g id=\"gnuplot_plot_10a\"><title>gnuplot_plot_10a</title>\n",
       "<g color=\"#FFFFFF\" fill=\"none\" stroke=\"rgb( 68,   1,  84)\" stroke-linecap=\"butt\" stroke-linejoin=\"miter\" stroke-width=\"0.50\">\n",
       "</g>\n",
       "<g color=\"black\" fill=\"none\" stroke=\"currentColor\" stroke-linecap=\"butt\" stroke-linejoin=\"miter\" stroke-width=\"0.50\">\n",
       "\t<path d=\"M243.0,408.0 L243.0,46.2 L293.8,46.2 L293.8,408.0 L243.0,408.0  \" stroke=\"rgb(  0,   0,   0)\"/></g>\n",
       "\t</g>\n",
       "\t<g id=\"gnuplot_plot_11a\"><title>gnuplot_plot_11a</title>\n",
       "<g color=\"#FFFFFF\" fill=\"none\" stroke=\"rgb(  0,   0,   0)\" stroke-linecap=\"butt\" stroke-linejoin=\"miter\" stroke-width=\"1.00\">\n",
       "</g>\n",
       "<g color=\"black\" fill=\"none\" stroke=\"currentColor\" stroke-linecap=\"butt\" stroke-linejoin=\"miter\" stroke-width=\"1.00\">\n",
       "\t<g shape-rendering=\"crispEdges\" stroke=\"none\">\n",
       "\t\t<polygon fill=\"rgb( 68,   1,  84)\" points=\"293.8,408.0 293.8,103.3 344.6,103.3 344.6,408.0 \"/>\n",
       "\t</g>\n",
       "\t<path d=\"M293.8,408.0 L293.8,103.3 L344.6,103.3 L344.6,408.0  \" stroke=\"rgb( 68,   1,  84)\"/></g>\n",
       "\t</g>\n",
       "\t<g id=\"gnuplot_plot_12a\"><title>gnuplot_plot_12a</title>\n",
       "<g color=\"#FFFFFF\" fill=\"none\" stroke=\"rgb( 68,   1,  84)\" stroke-linecap=\"butt\" stroke-linejoin=\"miter\" stroke-width=\"0.50\">\n",
       "</g>\n",
       "<g color=\"black\" fill=\"none\" stroke=\"currentColor\" stroke-linecap=\"butt\" stroke-linejoin=\"miter\" stroke-width=\"0.50\">\n",
       "\t<path d=\"M293.8,408.0 L293.8,103.3 L344.6,103.3 L344.6,408.0 L293.8,408.0  \" stroke=\"rgb(  0,   0,   0)\"/></g>\n",
       "\t</g>\n",
       "\t<g id=\"gnuplot_plot_13a\"><title>gnuplot_plot_13a</title>\n",
       "<g color=\"#FFFFFF\" fill=\"none\" stroke=\"rgb(  0,   0,   0)\" stroke-linecap=\"butt\" stroke-linejoin=\"miter\" stroke-width=\"1.00\">\n",
       "</g>\n",
       "<g color=\"black\" fill=\"none\" stroke=\"currentColor\" stroke-linecap=\"butt\" stroke-linejoin=\"miter\" stroke-width=\"1.00\">\n",
       "\t<g shape-rendering=\"crispEdges\" stroke=\"none\">\n",
       "\t\t<polygon fill=\"rgb( 68,   1,  84)\" points=\"344.6,408.0 344.6,195.4 395.4,195.4 395.4,408.0 \"/>\n",
       "\t</g>\n",
       "\t<path d=\"M344.6,408.0 L344.6,195.4 L395.4,195.4 L395.4,408.0  \" stroke=\"rgb( 68,   1,  84)\"/></g>\n",
       "\t</g>\n",
       "\t<g id=\"gnuplot_plot_14a\"><title>gnuplot_plot_14a</title>\n",
       "<g color=\"#FFFFFF\" fill=\"none\" stroke=\"rgb( 68,   1,  84)\" stroke-linecap=\"butt\" stroke-linejoin=\"miter\" stroke-width=\"0.50\">\n",
       "</g>\n",
       "<g color=\"black\" fill=\"none\" stroke=\"currentColor\" stroke-linecap=\"butt\" stroke-linejoin=\"miter\" stroke-width=\"0.50\">\n",
       "\t<path d=\"M344.6,408.0 L344.6,195.4 L395.4,195.4 L395.4,408.0 L344.6,408.0  \" stroke=\"rgb(  0,   0,   0)\"/></g>\n",
       "\t</g>\n",
       "\t<g id=\"gnuplot_plot_15a\"><title>gnuplot_plot_15a</title>\n",
       "<g color=\"#FFFFFF\" fill=\"none\" stroke=\"rgb(  0,   0,   0)\" stroke-linecap=\"butt\" stroke-linejoin=\"miter\" stroke-width=\"1.00\">\n",
       "</g>\n",
       "<g color=\"black\" fill=\"none\" stroke=\"currentColor\" stroke-linecap=\"butt\" stroke-linejoin=\"miter\" stroke-width=\"1.00\">\n",
       "\t<g shape-rendering=\"crispEdges\" stroke=\"none\">\n",
       "\t\t<polygon fill=\"rgb( 68,   1,  84)\" points=\"395.4,408.0 395.4,320.7 446.2,320.7 446.2,408.0 \"/>\n",
       "\t</g>\n",
       "\t<path d=\"M395.4,408.0 L395.4,320.7 L446.2,320.7 L446.2,408.0  \" stroke=\"rgb( 68,   1,  84)\"/></g>\n",
       "\t</g>\n",
       "\t<g id=\"gnuplot_plot_16a\"><title>gnuplot_plot_16a</title>\n",
       "<g color=\"#FFFFFF\" fill=\"none\" stroke=\"rgb( 68,   1,  84)\" stroke-linecap=\"butt\" stroke-linejoin=\"miter\" stroke-width=\"0.50\">\n",
       "</g>\n",
       "<g color=\"black\" fill=\"none\" stroke=\"currentColor\" stroke-linecap=\"butt\" stroke-linejoin=\"miter\" stroke-width=\"0.50\">\n",
       "\t<path d=\"M395.4,408.0 L395.4,320.7 L446.2,320.7 L446.2,408.0 L395.4,408.0  \" stroke=\"rgb(  0,   0,   0)\"/></g>\n",
       "\t</g>\n",
       "\t<g id=\"gnuplot_plot_17a\"><title>gnuplot_plot_17a</title>\n",
       "<g color=\"#FFFFFF\" fill=\"none\" stroke=\"rgb(  0,   0,   0)\" stroke-linecap=\"butt\" stroke-linejoin=\"miter\" stroke-width=\"1.00\">\n",
       "</g>\n",
       "<g color=\"black\" fill=\"none\" stroke=\"currentColor\" stroke-linecap=\"butt\" stroke-linejoin=\"miter\" stroke-width=\"1.00\">\n",
       "\t<g shape-rendering=\"crispEdges\" stroke=\"none\">\n",
       "\t\t<polygon fill=\"rgb( 68,   1,  84)\" points=\"446.2,408.0 446.2,385.8 497.0,385.8 497.0,408.0 \"/>\n",
       "\t</g>\n",
       "\t<path d=\"M446.2,408.0 L446.2,385.8 L497.0,385.8 L497.0,408.0  \" stroke=\"rgb( 68,   1,  84)\"/></g>\n",
       "\t</g>\n",
       "\t<g id=\"gnuplot_plot_18a\"><title>gnuplot_plot_18a</title>\n",
       "<g color=\"#FFFFFF\" fill=\"none\" stroke=\"rgb( 68,   1,  84)\" stroke-linecap=\"butt\" stroke-linejoin=\"miter\" stroke-width=\"0.50\">\n",
       "</g>\n",
       "<g color=\"black\" fill=\"none\" stroke=\"currentColor\" stroke-linecap=\"butt\" stroke-linejoin=\"miter\" stroke-width=\"0.50\">\n",
       "\t<path d=\"M446.2,408.0 L446.2,385.8 L497.0,385.8 L497.0,408.0 L446.2,408.0  \" stroke=\"rgb(  0,   0,   0)\"/></g>\n",
       "\t</g>\n",
       "\t<g id=\"gnuplot_plot_19a\"><title>gnuplot_plot_19a</title>\n",
       "<g color=\"#FFFFFF\" fill=\"none\" stroke=\"rgb(  0,   0,   0)\" stroke-linecap=\"butt\" stroke-linejoin=\"miter\" stroke-width=\"1.00\">\n",
       "</g>\n",
       "<g color=\"black\" fill=\"none\" stroke=\"currentColor\" stroke-linecap=\"butt\" stroke-linejoin=\"miter\" stroke-width=\"1.00\">\n",
       "\t<g shape-rendering=\"crispEdges\" stroke=\"none\">\n",
       "\t\t<polygon fill=\"rgb( 68,   1,  84)\" points=\"497.0,408.0 497.0,401.7 547.8,401.7 547.8,408.0 \"/>\n",
       "\t</g>\n",
       "\t<path d=\"M497.0,408.0 L497.0,401.7 L547.8,401.7 L547.8,408.0  \" stroke=\"rgb( 68,   1,  84)\"/></g>\n",
       "\t</g>\n",
       "\t<g id=\"gnuplot_plot_20a\"><title>gnuplot_plot_20a</title>\n",
       "<g color=\"#FFFFFF\" fill=\"none\" stroke=\"rgb( 68,   1,  84)\" stroke-linecap=\"butt\" stroke-linejoin=\"miter\" stroke-width=\"0.50\">\n",
       "</g>\n",
       "<g color=\"black\" fill=\"none\" stroke=\"currentColor\" stroke-linecap=\"butt\" stroke-linejoin=\"miter\" stroke-width=\"0.50\">\n",
       "\t<path d=\"M497.0,408.0 L497.0,401.7 L547.8,401.7 L547.8,408.0 L497.0,408.0  \" stroke=\"rgb(  0,   0,   0)\"/></g>\n",
       "\t</g>\n",
       "\t<g id=\"gnuplot_plot_21a\"><title>gnuplot_plot_21a</title>\n",
       "<g color=\"black\" fill=\"none\" stroke=\"currentColor\" stroke-linecap=\"butt\" stroke-linejoin=\"miter\" stroke-width=\"0.50\">\n",
       "\t<path d=\"M30.8,408.0 L559.1,408.0  \" stroke=\"rgb(  0,   0,   0)\"/></g>\n",
       "\t</g>\n",
       "<g color=\"#FFFFFF\" fill=\"none\" stroke=\"rgb(  0,   0,   0)\" stroke-linecap=\"butt\" stroke-linejoin=\"miter\" stroke-width=\"2.00\">\n",
       "</g>\n",
       "<g color=\"black\" fill=\"none\" stroke=\"currentColor\" stroke-linecap=\"butt\" stroke-linejoin=\"miter\" stroke-width=\"2.00\">\n",
       "</g>\n",
       "<g color=\"black\" fill=\"none\" stroke=\"black\" stroke-linecap=\"butt\" stroke-linejoin=\"miter\" stroke-width=\"0.50\">\n",
       "</g>\n",
       "<g color=\"black\" fill=\"none\" stroke=\"currentColor\" stroke-linecap=\"butt\" stroke-linejoin=\"miter\" stroke-width=\"0.50\">\n",
       "\t<path d=\"M30.8,408.0 L559.1,408.0  \" stroke=\"rgb( 38,  38,  38)\"/></g>\n",
       "<g color=\"black\" fill=\"none\" stroke=\"currentColor\" stroke-linecap=\"butt\" stroke-linejoin=\"miter\" stroke-width=\"0.50\">\n",
       "\t<path d=\"M30.8,11.3 L559.1,11.3  \" stroke=\"rgb( 38,  38,  38)\"/></g>\n",
       "<g color=\"black\" fill=\"none\" stroke=\"currentColor\" stroke-linecap=\"butt\" stroke-linejoin=\"miter\" stroke-width=\"0.50\">\n",
       "\t<path d=\"M30.8,408.0 L30.8,11.3  \" stroke=\"rgb( 38,  38,  38)\"/></g>\n",
       "<g color=\"black\" fill=\"none\" stroke=\"currentColor\" stroke-linecap=\"butt\" stroke-linejoin=\"miter\" stroke-width=\"0.50\">\n",
       "\t<path d=\"M559.1,408.0 L559.1,11.3  \" stroke=\"rgb( 38,  38,  38)\"/></g>\n",
       "<g color=\"black\" fill=\"none\" stroke=\"rgb( 38,  38,  38)\" stroke-linecap=\"butt\" stroke-linejoin=\"miter\" stroke-width=\"1.00\">\n",
       "</g>\n",
       "<g color=\"black\" fill=\"none\" stroke=\"currentColor\" stroke-linecap=\"butt\" stroke-linejoin=\"miter\" stroke-width=\"1.00\">\n",
       "</g>\n",
       "</g>\n",
       "</svg>"
      ],
      "text/plain": [
       "<IPython.core.display.SVG object>"
      ]
     },
     "metadata": {},
     "output_type": "display_data"
    }
   ],
   "source": [
    "hist(w)"
   ]
  },
  {
   "cell_type": "code",
   "execution_count": 9,
   "metadata": {
    "collapsed": false
   },
   "outputs": [
    {
     "data": {
      "image/svg+xml": [
       "<svg height=\"420px\" viewBox=\"0 0 576 432\" width=\"560px\" xmlns=\"http://www.w3.org/2000/svg\" xmlns:xlink=\"http://www.w3.org/1999/xlink\">\n",
       "\n",
       "<title>Gnuplot</title>\n",
       "<desc>Produced by GNUPLOT 5.0 patchlevel 5 </desc>\n",
       "\n",
       "<g id=\"gnuplot_canvas\">\n",
       "\n",
       "<rect fill=\"#ffffff\" height=\"432\" width=\"576\" x=\"0\" y=\"0\"/>\n",
       "<defs>\n",
       "\n",
       "\t<circle id=\"gpDot\" r=\"0.5\" stroke-width=\"0.5\"/>\n",
       "\t<path d=\"M-1,0 h2 M0,-1 v2\" id=\"gpPt0\" stroke=\"currentColor\" stroke-width=\"0.333\"/>\n",
       "\t<path d=\"M-1,-1 L1,1 M1,-1 L-1,1\" id=\"gpPt1\" stroke=\"currentColor\" stroke-width=\"0.333\"/>\n",
       "\t<path d=\"M-1,0 L1,0 M0,-1 L0,1 M-1,-1 L1,1 M-1,1 L1,-1\" id=\"gpPt2\" stroke=\"currentColor\" stroke-width=\"0.333\"/>\n",
       "\t<rect height=\"2\" id=\"gpPt3\" stroke=\"currentColor\" stroke-width=\"0.333\" width=\"2\" x=\"-1\" y=\"-1\"/>\n",
       "\t<rect fill=\"currentColor\" height=\"2\" id=\"gpPt4\" stroke=\"currentColor\" stroke-width=\"0.333\" width=\"2\" x=\"-1\" y=\"-1\"/>\n",
       "\t<circle cx=\"0\" cy=\"0\" id=\"gpPt5\" r=\"1\" stroke=\"currentColor\" stroke-width=\"0.333\"/>\n",
       "\t<use fill=\"currentColor\" id=\"gpPt6\" stroke=\"none\" xlink:href=\"#gpPt5\"/>\n",
       "\t<path d=\"M0,-1.33 L-1.33,0.67 L1.33,0.67 z\" id=\"gpPt7\" stroke=\"currentColor\" stroke-width=\"0.333\"/>\n",
       "\t<use fill=\"currentColor\" id=\"gpPt8\" stroke=\"none\" xlink:href=\"#gpPt7\"/>\n",
       "\t<use id=\"gpPt9\" stroke=\"currentColor\" transform=\"rotate(180)\" xlink:href=\"#gpPt7\"/>\n",
       "\t<use fill=\"currentColor\" id=\"gpPt10\" stroke=\"none\" xlink:href=\"#gpPt9\"/>\n",
       "\t<use id=\"gpPt11\" stroke=\"currentColor\" transform=\"rotate(45)\" xlink:href=\"#gpPt3\"/>\n",
       "\t<use fill=\"currentColor\" id=\"gpPt12\" stroke=\"none\" xlink:href=\"#gpPt11\"/>\n",
       "\t<path d=\"M0,1.330 L1.265,0.411 L0.782,-1.067 L-0.782,-1.076 L-1.265,0.411 z\" id=\"gpPt13\" stroke=\"currentColor\" stroke-width=\"0.333\"/>\n",
       "\t<use fill=\"currentColor\" id=\"gpPt14\" stroke=\"none\" xlink:href=\"#gpPt13\"/>\n",
       "\t<filter filterUnits=\"objectBoundingBox\" height=\"1\" id=\"textbox\" width=\"1\" x=\"0\" y=\"0\">\n",
       "\t  <feFlood flood-color=\"#FFFFFF\" flood-opacity=\"1\" result=\"bgnd\"/>\n",
       "\t  <feComposite in=\"SourceGraphic\" in2=\"bgnd\" operator=\"atop\"/>\n",
       "\t</filter>\n",
       "\t<filter filterUnits=\"objectBoundingBox\" height=\"1\" id=\"greybox\" width=\"1\" x=\"0\" y=\"0\">\n",
       "\t  <feFlood flood-color=\"lightgrey\" flood-opacity=\"1\" result=\"grey\"/>\n",
       "\t  <feComposite in=\"SourceGraphic\" in2=\"grey\" operator=\"atop\"/>\n",
       "\t</filter>\n",
       "</defs>\n",
       "<g color=\"#FFFFFF\" fill=\"none\" stroke=\"currentColor\" stroke-linecap=\"butt\" stroke-linejoin=\"miter\" stroke-width=\"1.00\">\n",
       "</g>\n",
       "<g color=\"black\" fill=\"none\" stroke=\"currentColor\" stroke-linecap=\"butt\" stroke-linejoin=\"miter\" stroke-width=\"1.00\">\n",
       "\t<g shape-rendering=\"crispEdges\" stroke=\"none\">\n",
       "\t\t<polygon fill=\"rgb(255, 255, 255)\" points=\"25.2,408.0 559.0,408.0 559.0,11.4 25.2,11.4 \"/>\n",
       "\t</g>\n",
       "</g>\n",
       "<g color=\"black\" fill=\"none\" stroke=\"currentColor\" stroke-linecap=\"butt\" stroke-linejoin=\"miter\" stroke-width=\"1.00\">\n",
       "\t<path d=\"M25.2,408.0 L33.6,408.0 M559.1,408.0 L550.7,408.0  \" stroke=\"rgb(  0,   0,   0)\"/>\t<g fill=\"rgb(38,38,38)\" font-family=\"Arial\" font-size=\"10.00\" stroke=\"none\" text-anchor=\"end\" transform=\"translate(19.6,411.3)\">\n",
       "\t\t<text><tspan font-family=\"Arial\">0</tspan></text>\n",
       "\t</g>\n",
       "</g>\n",
       "<g color=\"black\" fill=\"none\" stroke=\"currentColor\" stroke-linecap=\"butt\" stroke-linejoin=\"miter\" stroke-width=\"1.00\">\n",
       "\t<path d=\"M25.2,341.9 L33.6,341.9 M559.1,341.9 L550.7,341.9  \" stroke=\"rgb(  0,   0,   0)\"/>\t<g fill=\"rgb(38,38,38)\" font-family=\"Arial\" font-size=\"10.00\" stroke=\"none\" text-anchor=\"end\" transform=\"translate(19.6,345.2)\">\n",
       "\t\t<text><tspan font-family=\"Arial\">10</tspan></text>\n",
       "\t</g>\n",
       "</g>\n",
       "<g color=\"black\" fill=\"none\" stroke=\"currentColor\" stroke-linecap=\"butt\" stroke-linejoin=\"miter\" stroke-width=\"1.00\">\n",
       "\t<path d=\"M25.2,275.8 L33.6,275.8 M559.1,275.8 L550.7,275.8  \" stroke=\"rgb(  0,   0,   0)\"/>\t<g fill=\"rgb(38,38,38)\" font-family=\"Arial\" font-size=\"10.00\" stroke=\"none\" text-anchor=\"end\" transform=\"translate(19.6,279.1)\">\n",
       "\t\t<text><tspan font-family=\"Arial\">20</tspan></text>\n",
       "\t</g>\n",
       "</g>\n",
       "<g color=\"black\" fill=\"none\" stroke=\"currentColor\" stroke-linecap=\"butt\" stroke-linejoin=\"miter\" stroke-width=\"1.00\">\n",
       "\t<path d=\"M25.2,209.6 L33.6,209.6 M559.1,209.6 L550.7,209.6  \" stroke=\"rgb(  0,   0,   0)\"/>\t<g fill=\"rgb(38,38,38)\" font-family=\"Arial\" font-size=\"10.00\" stroke=\"none\" text-anchor=\"end\" transform=\"translate(19.6,212.9)\">\n",
       "\t\t<text><tspan font-family=\"Arial\">30</tspan></text>\n",
       "\t</g>\n",
       "</g>\n",
       "<g color=\"black\" fill=\"none\" stroke=\"currentColor\" stroke-linecap=\"butt\" stroke-linejoin=\"miter\" stroke-width=\"1.00\">\n",
       "\t<path d=\"M25.2,143.5 L33.6,143.5 M559.1,143.5 L550.7,143.5  \" stroke=\"rgb(  0,   0,   0)\"/>\t<g fill=\"rgb(38,38,38)\" font-family=\"Arial\" font-size=\"10.00\" stroke=\"none\" text-anchor=\"end\" transform=\"translate(19.6,146.8)\">\n",
       "\t\t<text><tspan font-family=\"Arial\">40</tspan></text>\n",
       "\t</g>\n",
       "</g>\n",
       "<g color=\"black\" fill=\"none\" stroke=\"currentColor\" stroke-linecap=\"butt\" stroke-linejoin=\"miter\" stroke-width=\"1.00\">\n",
       "\t<path d=\"M25.2,77.4 L33.6,77.4 M559.1,77.4 L550.7,77.4  \" stroke=\"rgb(  0,   0,   0)\"/>\t<g fill=\"rgb(38,38,38)\" font-family=\"Arial\" font-size=\"10.00\" stroke=\"none\" text-anchor=\"end\" transform=\"translate(19.6,80.7)\">\n",
       "\t\t<text><tspan font-family=\"Arial\">50</tspan></text>\n",
       "\t</g>\n",
       "</g>\n",
       "<g color=\"black\" fill=\"none\" stroke=\"currentColor\" stroke-linecap=\"butt\" stroke-linejoin=\"miter\" stroke-width=\"1.00\">\n",
       "\t<path d=\"M25.2,11.3 L33.6,11.3 M559.1,11.3 L550.7,11.3  \" stroke=\"rgb(  0,   0,   0)\"/>\t<g fill=\"rgb(38,38,38)\" font-family=\"Arial\" font-size=\"10.00\" stroke=\"none\" text-anchor=\"end\" transform=\"translate(19.6,14.6)\">\n",
       "\t\t<text><tspan font-family=\"Arial\">60</tspan></text>\n",
       "\t</g>\n",
       "</g>\n",
       "<g color=\"black\" fill=\"none\" stroke=\"currentColor\" stroke-linecap=\"butt\" stroke-linejoin=\"miter\" stroke-width=\"1.00\">\n",
       "\t<path d=\"M25.2,408.0 L25.2,399.6 M25.2,11.3 L25.2,19.7  \" stroke=\"rgb(  0,   0,   0)\"/>\t<g fill=\"rgb(38,38,38)\" font-family=\"Arial\" font-size=\"10.00\" stroke=\"none\" text-anchor=\"middle\" transform=\"translate(25.2,423.3)\">\n",
       "\t\t<text><tspan font-family=\"Arial\">-15</tspan></text>\n",
       "\t</g>\n",
       "</g>\n",
       "<g color=\"black\" fill=\"none\" stroke=\"currentColor\" stroke-linecap=\"butt\" stroke-linejoin=\"miter\" stroke-width=\"1.00\">\n",
       "\t<path d=\"M158.7,408.0 L158.7,399.6 M158.7,11.3 L158.7,19.7  \" stroke=\"rgb(  0,   0,   0)\"/>\t<g fill=\"rgb(38,38,38)\" font-family=\"Arial\" font-size=\"10.00\" stroke=\"none\" text-anchor=\"middle\" transform=\"translate(158.7,423.3)\">\n",
       "\t\t<text><tspan font-family=\"Arial\">-10</tspan></text>\n",
       "\t</g>\n",
       "</g>\n",
       "<g color=\"black\" fill=\"none\" stroke=\"currentColor\" stroke-linecap=\"butt\" stroke-linejoin=\"miter\" stroke-width=\"1.00\">\n",
       "\t<path d=\"M292.2,408.0 L292.2,399.6 M292.2,11.3 L292.2,19.7  \" stroke=\"rgb(  0,   0,   0)\"/>\t<g fill=\"rgb(38,38,38)\" font-family=\"Arial\" font-size=\"10.00\" stroke=\"none\" text-anchor=\"middle\" transform=\"translate(292.2,423.3)\">\n",
       "\t\t<text><tspan font-family=\"Arial\">-5</tspan></text>\n",
       "\t</g>\n",
       "</g>\n",
       "<g color=\"black\" fill=\"none\" stroke=\"currentColor\" stroke-linecap=\"butt\" stroke-linejoin=\"miter\" stroke-width=\"1.00\">\n",
       "\t<path d=\"M425.6,408.0 L425.6,399.6 M425.6,11.3 L425.6,19.7  \" stroke=\"rgb(  0,   0,   0)\"/>\t<g fill=\"rgb(38,38,38)\" font-family=\"Arial\" font-size=\"10.00\" stroke=\"none\" text-anchor=\"middle\" transform=\"translate(425.6,423.3)\">\n",
       "\t\t<text><tspan font-family=\"Arial\">0</tspan></text>\n",
       "\t</g>\n",
       "</g>\n",
       "<g color=\"black\" fill=\"none\" stroke=\"currentColor\" stroke-linecap=\"butt\" stroke-linejoin=\"miter\" stroke-width=\"1.00\">\n",
       "\t<path d=\"M559.1,408.0 L559.1,399.6 M559.1,11.3 L559.1,19.7  \" stroke=\"rgb(  0,   0,   0)\"/>\t<g fill=\"rgb(38,38,38)\" font-family=\"Arial\" font-size=\"10.00\" stroke=\"none\" text-anchor=\"middle\" transform=\"translate(559.1,423.3)\">\n",
       "\t\t<text><tspan font-family=\"Arial\">5</tspan></text>\n",
       "\t</g>\n",
       "</g>\n",
       "<g color=\"black\" fill=\"none\" stroke=\"currentColor\" stroke-linecap=\"butt\" stroke-linejoin=\"miter\" stroke-width=\"1.00\">\n",
       "</g>\n",
       "<g color=\"black\" fill=\"none\" stroke=\"currentColor\" stroke-linecap=\"butt\" stroke-linejoin=\"miter\" stroke-width=\"1.00\">\n",
       "</g>\n",
       "\t<g id=\"gnuplot_plot_1a\"><title>gnuplot_plot_1a</title>\n",
       "<g color=\"black\" fill=\"none\" stroke=\"currentColor\" stroke-linecap=\"butt\" stroke-linejoin=\"miter\" stroke-width=\"1.00\">\n",
       "\t<g shape-rendering=\"crispEdges\" stroke=\"none\">\n",
       "\t\t<polygon fill=\"rgb( 68,   1,  84)\" points=\"34.3,408.0 34.3,388.2 44.6,388.2 44.6,408.0 \"/>\n",
       "\t</g>\n",
       "\t<path d=\"M34.3,408.0 L34.3,388.2 L44.6,388.2 L44.6,408.0  \" stroke=\"rgb( 68,   1,  84)\"/></g>\n",
       "\t</g>\n",
       "\t<g id=\"gnuplot_plot_2a\"><title>gnuplot_plot_2a</title>\n",
       "<g color=\"#FFFFFF\" fill=\"none\" stroke=\"rgb( 68,   1,  84)\" stroke-linecap=\"butt\" stroke-linejoin=\"miter\" stroke-width=\"0.50\">\n",
       "</g>\n",
       "<g color=\"black\" fill=\"none\" stroke=\"currentColor\" stroke-linecap=\"butt\" stroke-linejoin=\"miter\" stroke-width=\"0.50\">\n",
       "\t<path d=\"M34.3,408.0 L34.3,388.2 L44.6,388.2 L44.6,408.0 L34.3,408.0  \" stroke=\"rgb(  0,   0,   0)\"/></g>\n",
       "\t</g>\n",
       "\t<g id=\"gnuplot_plot_3a\"><title>gnuplot_plot_3a</title>\n",
       "<g color=\"#FFFFFF\" fill=\"none\" stroke=\"rgb(  0,   0,   0)\" stroke-linecap=\"butt\" stroke-linejoin=\"miter\" stroke-width=\"1.00\">\n",
       "</g>\n",
       "<g color=\"black\" fill=\"none\" stroke=\"currentColor\" stroke-linecap=\"butt\" stroke-linejoin=\"miter\" stroke-width=\"1.00\">\n",
       "\t<g shape-rendering=\"crispEdges\" stroke=\"none\">\n",
       "\t\t<polygon fill=\"rgb( 68,   1,  84)\" points=\"44.6,408.0 44.6,401.4 54.9,401.4 54.9,408.0 \"/>\n",
       "\t</g>\n",
       "\t<path d=\"M44.6,408.0 L44.6,401.4 L54.9,401.4 L54.9,408.0  \" stroke=\"rgb( 68,   1,  84)\"/></g>\n",
       "\t</g>\n",
       "\t<g id=\"gnuplot_plot_4a\"><title>gnuplot_plot_4a</title>\n",
       "<g color=\"#FFFFFF\" fill=\"none\" stroke=\"rgb( 68,   1,  84)\" stroke-linecap=\"butt\" stroke-linejoin=\"miter\" stroke-width=\"0.50\">\n",
       "</g>\n",
       "<g color=\"black\" fill=\"none\" stroke=\"currentColor\" stroke-linecap=\"butt\" stroke-linejoin=\"miter\" stroke-width=\"0.50\">\n",
       "\t<path d=\"M44.6,408.0 L44.6,401.4 L54.9,401.4 L54.9,408.0 L44.6,408.0  \" stroke=\"rgb(  0,   0,   0)\"/></g>\n",
       "\t</g>\n",
       "\t<g id=\"gnuplot_plot_5a\"><title>gnuplot_plot_5a</title>\n",
       "<g color=\"#FFFFFF\" fill=\"none\" stroke=\"rgb(  0,   0,   0)\" stroke-linecap=\"butt\" stroke-linejoin=\"miter\" stroke-width=\"1.00\">\n",
       "</g>\n",
       "<g color=\"black\" fill=\"none\" stroke=\"currentColor\" stroke-linecap=\"butt\" stroke-linejoin=\"miter\" stroke-width=\"1.00\">\n",
       "\t<g shape-rendering=\"crispEdges\" stroke=\"none\">\n",
       "\t\t<polygon fill=\"rgb( 68,   1,  84)\" points=\"54.9,408.0 54.9,374.9 65.1,374.9 65.1,408.0 \"/>\n",
       "\t</g>\n",
       "\t<path d=\"M54.9,408.0 L54.9,374.9 L65.1,374.9 L65.1,408.0  \" stroke=\"rgb( 68,   1,  84)\"/></g>\n",
       "\t</g>\n",
       "\t<g id=\"gnuplot_plot_6a\"><title>gnuplot_plot_6a</title>\n",
       "<g color=\"#FFFFFF\" fill=\"none\" stroke=\"rgb( 68,   1,  84)\" stroke-linecap=\"butt\" stroke-linejoin=\"miter\" stroke-width=\"0.50\">\n",
       "</g>\n",
       "<g color=\"black\" fill=\"none\" stroke=\"currentColor\" stroke-linecap=\"butt\" stroke-linejoin=\"miter\" stroke-width=\"0.50\">\n",
       "\t<path d=\"M54.9,408.0 L54.9,374.9 L65.1,374.9 L65.1,408.0 L54.9,408.0  \" stroke=\"rgb(  0,   0,   0)\"/></g>\n",
       "\t</g>\n",
       "\t<g id=\"gnuplot_plot_7a\"><title>gnuplot_plot_7a</title>\n",
       "<g color=\"#FFFFFF\" fill=\"none\" stroke=\"rgb(  0,   0,   0)\" stroke-linecap=\"butt\" stroke-linejoin=\"miter\" stroke-width=\"1.00\">\n",
       "</g>\n",
       "<g color=\"black\" fill=\"none\" stroke=\"currentColor\" stroke-linecap=\"butt\" stroke-linejoin=\"miter\" stroke-width=\"1.00\">\n",
       "\t<g shape-rendering=\"crispEdges\" stroke=\"none\">\n",
       "\t\t<polygon fill=\"rgb( 68,   1,  84)\" points=\"65.1,408.0 65.1,374.9 75.4,374.9 75.4,408.0 \"/>\n",
       "\t</g>\n",
       "\t<path d=\"M65.1,408.0 L65.1,374.9 L75.4,374.9 L75.4,408.0  \" stroke=\"rgb( 68,   1,  84)\"/></g>\n",
       "\t</g>\n",
       "\t<g id=\"gnuplot_plot_8a\"><title>gnuplot_plot_8a</title>\n",
       "<g color=\"#FFFFFF\" fill=\"none\" stroke=\"rgb( 68,   1,  84)\" stroke-linecap=\"butt\" stroke-linejoin=\"miter\" stroke-width=\"0.50\">\n",
       "</g>\n",
       "<g color=\"black\" fill=\"none\" stroke=\"currentColor\" stroke-linecap=\"butt\" stroke-linejoin=\"miter\" stroke-width=\"0.50\">\n",
       "\t<path d=\"M65.1,408.0 L65.1,374.9 L75.4,374.9 L75.4,408.0 L65.1,408.0  \" stroke=\"rgb(  0,   0,   0)\"/></g>\n",
       "\t</g>\n",
       "\t<g id=\"gnuplot_plot_9a\"><title>gnuplot_plot_9a</title>\n",
       "<g color=\"#FFFFFF\" fill=\"none\" stroke=\"rgb(  0,   0,   0)\" stroke-linecap=\"butt\" stroke-linejoin=\"miter\" stroke-width=\"1.00\">\n",
       "</g>\n",
       "<g color=\"black\" fill=\"none\" stroke=\"currentColor\" stroke-linecap=\"butt\" stroke-linejoin=\"miter\" stroke-width=\"1.00\">\n",
       "\t<g shape-rendering=\"crispEdges\" stroke=\"none\">\n",
       "\t\t<polygon fill=\"rgb( 68,   1,  84)\" points=\"75.4,408.0 75.4,374.9 85.7,374.9 85.7,408.0 \"/>\n",
       "\t</g>\n",
       "\t<path d=\"M75.4,408.0 L75.4,374.9 L85.7,374.9 L85.7,408.0  \" stroke=\"rgb( 68,   1,  84)\"/></g>\n",
       "\t</g>\n",
       "\t<g id=\"gnuplot_plot_10a\"><title>gnuplot_plot_10a</title>\n",
       "<g color=\"#FFFFFF\" fill=\"none\" stroke=\"rgb( 68,   1,  84)\" stroke-linecap=\"butt\" stroke-linejoin=\"miter\" stroke-width=\"0.50\">\n",
       "</g>\n",
       "<g color=\"black\" fill=\"none\" stroke=\"currentColor\" stroke-linecap=\"butt\" stroke-linejoin=\"miter\" stroke-width=\"0.50\">\n",
       "\t<path d=\"M75.4,408.0 L75.4,374.9 L85.7,374.9 L85.7,408.0 L75.4,408.0  \" stroke=\"rgb(  0,   0,   0)\"/></g>\n",
       "\t</g>\n",
       "\t<g id=\"gnuplot_plot_11a\"><title>gnuplot_plot_11a</title>\n",
       "<g color=\"#FFFFFF\" fill=\"none\" stroke=\"rgb(  0,   0,   0)\" stroke-linecap=\"butt\" stroke-linejoin=\"miter\" stroke-width=\"1.00\">\n",
       "</g>\n",
       "<g color=\"black\" fill=\"none\" stroke=\"currentColor\" stroke-linecap=\"butt\" stroke-linejoin=\"miter\" stroke-width=\"1.00\">\n",
       "\t<g shape-rendering=\"crispEdges\" stroke=\"none\">\n",
       "\t\t<polygon fill=\"rgb( 68,   1,  84)\" points=\"85.7,408.0 85.7,355.1 95.9,355.1 95.9,408.0 \"/>\n",
       "\t</g>\n",
       "\t<path d=\"M85.7,408.0 L85.7,355.1 L95.9,355.1 L95.9,408.0  \" stroke=\"rgb( 68,   1,  84)\"/></g>\n",
       "\t</g>\n",
       "\t<g id=\"gnuplot_plot_12a\"><title>gnuplot_plot_12a</title>\n",
       "<g color=\"#FFFFFF\" fill=\"none\" stroke=\"rgb( 68,   1,  84)\" stroke-linecap=\"butt\" stroke-linejoin=\"miter\" stroke-width=\"0.50\">\n",
       "</g>\n",
       "<g color=\"black\" fill=\"none\" stroke=\"currentColor\" stroke-linecap=\"butt\" stroke-linejoin=\"miter\" stroke-width=\"0.50\">\n",
       "\t<path d=\"M85.7,408.0 L85.7,355.1 L95.9,355.1 L95.9,408.0 L85.7,408.0  \" stroke=\"rgb(  0,   0,   0)\"/></g>\n",
       "\t</g>\n",
       "\t<g id=\"gnuplot_plot_13a\"><title>gnuplot_plot_13a</title>\n",
       "<g color=\"#FFFFFF\" fill=\"none\" stroke=\"rgb(  0,   0,   0)\" stroke-linecap=\"butt\" stroke-linejoin=\"miter\" stroke-width=\"1.00\">\n",
       "</g>\n",
       "<g color=\"black\" fill=\"none\" stroke=\"currentColor\" stroke-linecap=\"butt\" stroke-linejoin=\"miter\" stroke-width=\"1.00\">\n",
       "\t<g shape-rendering=\"crispEdges\" stroke=\"none\">\n",
       "\t\t<polygon fill=\"rgb( 68,   1,  84)\" points=\"95.9,408.0 95.9,328.7 106.2,328.7 106.2,408.0 \"/>\n",
       "\t</g>\n",
       "\t<path d=\"M95.9,408.0 L95.9,328.7 L106.2,328.7 L106.2,408.0  \" stroke=\"rgb( 68,   1,  84)\"/></g>\n",
       "\t</g>\n",
       "\t<g id=\"gnuplot_plot_14a\"><title>gnuplot_plot_14a</title>\n",
       "<g color=\"#FFFFFF\" fill=\"none\" stroke=\"rgb( 68,   1,  84)\" stroke-linecap=\"butt\" stroke-linejoin=\"miter\" stroke-width=\"0.50\">\n",
       "</g>\n",
       "<g color=\"black\" fill=\"none\" stroke=\"currentColor\" stroke-linecap=\"butt\" stroke-linejoin=\"miter\" stroke-width=\"0.50\">\n",
       "\t<path d=\"M95.9,408.0 L95.9,328.7 L106.2,328.7 L106.2,408.0 L95.9,408.0  \" stroke=\"rgb(  0,   0,   0)\"/></g>\n",
       "\t</g>\n",
       "\t<g id=\"gnuplot_plot_15a\"><title>gnuplot_plot_15a</title>\n",
       "<g color=\"#FFFFFF\" fill=\"none\" stroke=\"rgb(  0,   0,   0)\" stroke-linecap=\"butt\" stroke-linejoin=\"miter\" stroke-width=\"1.00\">\n",
       "</g>\n",
       "<g color=\"black\" fill=\"none\" stroke=\"currentColor\" stroke-linecap=\"butt\" stroke-linejoin=\"miter\" stroke-width=\"1.00\">\n",
       "\t<g shape-rendering=\"crispEdges\" stroke=\"none\">\n",
       "\t\t<polygon fill=\"rgb( 68,   1,  84)\" points=\"106.2,408.0 106.2,328.7 116.5,328.7 116.5,408.0 \"/>\n",
       "\t</g>\n",
       "\t<path d=\"M106.2,408.0 L106.2,328.7 L116.5,328.7 L116.5,408.0  \" stroke=\"rgb( 68,   1,  84)\"/></g>\n",
       "\t</g>\n",
       "\t<g id=\"gnuplot_plot_16a\"><title>gnuplot_plot_16a</title>\n",
       "<g color=\"#FFFFFF\" fill=\"none\" stroke=\"rgb( 68,   1,  84)\" stroke-linecap=\"butt\" stroke-linejoin=\"miter\" stroke-width=\"0.50\">\n",
       "</g>\n",
       "<g color=\"black\" fill=\"none\" stroke=\"currentColor\" stroke-linecap=\"butt\" stroke-linejoin=\"miter\" stroke-width=\"0.50\">\n",
       "\t<path d=\"M106.2,408.0 L106.2,328.7 L116.5,328.7 L116.5,408.0 L106.2,408.0  \" stroke=\"rgb(  0,   0,   0)\"/></g>\n",
       "\t</g>\n",
       "\t<g id=\"gnuplot_plot_17a\"><title>gnuplot_plot_17a</title>\n",
       "<g color=\"#FFFFFF\" fill=\"none\" stroke=\"rgb(  0,   0,   0)\" stroke-linecap=\"butt\" stroke-linejoin=\"miter\" stroke-width=\"1.00\">\n",
       "</g>\n",
       "<g color=\"black\" fill=\"none\" stroke=\"currentColor\" stroke-linecap=\"butt\" stroke-linejoin=\"miter\" stroke-width=\"1.00\">\n",
       "\t<g shape-rendering=\"crispEdges\" stroke=\"none\">\n",
       "\t\t<polygon fill=\"rgb( 68,   1,  84)\" points=\"116.5,408.0 116.5,355.1 126.7,355.1 126.7,408.0 \"/>\n",
       "\t</g>\n",
       "\t<path d=\"M116.5,408.0 L116.5,355.1 L126.7,355.1 L126.7,408.0  \" stroke=\"rgb( 68,   1,  84)\"/></g>\n",
       "\t</g>\n",
       "\t<g id=\"gnuplot_plot_18a\"><title>gnuplot_plot_18a</title>\n",
       "<g color=\"#FFFFFF\" fill=\"none\" stroke=\"rgb( 68,   1,  84)\" stroke-linecap=\"butt\" stroke-linejoin=\"miter\" stroke-width=\"0.50\">\n",
       "</g>\n",
       "<g color=\"black\" fill=\"none\" stroke=\"currentColor\" stroke-linecap=\"butt\" stroke-linejoin=\"miter\" stroke-width=\"0.50\">\n",
       "\t<path d=\"M116.5,408.0 L116.5,355.1 L126.7,355.1 L126.7,408.0 L116.5,408.0  \" stroke=\"rgb(  0,   0,   0)\"/></g>\n",
       "\t</g>\n",
       "\t<g id=\"gnuplot_plot_19a\"><title>gnuplot_plot_19a</title>\n",
       "<g color=\"#FFFFFF\" fill=\"none\" stroke=\"rgb(  0,   0,   0)\" stroke-linecap=\"butt\" stroke-linejoin=\"miter\" stroke-width=\"1.00\">\n",
       "</g>\n",
       "<g color=\"black\" fill=\"none\" stroke=\"currentColor\" stroke-linecap=\"butt\" stroke-linejoin=\"miter\" stroke-width=\"1.00\">\n",
       "\t<g shape-rendering=\"crispEdges\" stroke=\"none\">\n",
       "\t\t<polygon fill=\"rgb( 68,   1,  84)\" points=\"126.7,408.0 126.7,308.8 137.0,308.8 137.0,408.0 \"/>\n",
       "\t</g>\n",
       "\t<path d=\"M126.7,408.0 L126.7,308.8 L137.0,308.8 L137.0,408.0  \" stroke=\"rgb( 68,   1,  84)\"/></g>\n",
       "\t</g>\n",
       "\t<g id=\"gnuplot_plot_20a\"><title>gnuplot_plot_20a</title>\n",
       "<g color=\"#FFFFFF\" fill=\"none\" stroke=\"rgb( 68,   1,  84)\" stroke-linecap=\"butt\" stroke-linejoin=\"miter\" stroke-width=\"0.50\">\n",
       "</g>\n",
       "<g color=\"black\" fill=\"none\" stroke=\"currentColor\" stroke-linecap=\"butt\" stroke-linejoin=\"miter\" stroke-width=\"0.50\">\n",
       "\t<path d=\"M126.7,408.0 L126.7,308.8 L137.0,308.8 L137.0,408.0 L126.7,408.0  \" stroke=\"rgb(  0,   0,   0)\"/></g>\n",
       "\t</g>\n",
       "\t<g id=\"gnuplot_plot_21a\"><title>gnuplot_plot_21a</title>\n",
       "<g color=\"#FFFFFF\" fill=\"none\" stroke=\"rgb(  0,   0,   0)\" stroke-linecap=\"butt\" stroke-linejoin=\"miter\" stroke-width=\"1.00\">\n",
       "</g>\n",
       "<g color=\"black\" fill=\"none\" stroke=\"currentColor\" stroke-linecap=\"butt\" stroke-linejoin=\"miter\" stroke-width=\"1.00\">\n",
       "\t<g shape-rendering=\"crispEdges\" stroke=\"none\">\n",
       "\t\t<polygon fill=\"rgb( 68,   1,  84)\" points=\"137.0,408.0 137.0,322.0 147.3,322.0 147.3,408.0 \"/>\n",
       "\t</g>\n",
       "\t<path d=\"M137.0,408.0 L137.0,322.0 L147.3,322.0 L147.3,408.0  \" stroke=\"rgb( 68,   1,  84)\"/></g>\n",
       "\t</g>\n",
       "\t<g id=\"gnuplot_plot_22a\"><title>gnuplot_plot_22a</title>\n",
       "<g color=\"#FFFFFF\" fill=\"none\" stroke=\"rgb( 68,   1,  84)\" stroke-linecap=\"butt\" stroke-linejoin=\"miter\" stroke-width=\"0.50\">\n",
       "</g>\n",
       "<g color=\"black\" fill=\"none\" stroke=\"currentColor\" stroke-linecap=\"butt\" stroke-linejoin=\"miter\" stroke-width=\"0.50\">\n",
       "\t<path d=\"M137.0,408.0 L137.0,322.0 L147.3,322.0 L147.3,408.0 L137.0,408.0  \" stroke=\"rgb(  0,   0,   0)\"/></g>\n",
       "\t</g>\n",
       "\t<g id=\"gnuplot_plot_23a\"><title>gnuplot_plot_23a</title>\n",
       "<g color=\"#FFFFFF\" fill=\"none\" stroke=\"rgb(  0,   0,   0)\" stroke-linecap=\"butt\" stroke-linejoin=\"miter\" stroke-width=\"1.00\">\n",
       "</g>\n",
       "<g color=\"black\" fill=\"none\" stroke=\"currentColor\" stroke-linecap=\"butt\" stroke-linejoin=\"miter\" stroke-width=\"1.00\">\n",
       "\t<g shape-rendering=\"crispEdges\" stroke=\"none\">\n",
       "\t\t<polygon fill=\"rgb( 68,   1,  84)\" points=\"147.3,408.0 147.3,229.5 157.6,229.5 157.6,408.0 \"/>\n",
       "\t</g>\n",
       "\t<path d=\"M147.3,408.0 L147.3,229.5 L157.6,229.5 L157.6,408.0  \" stroke=\"rgb( 68,   1,  84)\"/></g>\n",
       "\t</g>\n",
       "\t<g id=\"gnuplot_plot_24a\"><title>gnuplot_plot_24a</title>\n",
       "<g color=\"#FFFFFF\" fill=\"none\" stroke=\"rgb( 68,   1,  84)\" stroke-linecap=\"butt\" stroke-linejoin=\"miter\" stroke-width=\"0.50\">\n",
       "</g>\n",
       "<g color=\"black\" fill=\"none\" stroke=\"currentColor\" stroke-linecap=\"butt\" stroke-linejoin=\"miter\" stroke-width=\"0.50\">\n",
       "\t<path d=\"M147.3,408.0 L147.3,229.5 L157.6,229.5 L157.6,408.0 L147.3,408.0  \" stroke=\"rgb(  0,   0,   0)\"/></g>\n",
       "\t</g>\n",
       "\t<g id=\"gnuplot_plot_25a\"><title>gnuplot_plot_25a</title>\n",
       "<g color=\"#FFFFFF\" fill=\"none\" stroke=\"rgb(  0,   0,   0)\" stroke-linecap=\"butt\" stroke-linejoin=\"miter\" stroke-width=\"1.00\">\n",
       "</g>\n",
       "<g color=\"black\" fill=\"none\" stroke=\"currentColor\" stroke-linecap=\"butt\" stroke-linejoin=\"miter\" stroke-width=\"1.00\">\n",
       "\t<g shape-rendering=\"crispEdges\" stroke=\"none\">\n",
       "\t\t<polygon fill=\"rgb( 68,   1,  84)\" points=\"157.6,408.0 157.6,275.8 167.8,275.8 167.8,408.0 \"/>\n",
       "\t</g>\n",
       "\t<path d=\"M157.6,408.0 L157.6,275.8 L167.8,275.8 L167.8,408.0  \" stroke=\"rgb( 68,   1,  84)\"/></g>\n",
       "\t</g>\n",
       "\t<g id=\"gnuplot_plot_26a\"><title>gnuplot_plot_26a</title>\n",
       "<g color=\"#FFFFFF\" fill=\"none\" stroke=\"rgb( 68,   1,  84)\" stroke-linecap=\"butt\" stroke-linejoin=\"miter\" stroke-width=\"0.50\">\n",
       "</g>\n",
       "<g color=\"black\" fill=\"none\" stroke=\"currentColor\" stroke-linecap=\"butt\" stroke-linejoin=\"miter\" stroke-width=\"0.50\">\n",
       "\t<path d=\"M157.6,408.0 L157.6,275.8 L167.8,275.8 L167.8,408.0 L157.6,408.0  \" stroke=\"rgb(  0,   0,   0)\"/></g>\n",
       "\t</g>\n",
       "\t<g id=\"gnuplot_plot_27a\"><title>gnuplot_plot_27a</title>\n",
       "<g color=\"#FFFFFF\" fill=\"none\" stroke=\"rgb(  0,   0,   0)\" stroke-linecap=\"butt\" stroke-linejoin=\"miter\" stroke-width=\"1.00\">\n",
       "</g>\n",
       "<g color=\"black\" fill=\"none\" stroke=\"currentColor\" stroke-linecap=\"butt\" stroke-linejoin=\"miter\" stroke-width=\"1.00\">\n",
       "\t<g shape-rendering=\"crispEdges\" stroke=\"none\">\n",
       "\t\t<polygon fill=\"rgb( 68,   1,  84)\" points=\"167.8,408.0 167.8,236.1 178.1,236.1 178.1,408.0 \"/>\n",
       "\t</g>\n",
       "\t<path d=\"M167.8,408.0 L167.8,236.1 L178.1,236.1 L178.1,408.0  \" stroke=\"rgb( 68,   1,  84)\"/></g>\n",
       "\t</g>\n",
       "\t<g id=\"gnuplot_plot_28a\"><title>gnuplot_plot_28a</title>\n",
       "<g color=\"#FFFFFF\" fill=\"none\" stroke=\"rgb( 68,   1,  84)\" stroke-linecap=\"butt\" stroke-linejoin=\"miter\" stroke-width=\"0.50\">\n",
       "</g>\n",
       "<g color=\"black\" fill=\"none\" stroke=\"currentColor\" stroke-linecap=\"butt\" stroke-linejoin=\"miter\" stroke-width=\"0.50\">\n",
       "\t<path d=\"M167.8,408.0 L167.8,236.1 L178.1,236.1 L178.1,408.0 L167.8,408.0  \" stroke=\"rgb(  0,   0,   0)\"/></g>\n",
       "\t</g>\n",
       "\t<g id=\"gnuplot_plot_29a\"><title>gnuplot_plot_29a</title>\n",
       "<g color=\"#FFFFFF\" fill=\"none\" stroke=\"rgb(  0,   0,   0)\" stroke-linecap=\"butt\" stroke-linejoin=\"miter\" stroke-width=\"1.00\">\n",
       "</g>\n",
       "<g color=\"black\" fill=\"none\" stroke=\"currentColor\" stroke-linecap=\"butt\" stroke-linejoin=\"miter\" stroke-width=\"1.00\">\n",
       "\t<g shape-rendering=\"crispEdges\" stroke=\"none\">\n",
       "\t\t<polygon fill=\"rgb( 68,   1,  84)\" points=\"178.1,408.0 178.1,170.0 188.4,170.0 188.4,408.0 \"/>\n",
       "\t</g>\n",
       "\t<path d=\"M178.1,408.0 L178.1,170.0 L188.4,170.0 L188.4,408.0  \" stroke=\"rgb( 68,   1,  84)\"/></g>\n",
       "\t</g>\n",
       "\t<g id=\"gnuplot_plot_30a\"><title>gnuplot_plot_30a</title>\n",
       "<g color=\"#FFFFFF\" fill=\"none\" stroke=\"rgb( 68,   1,  84)\" stroke-linecap=\"butt\" stroke-linejoin=\"miter\" stroke-width=\"0.50\">\n",
       "</g>\n",
       "<g color=\"black\" fill=\"none\" stroke=\"currentColor\" stroke-linecap=\"butt\" stroke-linejoin=\"miter\" stroke-width=\"0.50\">\n",
       "\t<path d=\"M178.1,408.0 L178.1,170.0 L188.4,170.0 L188.4,408.0 L178.1,408.0  \" stroke=\"rgb(  0,   0,   0)\"/></g>\n",
       "\t</g>\n",
       "\t<g id=\"gnuplot_plot_31a\"><title>gnuplot_plot_31a</title>\n",
       "<g color=\"#FFFFFF\" fill=\"none\" stroke=\"rgb(  0,   0,   0)\" stroke-linecap=\"butt\" stroke-linejoin=\"miter\" stroke-width=\"1.00\">\n",
       "</g>\n",
       "<g color=\"black\" fill=\"none\" stroke=\"currentColor\" stroke-linecap=\"butt\" stroke-linejoin=\"miter\" stroke-width=\"1.00\">\n",
       "\t<g shape-rendering=\"crispEdges\" stroke=\"none\">\n",
       "\t\t<polygon fill=\"rgb( 68,   1,  84)\" points=\"188.4,408.0 188.4,236.1 198.6,236.1 198.6,408.0 \"/>\n",
       "\t</g>\n",
       "\t<path d=\"M188.4,408.0 L188.4,236.1 L198.6,236.1 L198.6,408.0  \" stroke=\"rgb( 68,   1,  84)\"/></g>\n",
       "\t</g>\n",
       "\t<g id=\"gnuplot_plot_32a\"><title>gnuplot_plot_32a</title>\n",
       "<g color=\"#FFFFFF\" fill=\"none\" stroke=\"rgb( 68,   1,  84)\" stroke-linecap=\"butt\" stroke-linejoin=\"miter\" stroke-width=\"0.50\">\n",
       "</g>\n",
       "<g color=\"black\" fill=\"none\" stroke=\"currentColor\" stroke-linecap=\"butt\" stroke-linejoin=\"miter\" stroke-width=\"0.50\">\n",
       "\t<path d=\"M188.4,408.0 L188.4,236.1 L198.6,236.1 L198.6,408.0 L188.4,408.0  \" stroke=\"rgb(  0,   0,   0)\"/></g>\n",
       "\t</g>\n",
       "\t<g id=\"gnuplot_plot_33a\"><title>gnuplot_plot_33a</title>\n",
       "<g color=\"#FFFFFF\" fill=\"none\" stroke=\"rgb(  0,   0,   0)\" stroke-linecap=\"butt\" stroke-linejoin=\"miter\" stroke-width=\"1.00\">\n",
       "</g>\n",
       "<g color=\"black\" fill=\"none\" stroke=\"currentColor\" stroke-linecap=\"butt\" stroke-linejoin=\"miter\" stroke-width=\"1.00\">\n",
       "\t<g shape-rendering=\"crispEdges\" stroke=\"none\">\n",
       "\t\t<polygon fill=\"rgb( 68,   1,  84)\" points=\"198.6,408.0 198.6,176.6 208.9,176.6 208.9,408.0 \"/>\n",
       "\t</g>\n",
       "\t<path d=\"M198.6,408.0 L198.6,176.6 L208.9,176.6 L208.9,408.0  \" stroke=\"rgb( 68,   1,  84)\"/></g>\n",
       "\t</g>\n",
       "\t<g id=\"gnuplot_plot_34a\"><title>gnuplot_plot_34a</title>\n",
       "<g color=\"#FFFFFF\" fill=\"none\" stroke=\"rgb( 68,   1,  84)\" stroke-linecap=\"butt\" stroke-linejoin=\"miter\" stroke-width=\"0.50\">\n",
       "</g>\n",
       "<g color=\"black\" fill=\"none\" stroke=\"currentColor\" stroke-linecap=\"butt\" stroke-linejoin=\"miter\" stroke-width=\"0.50\">\n",
       "\t<path d=\"M198.6,408.0 L198.6,176.6 L208.9,176.6 L208.9,408.0 L198.6,408.0  \" stroke=\"rgb(  0,   0,   0)\"/></g>\n",
       "\t</g>\n",
       "\t<g id=\"gnuplot_plot_35a\"><title>gnuplot_plot_35a</title>\n",
       "<g color=\"#FFFFFF\" fill=\"none\" stroke=\"rgb(  0,   0,   0)\" stroke-linecap=\"butt\" stroke-linejoin=\"miter\" stroke-width=\"1.00\">\n",
       "</g>\n",
       "<g color=\"black\" fill=\"none\" stroke=\"currentColor\" stroke-linecap=\"butt\" stroke-linejoin=\"miter\" stroke-width=\"1.00\">\n",
       "\t<g shape-rendering=\"crispEdges\" stroke=\"none\">\n",
       "\t\t<polygon fill=\"rgb( 68,   1,  84)\" points=\"208.9,408.0 208.9,143.5 219.2,143.5 219.2,408.0 \"/>\n",
       "\t</g>\n",
       "\t<path d=\"M208.9,408.0 L208.9,143.5 L219.2,143.5 L219.2,408.0  \" stroke=\"rgb( 68,   1,  84)\"/></g>\n",
       "\t</g>\n",
       "\t<g id=\"gnuplot_plot_36a\"><title>gnuplot_plot_36a</title>\n",
       "<g color=\"#FFFFFF\" fill=\"none\" stroke=\"rgb( 68,   1,  84)\" stroke-linecap=\"butt\" stroke-linejoin=\"miter\" stroke-width=\"0.50\">\n",
       "</g>\n",
       "<g color=\"black\" fill=\"none\" stroke=\"currentColor\" stroke-linecap=\"butt\" stroke-linejoin=\"miter\" stroke-width=\"0.50\">\n",
       "\t<path d=\"M208.9,408.0 L208.9,143.5 L219.2,143.5 L219.2,408.0 L208.9,408.0  \" stroke=\"rgb(  0,   0,   0)\"/></g>\n",
       "\t</g>\n",
       "\t<g id=\"gnuplot_plot_37a\"><title>gnuplot_plot_37a</title>\n",
       "<g color=\"#FFFFFF\" fill=\"none\" stroke=\"rgb(  0,   0,   0)\" stroke-linecap=\"butt\" stroke-linejoin=\"miter\" stroke-width=\"1.00\">\n",
       "</g>\n",
       "<g color=\"black\" fill=\"none\" stroke=\"currentColor\" stroke-linecap=\"butt\" stroke-linejoin=\"miter\" stroke-width=\"1.00\">\n",
       "\t<g shape-rendering=\"crispEdges\" stroke=\"none\">\n",
       "\t\t<polygon fill=\"rgb( 68,   1,  84)\" points=\"219.2,408.0 219.2,156.8 229.4,156.8 229.4,408.0 \"/>\n",
       "\t</g>\n",
       "\t<path d=\"M219.2,408.0 L219.2,156.8 L229.4,156.8 L229.4,408.0  \" stroke=\"rgb( 68,   1,  84)\"/></g>\n",
       "\t</g>\n",
       "\t<g id=\"gnuplot_plot_38a\"><title>gnuplot_plot_38a</title>\n",
       "<g color=\"#FFFFFF\" fill=\"none\" stroke=\"rgb( 68,   1,  84)\" stroke-linecap=\"butt\" stroke-linejoin=\"miter\" stroke-width=\"0.50\">\n",
       "</g>\n",
       "<g color=\"black\" fill=\"none\" stroke=\"currentColor\" stroke-linecap=\"butt\" stroke-linejoin=\"miter\" stroke-width=\"0.50\">\n",
       "\t<path d=\"M219.2,408.0 L219.2,156.8 L229.4,156.8 L229.4,408.0 L219.2,408.0  \" stroke=\"rgb(  0,   0,   0)\"/></g>\n",
       "\t</g>\n",
       "\t<g id=\"gnuplot_plot_39a\"><title>gnuplot_plot_39a</title>\n",
       "<g color=\"#FFFFFF\" fill=\"none\" stroke=\"rgb(  0,   0,   0)\" stroke-linecap=\"butt\" stroke-linejoin=\"miter\" stroke-width=\"1.00\">\n",
       "</g>\n",
       "<g color=\"black\" fill=\"none\" stroke=\"currentColor\" stroke-linecap=\"butt\" stroke-linejoin=\"miter\" stroke-width=\"1.00\">\n",
       "\t<g shape-rendering=\"crispEdges\" stroke=\"none\">\n",
       "\t\t<polygon fill=\"rgb( 68,   1,  84)\" points=\"229.4,408.0 229.4,156.8 239.7,156.8 239.7,408.0 \"/>\n",
       "\t</g>\n",
       "\t<path d=\"M229.4,408.0 L229.4,156.8 L239.7,156.8 L239.7,408.0  \" stroke=\"rgb( 68,   1,  84)\"/></g>\n",
       "\t</g>\n",
       "\t<g id=\"gnuplot_plot_40a\"><title>gnuplot_plot_40a</title>\n",
       "<g color=\"#FFFFFF\" fill=\"none\" stroke=\"rgb( 68,   1,  84)\" stroke-linecap=\"butt\" stroke-linejoin=\"miter\" stroke-width=\"0.50\">\n",
       "</g>\n",
       "<g color=\"black\" fill=\"none\" stroke=\"currentColor\" stroke-linecap=\"butt\" stroke-linejoin=\"miter\" stroke-width=\"0.50\">\n",
       "\t<path d=\"M229.4,408.0 L229.4,156.8 L239.7,156.8 L239.7,408.0 L229.4,408.0  \" stroke=\"rgb(  0,   0,   0)\"/></g>\n",
       "\t</g>\n",
       "\t<g id=\"gnuplot_plot_41a\"><title>gnuplot_plot_41a</title>\n",
       "<g color=\"#FFFFFF\" fill=\"none\" stroke=\"rgb(  0,   0,   0)\" stroke-linecap=\"butt\" stroke-linejoin=\"miter\" stroke-width=\"1.00\">\n",
       "</g>\n",
       "<g color=\"black\" fill=\"none\" stroke=\"currentColor\" stroke-linecap=\"butt\" stroke-linejoin=\"miter\" stroke-width=\"1.00\">\n",
       "\t<g shape-rendering=\"crispEdges\" stroke=\"none\">\n",
       "\t\t<polygon fill=\"rgb( 68,   1,  84)\" points=\"239.7,408.0 239.7,77.4 250.0,77.4 250.0,408.0 \"/>\n",
       "\t</g>\n",
       "\t<path d=\"M239.7,408.0 L239.7,77.4 L250.0,77.4 L250.0,408.0  \" stroke=\"rgb( 68,   1,  84)\"/></g>\n",
       "\t</g>\n",
       "\t<g id=\"gnuplot_plot_42a\"><title>gnuplot_plot_42a</title>\n",
       "<g color=\"#FFFFFF\" fill=\"none\" stroke=\"rgb( 68,   1,  84)\" stroke-linecap=\"butt\" stroke-linejoin=\"miter\" stroke-width=\"0.50\">\n",
       "</g>\n",
       "<g color=\"black\" fill=\"none\" stroke=\"currentColor\" stroke-linecap=\"butt\" stroke-linejoin=\"miter\" stroke-width=\"0.50\">\n",
       "\t<path d=\"M239.7,408.0 L239.7,77.4 L250.0,77.4 L250.0,408.0 L239.7,408.0  \" stroke=\"rgb(  0,   0,   0)\"/></g>\n",
       "\t</g>\n",
       "\t<g id=\"gnuplot_plot_43a\"><title>gnuplot_plot_43a</title>\n",
       "<g color=\"#FFFFFF\" fill=\"none\" stroke=\"rgb(  0,   0,   0)\" stroke-linecap=\"butt\" stroke-linejoin=\"miter\" stroke-width=\"1.00\">\n",
       "</g>\n",
       "<g color=\"black\" fill=\"none\" stroke=\"currentColor\" stroke-linecap=\"butt\" stroke-linejoin=\"miter\" stroke-width=\"1.00\">\n",
       "\t<g shape-rendering=\"crispEdges\" stroke=\"none\">\n",
       "\t\t<polygon fill=\"rgb( 68,   1,  84)\" points=\"250.0,408.0 250.0,110.5 260.2,110.5 260.2,408.0 \"/>\n",
       "\t</g>\n",
       "\t<path d=\"M250.0,408.0 L250.0,110.5 L260.2,110.5 L260.2,408.0  \" stroke=\"rgb( 68,   1,  84)\"/></g>\n",
       "\t</g>\n",
       "\t<g id=\"gnuplot_plot_44a\"><title>gnuplot_plot_44a</title>\n",
       "<g color=\"#FFFFFF\" fill=\"none\" stroke=\"rgb( 68,   1,  84)\" stroke-linecap=\"butt\" stroke-linejoin=\"miter\" stroke-width=\"0.50\">\n",
       "</g>\n",
       "<g color=\"black\" fill=\"none\" stroke=\"currentColor\" stroke-linecap=\"butt\" stroke-linejoin=\"miter\" stroke-width=\"0.50\">\n",
       "\t<path d=\"M250.0,408.0 L250.0,110.5 L260.2,110.5 L260.2,408.0 L250.0,408.0  \" stroke=\"rgb(  0,   0,   0)\"/></g>\n",
       "\t</g>\n",
       "\t<g id=\"gnuplot_plot_45a\"><title>gnuplot_plot_45a</title>\n",
       "<g color=\"#FFFFFF\" fill=\"none\" stroke=\"rgb(  0,   0,   0)\" stroke-linecap=\"butt\" stroke-linejoin=\"miter\" stroke-width=\"1.00\">\n",
       "</g>\n",
       "<g color=\"black\" fill=\"none\" stroke=\"currentColor\" stroke-linecap=\"butt\" stroke-linejoin=\"miter\" stroke-width=\"1.00\">\n",
       "\t<g shape-rendering=\"crispEdges\" stroke=\"none\">\n",
       "\t\t<polygon fill=\"rgb( 68,   1,  84)\" points=\"260.2,408.0 260.2,51.0 270.5,51.0 270.5,408.0 \"/>\n",
       "\t</g>\n",
       "\t<path d=\"M260.2,408.0 L260.2,51.0 L270.5,51.0 L270.5,408.0  \" stroke=\"rgb( 68,   1,  84)\"/></g>\n",
       "\t</g>\n",
       "\t<g id=\"gnuplot_plot_46a\"><title>gnuplot_plot_46a</title>\n",
       "<g color=\"#FFFFFF\" fill=\"none\" stroke=\"rgb( 68,   1,  84)\" stroke-linecap=\"butt\" stroke-linejoin=\"miter\" stroke-width=\"0.50\">\n",
       "</g>\n",
       "<g color=\"black\" fill=\"none\" stroke=\"currentColor\" stroke-linecap=\"butt\" stroke-linejoin=\"miter\" stroke-width=\"0.50\">\n",
       "\t<path d=\"M260.2,408.0 L260.2,51.0 L270.5,51.0 L270.5,408.0 L260.2,408.0  \" stroke=\"rgb(  0,   0,   0)\"/></g>\n",
       "\t</g>\n",
       "\t<g id=\"gnuplot_plot_47a\"><title>gnuplot_plot_47a</title>\n",
       "<g color=\"#FFFFFF\" fill=\"none\" stroke=\"rgb(  0,   0,   0)\" stroke-linecap=\"butt\" stroke-linejoin=\"miter\" stroke-width=\"1.00\">\n",
       "</g>\n",
       "<g color=\"black\" fill=\"none\" stroke=\"currentColor\" stroke-linecap=\"butt\" stroke-linejoin=\"miter\" stroke-width=\"1.00\">\n",
       "\t<g shape-rendering=\"crispEdges\" stroke=\"none\">\n",
       "\t\t<polygon fill=\"rgb( 68,   1,  84)\" points=\"270.5,408.0 270.5,97.3 280.8,97.3 280.8,408.0 \"/>\n",
       "\t</g>\n",
       "\t<path d=\"M270.5,408.0 L270.5,97.3 L280.8,97.3 L280.8,408.0  \" stroke=\"rgb( 68,   1,  84)\"/></g>\n",
       "\t</g>\n",
       "\t<g id=\"gnuplot_plot_48a\"><title>gnuplot_plot_48a</title>\n",
       "<g color=\"#FFFFFF\" fill=\"none\" stroke=\"rgb( 68,   1,  84)\" stroke-linecap=\"butt\" stroke-linejoin=\"miter\" stroke-width=\"0.50\">\n",
       "</g>\n",
       "<g color=\"black\" fill=\"none\" stroke=\"currentColor\" stroke-linecap=\"butt\" stroke-linejoin=\"miter\" stroke-width=\"0.50\">\n",
       "\t<path d=\"M270.5,408.0 L270.5,97.3 L280.8,97.3 L280.8,408.0 L270.5,408.0  \" stroke=\"rgb(  0,   0,   0)\"/></g>\n",
       "\t</g>\n",
       "\t<g id=\"gnuplot_plot_49a\"><title>gnuplot_plot_49a</title>\n",
       "<g color=\"#FFFFFF\" fill=\"none\" stroke=\"rgb(  0,   0,   0)\" stroke-linecap=\"butt\" stroke-linejoin=\"miter\" stroke-width=\"1.00\">\n",
       "</g>\n",
       "<g color=\"black\" fill=\"none\" stroke=\"currentColor\" stroke-linecap=\"butt\" stroke-linejoin=\"miter\" stroke-width=\"1.00\">\n",
       "\t<g shape-rendering=\"crispEdges\" stroke=\"none\">\n",
       "\t\t<polygon fill=\"rgb( 68,   1,  84)\" points=\"280.8,408.0 280.8,196.4 291.0,196.4 291.0,408.0 \"/>\n",
       "\t</g>\n",
       "\t<path d=\"M280.8,408.0 L280.8,196.4 L291.0,196.4 L291.0,408.0  \" stroke=\"rgb( 68,   1,  84)\"/></g>\n",
       "\t</g>\n",
       "\t<g id=\"gnuplot_plot_50a\"><title>gnuplot_plot_50a</title>\n",
       "<g color=\"#FFFFFF\" fill=\"none\" stroke=\"rgb( 68,   1,  84)\" stroke-linecap=\"butt\" stroke-linejoin=\"miter\" stroke-width=\"0.50\">\n",
       "</g>\n",
       "<g color=\"black\" fill=\"none\" stroke=\"currentColor\" stroke-linecap=\"butt\" stroke-linejoin=\"miter\" stroke-width=\"0.50\">\n",
       "\t<path d=\"M280.8,408.0 L280.8,196.4 L291.0,196.4 L291.0,408.0 L280.8,408.0  \" stroke=\"rgb(  0,   0,   0)\"/></g>\n",
       "\t</g>\n",
       "\t<g id=\"gnuplot_plot_51a\"><title>gnuplot_plot_51a</title>\n",
       "<g color=\"#FFFFFF\" fill=\"none\" stroke=\"rgb(  0,   0,   0)\" stroke-linecap=\"butt\" stroke-linejoin=\"miter\" stroke-width=\"1.00\">\n",
       "</g>\n",
       "<g color=\"black\" fill=\"none\" stroke=\"currentColor\" stroke-linecap=\"butt\" stroke-linejoin=\"miter\" stroke-width=\"1.00\">\n",
       "\t<g shape-rendering=\"crispEdges\" stroke=\"none\">\n",
       "\t\t<polygon fill=\"rgb( 68,   1,  84)\" points=\"291.0,408.0 291.0,103.9 301.3,103.9 301.3,408.0 \"/>\n",
       "\t</g>\n",
       "\t<path d=\"M291.0,408.0 L291.0,103.9 L301.3,103.9 L301.3,408.0  \" stroke=\"rgb( 68,   1,  84)\"/></g>\n",
       "\t</g>\n",
       "\t<g id=\"gnuplot_plot_52a\"><title>gnuplot_plot_52a</title>\n",
       "<g color=\"#FFFFFF\" fill=\"none\" stroke=\"rgb( 68,   1,  84)\" stroke-linecap=\"butt\" stroke-linejoin=\"miter\" stroke-width=\"0.50\">\n",
       "</g>\n",
       "<g color=\"black\" fill=\"none\" stroke=\"currentColor\" stroke-linecap=\"butt\" stroke-linejoin=\"miter\" stroke-width=\"0.50\">\n",
       "\t<path d=\"M291.0,408.0 L291.0,103.9 L301.3,103.9 L301.3,408.0 L291.0,408.0  \" stroke=\"rgb(  0,   0,   0)\"/></g>\n",
       "\t</g>\n",
       "\t<g id=\"gnuplot_plot_53a\"><title>gnuplot_plot_53a</title>\n",
       "<g color=\"#FFFFFF\" fill=\"none\" stroke=\"rgb(  0,   0,   0)\" stroke-linecap=\"butt\" stroke-linejoin=\"miter\" stroke-width=\"1.00\">\n",
       "</g>\n",
       "<g color=\"black\" fill=\"none\" stroke=\"currentColor\" stroke-linecap=\"butt\" stroke-linejoin=\"miter\" stroke-width=\"1.00\">\n",
       "\t<g shape-rendering=\"crispEdges\" stroke=\"none\">\n",
       "\t\t<polygon fill=\"rgb( 68,   1,  84)\" points=\"301.3,408.0 301.3,170.0 311.6,170.0 311.6,408.0 \"/>\n",
       "\t</g>\n",
       "\t<path d=\"M301.3,408.0 L301.3,170.0 L311.6,170.0 L311.6,408.0  \" stroke=\"rgb( 68,   1,  84)\"/></g>\n",
       "\t</g>\n",
       "\t<g id=\"gnuplot_plot_54a\"><title>gnuplot_plot_54a</title>\n",
       "<g color=\"#FFFFFF\" fill=\"none\" stroke=\"rgb( 68,   1,  84)\" stroke-linecap=\"butt\" stroke-linejoin=\"miter\" stroke-width=\"0.50\">\n",
       "</g>\n",
       "<g color=\"black\" fill=\"none\" stroke=\"currentColor\" stroke-linecap=\"butt\" stroke-linejoin=\"miter\" stroke-width=\"0.50\">\n",
       "\t<path d=\"M301.3,408.0 L301.3,170.0 L311.6,170.0 L311.6,408.0 L301.3,408.0  \" stroke=\"rgb(  0,   0,   0)\"/></g>\n",
       "\t</g>\n",
       "\t<g id=\"gnuplot_plot_55a\"><title>gnuplot_plot_55a</title>\n",
       "<g color=\"#FFFFFF\" fill=\"none\" stroke=\"rgb(  0,   0,   0)\" stroke-linecap=\"butt\" stroke-linejoin=\"miter\" stroke-width=\"1.00\">\n",
       "</g>\n",
       "<g color=\"black\" fill=\"none\" stroke=\"currentColor\" stroke-linecap=\"butt\" stroke-linejoin=\"miter\" stroke-width=\"1.00\">\n",
       "\t<g shape-rendering=\"crispEdges\" stroke=\"none\">\n",
       "\t\t<polygon fill=\"rgb( 68,   1,  84)\" points=\"311.6,408.0 311.6,150.1 321.8,150.1 321.8,408.0 \"/>\n",
       "\t</g>\n",
       "\t<path d=\"M311.6,408.0 L311.6,150.1 L321.8,150.1 L321.8,408.0  \" stroke=\"rgb( 68,   1,  84)\"/></g>\n",
       "\t</g>\n",
       "\t<g id=\"gnuplot_plot_56a\"><title>gnuplot_plot_56a</title>\n",
       "<g color=\"#FFFFFF\" fill=\"none\" stroke=\"rgb( 68,   1,  84)\" stroke-linecap=\"butt\" stroke-linejoin=\"miter\" stroke-width=\"0.50\">\n",
       "</g>\n",
       "<g color=\"black\" fill=\"none\" stroke=\"currentColor\" stroke-linecap=\"butt\" stroke-linejoin=\"miter\" stroke-width=\"0.50\">\n",
       "\t<path d=\"M311.6,408.0 L311.6,150.1 L321.8,150.1 L321.8,408.0 L311.6,408.0  \" stroke=\"rgb(  0,   0,   0)\"/></g>\n",
       "\t</g>\n",
       "\t<g id=\"gnuplot_plot_57a\"><title>gnuplot_plot_57a</title>\n",
       "<g color=\"#FFFFFF\" fill=\"none\" stroke=\"rgb(  0,   0,   0)\" stroke-linecap=\"butt\" stroke-linejoin=\"miter\" stroke-width=\"1.00\">\n",
       "</g>\n",
       "<g color=\"black\" fill=\"none\" stroke=\"currentColor\" stroke-linecap=\"butt\" stroke-linejoin=\"miter\" stroke-width=\"1.00\">\n",
       "\t<g shape-rendering=\"crispEdges\" stroke=\"none\">\n",
       "\t\t<polygon fill=\"rgb( 68,   1,  84)\" points=\"321.8,408.0 321.8,203.0 332.1,203.0 332.1,408.0 \"/>\n",
       "\t</g>\n",
       "\t<path d=\"M321.8,408.0 L321.8,203.0 L332.1,203.0 L332.1,408.0  \" stroke=\"rgb( 68,   1,  84)\"/></g>\n",
       "\t</g>\n",
       "\t<g id=\"gnuplot_plot_58a\"><title>gnuplot_plot_58a</title>\n",
       "<g color=\"#FFFFFF\" fill=\"none\" stroke=\"rgb( 68,   1,  84)\" stroke-linecap=\"butt\" stroke-linejoin=\"miter\" stroke-width=\"0.50\">\n",
       "</g>\n",
       "<g color=\"black\" fill=\"none\" stroke=\"currentColor\" stroke-linecap=\"butt\" stroke-linejoin=\"miter\" stroke-width=\"0.50\">\n",
       "\t<path d=\"M321.8,408.0 L321.8,203.0 L332.1,203.0 L332.1,408.0 L321.8,408.0  \" stroke=\"rgb(  0,   0,   0)\"/></g>\n",
       "\t</g>\n",
       "\t<g id=\"gnuplot_plot_59a\"><title>gnuplot_plot_59a</title>\n",
       "<g color=\"#FFFFFF\" fill=\"none\" stroke=\"rgb(  0,   0,   0)\" stroke-linecap=\"butt\" stroke-linejoin=\"miter\" stroke-width=\"1.00\">\n",
       "</g>\n",
       "<g color=\"black\" fill=\"none\" stroke=\"currentColor\" stroke-linecap=\"butt\" stroke-linejoin=\"miter\" stroke-width=\"1.00\">\n",
       "\t<g shape-rendering=\"crispEdges\" stroke=\"none\">\n",
       "\t\t<polygon fill=\"rgb( 68,   1,  84)\" points=\"332.1,408.0 332.1,143.5 342.4,143.5 342.4,408.0 \"/>\n",
       "\t</g>\n",
       "\t<path d=\"M332.1,408.0 L332.1,143.5 L342.4,143.5 L342.4,408.0  \" stroke=\"rgb( 68,   1,  84)\"/></g>\n",
       "\t</g>\n",
       "\t<g id=\"gnuplot_plot_60a\"><title>gnuplot_plot_60a</title>\n",
       "<g color=\"#FFFFFF\" fill=\"none\" stroke=\"rgb( 68,   1,  84)\" stroke-linecap=\"butt\" stroke-linejoin=\"miter\" stroke-width=\"0.50\">\n",
       "</g>\n",
       "<g color=\"black\" fill=\"none\" stroke=\"currentColor\" stroke-linecap=\"butt\" stroke-linejoin=\"miter\" stroke-width=\"0.50\">\n",
       "\t<path d=\"M332.1,408.0 L332.1,143.5 L342.4,143.5 L342.4,408.0 L332.1,408.0  \" stroke=\"rgb(  0,   0,   0)\"/></g>\n",
       "\t</g>\n",
       "\t<g id=\"gnuplot_plot_61a\"><title>gnuplot_plot_61a</title>\n",
       "<g color=\"#FFFFFF\" fill=\"none\" stroke=\"rgb(  0,   0,   0)\" stroke-linecap=\"butt\" stroke-linejoin=\"miter\" stroke-width=\"1.00\">\n",
       "</g>\n",
       "<g color=\"black\" fill=\"none\" stroke=\"currentColor\" stroke-linecap=\"butt\" stroke-linejoin=\"miter\" stroke-width=\"1.00\">\n",
       "\t<g shape-rendering=\"crispEdges\" stroke=\"none\">\n",
       "\t\t<polygon fill=\"rgb( 68,   1,  84)\" points=\"342.4,408.0 342.4,176.6 352.6,176.6 352.6,408.0 \"/>\n",
       "\t</g>\n",
       "\t<path d=\"M342.4,408.0 L342.4,176.6 L352.6,176.6 L352.6,408.0  \" stroke=\"rgb( 68,   1,  84)\"/></g>\n",
       "\t</g>\n",
       "\t<g id=\"gnuplot_plot_62a\"><title>gnuplot_plot_62a</title>\n",
       "<g color=\"#FFFFFF\" fill=\"none\" stroke=\"rgb( 68,   1,  84)\" stroke-linecap=\"butt\" stroke-linejoin=\"miter\" stroke-width=\"0.50\">\n",
       "</g>\n",
       "<g color=\"black\" fill=\"none\" stroke=\"currentColor\" stroke-linecap=\"butt\" stroke-linejoin=\"miter\" stroke-width=\"0.50\">\n",
       "\t<path d=\"M342.4,408.0 L342.4,176.6 L352.6,176.6 L352.6,408.0 L342.4,408.0  \" stroke=\"rgb(  0,   0,   0)\"/></g>\n",
       "\t</g>\n",
       "\t<g id=\"gnuplot_plot_63a\"><title>gnuplot_plot_63a</title>\n",
       "<g color=\"#FFFFFF\" fill=\"none\" stroke=\"rgb(  0,   0,   0)\" stroke-linecap=\"butt\" stroke-linejoin=\"miter\" stroke-width=\"1.00\">\n",
       "</g>\n",
       "<g color=\"black\" fill=\"none\" stroke=\"currentColor\" stroke-linecap=\"butt\" stroke-linejoin=\"miter\" stroke-width=\"1.00\">\n",
       "\t<g shape-rendering=\"crispEdges\" stroke=\"none\">\n",
       "\t\t<polygon fill=\"rgb( 68,   1,  84)\" points=\"352.6,408.0 352.6,229.5 362.9,229.5 362.9,408.0 \"/>\n",
       "\t</g>\n",
       "\t<path d=\"M352.6,408.0 L352.6,229.5 L362.9,229.5 L362.9,408.0  \" stroke=\"rgb( 68,   1,  84)\"/></g>\n",
       "\t</g>\n",
       "\t<g id=\"gnuplot_plot_64a\"><title>gnuplot_plot_64a</title>\n",
       "<g color=\"#FFFFFF\" fill=\"none\" stroke=\"rgb( 68,   1,  84)\" stroke-linecap=\"butt\" stroke-linejoin=\"miter\" stroke-width=\"0.50\">\n",
       "</g>\n",
       "<g color=\"black\" fill=\"none\" stroke=\"currentColor\" stroke-linecap=\"butt\" stroke-linejoin=\"miter\" stroke-width=\"0.50\">\n",
       "\t<path d=\"M352.6,408.0 L352.6,229.5 L362.9,229.5 L362.9,408.0 L352.6,408.0  \" stroke=\"rgb(  0,   0,   0)\"/></g>\n",
       "\t</g>\n",
       "\t<g id=\"gnuplot_plot_65a\"><title>gnuplot_plot_65a</title>\n",
       "<g color=\"#FFFFFF\" fill=\"none\" stroke=\"rgb(  0,   0,   0)\" stroke-linecap=\"butt\" stroke-linejoin=\"miter\" stroke-width=\"1.00\">\n",
       "</g>\n",
       "<g color=\"black\" fill=\"none\" stroke=\"currentColor\" stroke-linecap=\"butt\" stroke-linejoin=\"miter\" stroke-width=\"1.00\">\n",
       "\t<g shape-rendering=\"crispEdges\" stroke=\"none\">\n",
       "\t\t<polygon fill=\"rgb( 68,   1,  84)\" points=\"362.9,408.0 362.9,229.5 373.2,229.5 373.2,408.0 \"/>\n",
       "\t</g>\n",
       "\t<path d=\"M362.9,408.0 L362.9,229.5 L373.2,229.5 L373.2,408.0  \" stroke=\"rgb( 68,   1,  84)\"/></g>\n",
       "\t</g>\n",
       "\t<g id=\"gnuplot_plot_66a\"><title>gnuplot_plot_66a</title>\n",
       "<g color=\"#FFFFFF\" fill=\"none\" stroke=\"rgb( 68,   1,  84)\" stroke-linecap=\"butt\" stroke-linejoin=\"miter\" stroke-width=\"0.50\">\n",
       "</g>\n",
       "<g color=\"black\" fill=\"none\" stroke=\"currentColor\" stroke-linecap=\"butt\" stroke-linejoin=\"miter\" stroke-width=\"0.50\">\n",
       "\t<path d=\"M362.9,408.0 L362.9,229.5 L373.2,229.5 L373.2,408.0 L362.9,408.0  \" stroke=\"rgb(  0,   0,   0)\"/></g>\n",
       "\t</g>\n",
       "\t<g id=\"gnuplot_plot_67a\"><title>gnuplot_plot_67a</title>\n",
       "<g color=\"#FFFFFF\" fill=\"none\" stroke=\"rgb(  0,   0,   0)\" stroke-linecap=\"butt\" stroke-linejoin=\"miter\" stroke-width=\"1.00\">\n",
       "</g>\n",
       "<g color=\"black\" fill=\"none\" stroke=\"currentColor\" stroke-linecap=\"butt\" stroke-linejoin=\"miter\" stroke-width=\"1.00\">\n",
       "\t<g shape-rendering=\"crispEdges\" stroke=\"none\">\n",
       "\t\t<polygon fill=\"rgb( 68,   1,  84)\" points=\"373.2,408.0 373.2,289.0 383.4,289.0 383.4,408.0 \"/>\n",
       "\t</g>\n",
       "\t<path d=\"M373.2,408.0 L373.2,289.0 L383.4,289.0 L383.4,408.0  \" stroke=\"rgb( 68,   1,  84)\"/></g>\n",
       "\t</g>\n",
       "\t<g id=\"gnuplot_plot_68a\"><title>gnuplot_plot_68a</title>\n",
       "<g color=\"#FFFFFF\" fill=\"none\" stroke=\"rgb( 68,   1,  84)\" stroke-linecap=\"butt\" stroke-linejoin=\"miter\" stroke-width=\"0.50\">\n",
       "</g>\n",
       "<g color=\"black\" fill=\"none\" stroke=\"currentColor\" stroke-linecap=\"butt\" stroke-linejoin=\"miter\" stroke-width=\"0.50\">\n",
       "\t<path d=\"M373.2,408.0 L373.2,289.0 L383.4,289.0 L383.4,408.0 L373.2,408.0  \" stroke=\"rgb(  0,   0,   0)\"/></g>\n",
       "\t</g>\n",
       "\t<g id=\"gnuplot_plot_69a\"><title>gnuplot_plot_69a</title>\n",
       "<g color=\"#FFFFFF\" fill=\"none\" stroke=\"rgb(  0,   0,   0)\" stroke-linecap=\"butt\" stroke-linejoin=\"miter\" stroke-width=\"1.00\">\n",
       "</g>\n",
       "<g color=\"black\" fill=\"none\" stroke=\"currentColor\" stroke-linecap=\"butt\" stroke-linejoin=\"miter\" stroke-width=\"1.00\">\n",
       "\t<g shape-rendering=\"crispEdges\" stroke=\"none\">\n",
       "\t\t<polygon fill=\"rgb( 68,   1,  84)\" points=\"383.4,408.0 383.4,229.5 393.7,229.5 393.7,408.0 \"/>\n",
       "\t</g>\n",
       "\t<path d=\"M383.4,408.0 L383.4,229.5 L393.7,229.5 L393.7,408.0  \" stroke=\"rgb( 68,   1,  84)\"/></g>\n",
       "\t</g>\n",
       "\t<g id=\"gnuplot_plot_70a\"><title>gnuplot_plot_70a</title>\n",
       "<g color=\"#FFFFFF\" fill=\"none\" stroke=\"rgb( 68,   1,  84)\" stroke-linecap=\"butt\" stroke-linejoin=\"miter\" stroke-width=\"0.50\">\n",
       "</g>\n",
       "<g color=\"black\" fill=\"none\" stroke=\"currentColor\" stroke-linecap=\"butt\" stroke-linejoin=\"miter\" stroke-width=\"0.50\">\n",
       "\t<path d=\"M383.4,408.0 L383.4,229.5 L393.7,229.5 L393.7,408.0 L383.4,408.0  \" stroke=\"rgb(  0,   0,   0)\"/></g>\n",
       "\t</g>\n",
       "\t<g id=\"gnuplot_plot_71a\"><title>gnuplot_plot_71a</title>\n",
       "<g color=\"#FFFFFF\" fill=\"none\" stroke=\"rgb(  0,   0,   0)\" stroke-linecap=\"butt\" stroke-linejoin=\"miter\" stroke-width=\"1.00\">\n",
       "</g>\n",
       "<g color=\"black\" fill=\"none\" stroke=\"currentColor\" stroke-linecap=\"butt\" stroke-linejoin=\"miter\" stroke-width=\"1.00\">\n",
       "\t<g shape-rendering=\"crispEdges\" stroke=\"none\">\n",
       "\t\t<polygon fill=\"rgb( 68,   1,  84)\" points=\"393.7,408.0 393.7,308.8 404.0,308.8 404.0,408.0 \"/>\n",
       "\t</g>\n",
       "\t<path d=\"M393.7,408.0 L393.7,308.8 L404.0,308.8 L404.0,408.0  \" stroke=\"rgb( 68,   1,  84)\"/></g>\n",
       "\t</g>\n",
       "\t<g id=\"gnuplot_plot_72a\"><title>gnuplot_plot_72a</title>\n",
       "<g color=\"#FFFFFF\" fill=\"none\" stroke=\"rgb( 68,   1,  84)\" stroke-linecap=\"butt\" stroke-linejoin=\"miter\" stroke-width=\"0.50\">\n",
       "</g>\n",
       "<g color=\"black\" fill=\"none\" stroke=\"currentColor\" stroke-linecap=\"butt\" stroke-linejoin=\"miter\" stroke-width=\"0.50\">\n",
       "\t<path d=\"M393.7,408.0 L393.7,308.8 L404.0,308.8 L404.0,408.0 L393.7,408.0  \" stroke=\"rgb(  0,   0,   0)\"/></g>\n",
       "\t</g>\n",
       "\t<g id=\"gnuplot_plot_73a\"><title>gnuplot_plot_73a</title>\n",
       "<g color=\"#FFFFFF\" fill=\"none\" stroke=\"rgb(  0,   0,   0)\" stroke-linecap=\"butt\" stroke-linejoin=\"miter\" stroke-width=\"1.00\">\n",
       "</g>\n",
       "<g color=\"black\" fill=\"none\" stroke=\"currentColor\" stroke-linecap=\"butt\" stroke-linejoin=\"miter\" stroke-width=\"1.00\">\n",
       "\t<g shape-rendering=\"crispEdges\" stroke=\"none\">\n",
       "\t\t<polygon fill=\"rgb( 68,   1,  84)\" points=\"404.0,408.0 404.0,335.3 414.2,335.3 414.2,408.0 \"/>\n",
       "\t</g>\n",
       "\t<path d=\"M404.0,408.0 L404.0,335.3 L414.2,335.3 L414.2,408.0  \" stroke=\"rgb( 68,   1,  84)\"/></g>\n",
       "\t</g>\n",
       "\t<g id=\"gnuplot_plot_74a\"><title>gnuplot_plot_74a</title>\n",
       "<g color=\"#FFFFFF\" fill=\"none\" stroke=\"rgb( 68,   1,  84)\" stroke-linecap=\"butt\" stroke-linejoin=\"miter\" stroke-width=\"0.50\">\n",
       "</g>\n",
       "<g color=\"black\" fill=\"none\" stroke=\"currentColor\" stroke-linecap=\"butt\" stroke-linejoin=\"miter\" stroke-width=\"0.50\">\n",
       "\t<path d=\"M404.0,408.0 L404.0,335.3 L414.2,335.3 L414.2,408.0 L404.0,408.0  \" stroke=\"rgb(  0,   0,   0)\"/></g>\n",
       "\t</g>\n",
       "\t<g id=\"gnuplot_plot_75a\"><title>gnuplot_plot_75a</title>\n",
       "<g color=\"#FFFFFF\" fill=\"none\" stroke=\"rgb(  0,   0,   0)\" stroke-linecap=\"butt\" stroke-linejoin=\"miter\" stroke-width=\"1.00\">\n",
       "</g>\n",
       "<g color=\"black\" fill=\"none\" stroke=\"currentColor\" stroke-linecap=\"butt\" stroke-linejoin=\"miter\" stroke-width=\"1.00\">\n",
       "\t<g shape-rendering=\"crispEdges\" stroke=\"none\">\n",
       "\t\t<polygon fill=\"rgb( 68,   1,  84)\" points=\"414.2,408.0 414.2,341.9 424.5,341.9 424.5,408.0 \"/>\n",
       "\t</g>\n",
       "\t<path d=\"M414.2,408.0 L414.2,341.9 L424.5,341.9 L424.5,408.0  \" stroke=\"rgb( 68,   1,  84)\"/></g>\n",
       "\t</g>\n",
       "\t<g id=\"gnuplot_plot_76a\"><title>gnuplot_plot_76a</title>\n",
       "<g color=\"#FFFFFF\" fill=\"none\" stroke=\"rgb( 68,   1,  84)\" stroke-linecap=\"butt\" stroke-linejoin=\"miter\" stroke-width=\"0.50\">\n",
       "</g>\n",
       "<g color=\"black\" fill=\"none\" stroke=\"currentColor\" stroke-linecap=\"butt\" stroke-linejoin=\"miter\" stroke-width=\"0.50\">\n",
       "\t<path d=\"M414.2,408.0 L414.2,341.9 L424.5,341.9 L424.5,408.0 L414.2,408.0  \" stroke=\"rgb(  0,   0,   0)\"/></g>\n",
       "\t</g>\n",
       "\t<g id=\"gnuplot_plot_77a\"><title>gnuplot_plot_77a</title>\n",
       "<g color=\"#FFFFFF\" fill=\"none\" stroke=\"rgb(  0,   0,   0)\" stroke-linecap=\"butt\" stroke-linejoin=\"miter\" stroke-width=\"1.00\">\n",
       "</g>\n",
       "<g color=\"black\" fill=\"none\" stroke=\"currentColor\" stroke-linecap=\"butt\" stroke-linejoin=\"miter\" stroke-width=\"1.00\">\n",
       "\t<g shape-rendering=\"crispEdges\" stroke=\"none\">\n",
       "\t\t<polygon fill=\"rgb( 68,   1,  84)\" points=\"424.5,408.0 424.5,355.1 434.8,355.1 434.8,408.0 \"/>\n",
       "\t</g>\n",
       "\t<path d=\"M424.5,408.0 L424.5,355.1 L434.8,355.1 L434.8,408.0  \" stroke=\"rgb( 68,   1,  84)\"/></g>\n",
       "\t</g>\n",
       "\t<g id=\"gnuplot_plot_78a\"><title>gnuplot_plot_78a</title>\n",
       "<g color=\"#FFFFFF\" fill=\"none\" stroke=\"rgb( 68,   1,  84)\" stroke-linecap=\"butt\" stroke-linejoin=\"miter\" stroke-width=\"0.50\">\n",
       "</g>\n",
       "<g color=\"black\" fill=\"none\" stroke=\"currentColor\" stroke-linecap=\"butt\" stroke-linejoin=\"miter\" stroke-width=\"0.50\">\n",
       "\t<path d=\"M424.5,408.0 L424.5,355.1 L434.8,355.1 L434.8,408.0 L424.5,408.0  \" stroke=\"rgb(  0,   0,   0)\"/></g>\n",
       "\t</g>\n",
       "\t<g id=\"gnuplot_plot_79a\"><title>gnuplot_plot_79a</title>\n",
       "<g color=\"#FFFFFF\" fill=\"none\" stroke=\"rgb(  0,   0,   0)\" stroke-linecap=\"butt\" stroke-linejoin=\"miter\" stroke-width=\"1.00\">\n",
       "</g>\n",
       "<g color=\"black\" fill=\"none\" stroke=\"currentColor\" stroke-linecap=\"butt\" stroke-linejoin=\"miter\" stroke-width=\"1.00\">\n",
       "\t<g shape-rendering=\"crispEdges\" stroke=\"none\">\n",
       "\t\t<polygon fill=\"rgb( 68,   1,  84)\" points=\"434.8,408.0 434.8,335.3 445.0,335.3 445.0,408.0 \"/>\n",
       "\t</g>\n",
       "\t<path d=\"M434.8,408.0 L434.8,335.3 L445.0,335.3 L445.0,408.0  \" stroke=\"rgb( 68,   1,  84)\"/></g>\n",
       "\t</g>\n",
       "\t<g id=\"gnuplot_plot_80a\"><title>gnuplot_plot_80a</title>\n",
       "<g color=\"#FFFFFF\" fill=\"none\" stroke=\"rgb( 68,   1,  84)\" stroke-linecap=\"butt\" stroke-linejoin=\"miter\" stroke-width=\"0.50\">\n",
       "</g>\n",
       "<g color=\"black\" fill=\"none\" stroke=\"currentColor\" stroke-linecap=\"butt\" stroke-linejoin=\"miter\" stroke-width=\"0.50\">\n",
       "\t<path d=\"M434.8,408.0 L434.8,335.3 L445.0,335.3 L445.0,408.0 L434.8,408.0  \" stroke=\"rgb(  0,   0,   0)\"/></g>\n",
       "\t</g>\n",
       "\t<g id=\"gnuplot_plot_81a\"><title>gnuplot_plot_81a</title>\n",
       "<g color=\"#FFFFFF\" fill=\"none\" stroke=\"rgb(  0,   0,   0)\" stroke-linecap=\"butt\" stroke-linejoin=\"miter\" stroke-width=\"1.00\">\n",
       "</g>\n",
       "<g color=\"black\" fill=\"none\" stroke=\"currentColor\" stroke-linecap=\"butt\" stroke-linejoin=\"miter\" stroke-width=\"1.00\">\n",
       "\t<g shape-rendering=\"crispEdges\" stroke=\"none\">\n",
       "\t\t<polygon fill=\"rgb( 68,   1,  84)\" points=\"445.0,408.0 445.0,388.2 455.3,388.2 455.3,408.0 \"/>\n",
       "\t</g>\n",
       "\t<path d=\"M445.0,408.0 L445.0,388.2 L455.3,388.2 L455.3,408.0  \" stroke=\"rgb( 68,   1,  84)\"/></g>\n",
       "\t</g>\n",
       "\t<g id=\"gnuplot_plot_82a\"><title>gnuplot_plot_82a</title>\n",
       "<g color=\"#FFFFFF\" fill=\"none\" stroke=\"rgb( 68,   1,  84)\" stroke-linecap=\"butt\" stroke-linejoin=\"miter\" stroke-width=\"0.50\">\n",
       "</g>\n",
       "<g color=\"black\" fill=\"none\" stroke=\"currentColor\" stroke-linecap=\"butt\" stroke-linejoin=\"miter\" stroke-width=\"0.50\">\n",
       "\t<path d=\"M445.0,408.0 L445.0,388.2 L455.3,388.2 L455.3,408.0 L445.0,408.0  \" stroke=\"rgb(  0,   0,   0)\"/></g>\n",
       "\t</g>\n",
       "\t<g id=\"gnuplot_plot_83a\"><title>gnuplot_plot_83a</title>\n",
       "<g color=\"#FFFFFF\" fill=\"none\" stroke=\"rgb(  0,   0,   0)\" stroke-linecap=\"butt\" stroke-linejoin=\"miter\" stroke-width=\"1.00\">\n",
       "</g>\n",
       "<g color=\"black\" fill=\"none\" stroke=\"currentColor\" stroke-linecap=\"butt\" stroke-linejoin=\"miter\" stroke-width=\"1.00\">\n",
       "\t<g shape-rendering=\"crispEdges\" stroke=\"none\">\n",
       "\t\t<polygon fill=\"rgb( 68,   1,  84)\" points=\"455.3,408.0 455.3,381.6 465.6,381.6 465.6,408.0 \"/>\n",
       "\t</g>\n",
       "\t<path d=\"M455.3,408.0 L455.3,381.6 L465.6,381.6 L465.6,408.0  \" stroke=\"rgb( 68,   1,  84)\"/></g>\n",
       "\t</g>\n",
       "\t<g id=\"gnuplot_plot_84a\"><title>gnuplot_plot_84a</title>\n",
       "<g color=\"#FFFFFF\" fill=\"none\" stroke=\"rgb( 68,   1,  84)\" stroke-linecap=\"butt\" stroke-linejoin=\"miter\" stroke-width=\"0.50\">\n",
       "</g>\n",
       "<g color=\"black\" fill=\"none\" stroke=\"currentColor\" stroke-linecap=\"butt\" stroke-linejoin=\"miter\" stroke-width=\"0.50\">\n",
       "\t<path d=\"M455.3,408.0 L455.3,381.6 L465.6,381.6 L465.6,408.0 L455.3,408.0  \" stroke=\"rgb(  0,   0,   0)\"/></g>\n",
       "\t</g>\n",
       "\t<g id=\"gnuplot_plot_85a\"><title>gnuplot_plot_85a</title>\n",
       "<g color=\"#FFFFFF\" fill=\"none\" stroke=\"rgb(  0,   0,   0)\" stroke-linecap=\"butt\" stroke-linejoin=\"miter\" stroke-width=\"1.00\">\n",
       "</g>\n",
       "<g color=\"black\" fill=\"none\" stroke=\"currentColor\" stroke-linecap=\"butt\" stroke-linejoin=\"miter\" stroke-width=\"1.00\">\n",
       "\t<g shape-rendering=\"crispEdges\" stroke=\"none\">\n",
       "\t\t<polygon fill=\"rgb( 68,   1,  84)\" points=\"465.6,408.0 465.6,401.4 475.8,401.4 475.8,408.0 \"/>\n",
       "\t</g>\n",
       "\t<path d=\"M465.6,408.0 L465.6,401.4 L475.8,401.4 L475.8,408.0  \" stroke=\"rgb( 68,   1,  84)\"/></g>\n",
       "\t</g>\n",
       "\t<g id=\"gnuplot_plot_86a\"><title>gnuplot_plot_86a</title>\n",
       "<g color=\"#FFFFFF\" fill=\"none\" stroke=\"rgb( 68,   1,  84)\" stroke-linecap=\"butt\" stroke-linejoin=\"miter\" stroke-width=\"0.50\">\n",
       "</g>\n",
       "<g color=\"black\" fill=\"none\" stroke=\"currentColor\" stroke-linecap=\"butt\" stroke-linejoin=\"miter\" stroke-width=\"0.50\">\n",
       "\t<path d=\"M465.6,408.0 L465.6,401.4 L475.8,401.4 L475.8,408.0 L465.6,408.0  \" stroke=\"rgb(  0,   0,   0)\"/></g>\n",
       "\t</g>\n",
       "\t<g id=\"gnuplot_plot_87a\"><title>gnuplot_plot_87a</title>\n",
       "<g color=\"#FFFFFF\" fill=\"none\" stroke=\"rgb(  0,   0,   0)\" stroke-linecap=\"butt\" stroke-linejoin=\"miter\" stroke-width=\"1.00\">\n",
       "</g>\n",
       "<g color=\"black\" fill=\"none\" stroke=\"currentColor\" stroke-linecap=\"butt\" stroke-linejoin=\"miter\" stroke-width=\"1.00\">\n",
       "\t<g shape-rendering=\"crispEdges\" stroke=\"none\">\n",
       "\t\t<polygon fill=\"rgb( 68,   1,  84)\" points=\"475.8,408.0 475.8,388.2 486.1,388.2 486.1,408.0 \"/>\n",
       "\t</g>\n",
       "\t<path d=\"M475.8,408.0 L475.8,388.2 L486.1,388.2 L486.1,408.0  \" stroke=\"rgb( 68,   1,  84)\"/></g>\n",
       "\t</g>\n",
       "\t<g id=\"gnuplot_plot_88a\"><title>gnuplot_plot_88a</title>\n",
       "<g color=\"#FFFFFF\" fill=\"none\" stroke=\"rgb( 68,   1,  84)\" stroke-linecap=\"butt\" stroke-linejoin=\"miter\" stroke-width=\"0.50\">\n",
       "</g>\n",
       "<g color=\"black\" fill=\"none\" stroke=\"currentColor\" stroke-linecap=\"butt\" stroke-linejoin=\"miter\" stroke-width=\"0.50\">\n",
       "\t<path d=\"M475.8,408.0 L475.8,388.2 L486.1,388.2 L486.1,408.0 L475.8,408.0  \" stroke=\"rgb(  0,   0,   0)\"/></g>\n",
       "\t</g>\n",
       "\t<g id=\"gnuplot_plot_89a\"><title>gnuplot_plot_89a</title>\n",
       "<g color=\"#FFFFFF\" fill=\"none\" stroke=\"rgb(  0,   0,   0)\" stroke-linecap=\"butt\" stroke-linejoin=\"miter\" stroke-width=\"1.00\">\n",
       "</g>\n",
       "<g color=\"black\" fill=\"none\" stroke=\"currentColor\" stroke-linecap=\"butt\" stroke-linejoin=\"miter\" stroke-width=\"1.00\">\n",
       "\t<g shape-rendering=\"crispEdges\" stroke=\"none\">\n",
       "\t\t<polygon fill=\"rgb( 68,   1,  84)\" points=\"486.1,408.0 486.1,388.2 496.4,388.2 496.4,408.0 \"/>\n",
       "\t</g>\n",
       "\t<path d=\"M486.1,408.0 L486.1,388.2 L496.4,388.2 L496.4,408.0  \" stroke=\"rgb( 68,   1,  84)\"/></g>\n",
       "\t</g>\n",
       "\t<g id=\"gnuplot_plot_90a\"><title>gnuplot_plot_90a</title>\n",
       "<g color=\"#FFFFFF\" fill=\"none\" stroke=\"rgb( 68,   1,  84)\" stroke-linecap=\"butt\" stroke-linejoin=\"miter\" stroke-width=\"0.50\">\n",
       "</g>\n",
       "<g color=\"black\" fill=\"none\" stroke=\"currentColor\" stroke-linecap=\"butt\" stroke-linejoin=\"miter\" stroke-width=\"0.50\">\n",
       "\t<path d=\"M486.1,408.0 L486.1,388.2 L496.4,388.2 L496.4,408.0 L486.1,408.0  \" stroke=\"rgb(  0,   0,   0)\"/></g>\n",
       "\t</g>\n",
       "\t<g id=\"gnuplot_plot_91a\"><title>gnuplot_plot_91a</title>\n",
       "<g color=\"#FFFFFF\" fill=\"none\" stroke=\"rgb(  0,   0,   0)\" stroke-linecap=\"butt\" stroke-linejoin=\"miter\" stroke-width=\"1.00\">\n",
       "</g>\n",
       "<g color=\"black\" fill=\"none\" stroke=\"currentColor\" stroke-linecap=\"butt\" stroke-linejoin=\"miter\" stroke-width=\"1.00\">\n",
       "\t<g shape-rendering=\"crispEdges\" stroke=\"none\">\n",
       "\t\t<polygon fill=\"rgb( 68,   1,  84)\" points=\"496.4,408.0 496.4,408.0 506.6,408.0 506.6,408.0 \"/>\n",
       "\t</g>\n",
       "\t<path d=\"M496.4,408.0 L506.6,408.0  \" stroke=\"rgb( 68,   1,  84)\"/></g>\n",
       "\t</g>\n",
       "\t<g id=\"gnuplot_plot_92a\"><title>gnuplot_plot_92a</title>\n",
       "<g color=\"#FFFFFF\" fill=\"none\" stroke=\"rgb( 68,   1,  84)\" stroke-linecap=\"butt\" stroke-linejoin=\"miter\" stroke-width=\"0.50\">\n",
       "</g>\n",
       "<g color=\"black\" fill=\"none\" stroke=\"currentColor\" stroke-linecap=\"butt\" stroke-linejoin=\"miter\" stroke-width=\"0.50\">\n",
       "\t<path d=\"M496.4,408.0 L506.6,408.0 L496.4,408.0  \" stroke=\"rgb(  0,   0,   0)\"/></g>\n",
       "\t</g>\n",
       "\t<g id=\"gnuplot_plot_93a\"><title>gnuplot_plot_93a</title>\n",
       "<g color=\"#FFFFFF\" fill=\"none\" stroke=\"rgb(  0,   0,   0)\" stroke-linecap=\"butt\" stroke-linejoin=\"miter\" stroke-width=\"1.00\">\n",
       "</g>\n",
       "<g color=\"black\" fill=\"none\" stroke=\"currentColor\" stroke-linecap=\"butt\" stroke-linejoin=\"miter\" stroke-width=\"1.00\">\n",
       "\t<g shape-rendering=\"crispEdges\" stroke=\"none\">\n",
       "\t\t<polygon fill=\"rgb( 68,   1,  84)\" points=\"506.6,408.0 506.6,394.8 516.9,394.8 516.9,408.0 \"/>\n",
       "\t</g>\n",
       "\t<path d=\"M506.6,408.0 L506.6,394.8 L516.9,394.8 L516.9,408.0  \" stroke=\"rgb( 68,   1,  84)\"/></g>\n",
       "\t</g>\n",
       "\t<g id=\"gnuplot_plot_94a\"><title>gnuplot_plot_94a</title>\n",
       "<g color=\"#FFFFFF\" fill=\"none\" stroke=\"rgb( 68,   1,  84)\" stroke-linecap=\"butt\" stroke-linejoin=\"miter\" stroke-width=\"0.50\">\n",
       "</g>\n",
       "<g color=\"black\" fill=\"none\" stroke=\"currentColor\" stroke-linecap=\"butt\" stroke-linejoin=\"miter\" stroke-width=\"0.50\">\n",
       "\t<path d=\"M506.6,408.0 L506.6,394.8 L516.9,394.8 L516.9,408.0 L506.6,408.0  \" stroke=\"rgb(  0,   0,   0)\"/></g>\n",
       "\t</g>\n",
       "\t<g id=\"gnuplot_plot_95a\"><title>gnuplot_plot_95a</title>\n",
       "<g color=\"#FFFFFF\" fill=\"none\" stroke=\"rgb(  0,   0,   0)\" stroke-linecap=\"butt\" stroke-linejoin=\"miter\" stroke-width=\"1.00\">\n",
       "</g>\n",
       "<g color=\"black\" fill=\"none\" stroke=\"currentColor\" stroke-linecap=\"butt\" stroke-linejoin=\"miter\" stroke-width=\"1.00\">\n",
       "\t<g shape-rendering=\"crispEdges\" stroke=\"none\">\n",
       "\t\t<polygon fill=\"rgb( 68,   1,  84)\" points=\"516.9,408.0 516.9,408.0 527.2,408.0 527.2,408.0 \"/>\n",
       "\t</g>\n",
       "\t<path d=\"M516.9,408.0 L527.2,408.0  \" stroke=\"rgb( 68,   1,  84)\"/></g>\n",
       "\t</g>\n",
       "\t<g id=\"gnuplot_plot_96a\"><title>gnuplot_plot_96a</title>\n",
       "<g color=\"#FFFFFF\" fill=\"none\" stroke=\"rgb( 68,   1,  84)\" stroke-linecap=\"butt\" stroke-linejoin=\"miter\" stroke-width=\"0.50\">\n",
       "</g>\n",
       "<g color=\"black\" fill=\"none\" stroke=\"currentColor\" stroke-linecap=\"butt\" stroke-linejoin=\"miter\" stroke-width=\"0.50\">\n",
       "\t<path d=\"M516.9,408.0 L527.2,408.0 L516.9,408.0  \" stroke=\"rgb(  0,   0,   0)\"/></g>\n",
       "\t</g>\n",
       "\t<g id=\"gnuplot_plot_97a\"><title>gnuplot_plot_97a</title>\n",
       "<g color=\"#FFFFFF\" fill=\"none\" stroke=\"rgb(  0,   0,   0)\" stroke-linecap=\"butt\" stroke-linejoin=\"miter\" stroke-width=\"1.00\">\n",
       "</g>\n",
       "<g color=\"black\" fill=\"none\" stroke=\"currentColor\" stroke-linecap=\"butt\" stroke-linejoin=\"miter\" stroke-width=\"1.00\">\n",
       "\t<g shape-rendering=\"crispEdges\" stroke=\"none\">\n",
       "\t\t<polygon fill=\"rgb( 68,   1,  84)\" points=\"527.2,408.0 527.2,401.4 537.4,401.4 537.4,408.0 \"/>\n",
       "\t</g>\n",
       "\t<path d=\"M527.2,408.0 L527.2,401.4 L537.4,401.4 L537.4,408.0  \" stroke=\"rgb( 68,   1,  84)\"/></g>\n",
       "\t</g>\n",
       "\t<g id=\"gnuplot_plot_98a\"><title>gnuplot_plot_98a</title>\n",
       "<g color=\"#FFFFFF\" fill=\"none\" stroke=\"rgb( 68,   1,  84)\" stroke-linecap=\"butt\" stroke-linejoin=\"miter\" stroke-width=\"0.50\">\n",
       "</g>\n",
       "<g color=\"black\" fill=\"none\" stroke=\"currentColor\" stroke-linecap=\"butt\" stroke-linejoin=\"miter\" stroke-width=\"0.50\">\n",
       "\t<path d=\"M527.2,408.0 L527.2,401.4 L537.4,401.4 L537.4,408.0 L527.2,408.0  \" stroke=\"rgb(  0,   0,   0)\"/></g>\n",
       "\t</g>\n",
       "\t<g id=\"gnuplot_plot_99a\"><title>gnuplot_plot_99a</title>\n",
       "<g color=\"#FFFFFF\" fill=\"none\" stroke=\"rgb(  0,   0,   0)\" stroke-linecap=\"butt\" stroke-linejoin=\"miter\" stroke-width=\"1.00\">\n",
       "</g>\n",
       "<g color=\"black\" fill=\"none\" stroke=\"currentColor\" stroke-linecap=\"butt\" stroke-linejoin=\"miter\" stroke-width=\"1.00\">\n",
       "\t<g shape-rendering=\"crispEdges\" stroke=\"none\">\n",
       "\t\t<polygon fill=\"rgb( 68,   1,  84)\" points=\"537.4,408.0 537.4,401.4 547.7,401.4 547.7,408.0 \"/>\n",
       "\t</g>\n",
       "\t<path d=\"M537.4,408.0 L537.4,401.4 L547.7,401.4 L547.7,408.0  \" stroke=\"rgb( 68,   1,  84)\"/></g>\n",
       "\t</g>\n",
       "\t<g id=\"gnuplot_plot_100a\"><title>gnuplot_plot_100a</title>\n",
       "<g color=\"#FFFFFF\" fill=\"none\" stroke=\"rgb( 68,   1,  84)\" stroke-linecap=\"butt\" stroke-linejoin=\"miter\" stroke-width=\"0.50\">\n",
       "</g>\n",
       "<g color=\"black\" fill=\"none\" stroke=\"currentColor\" stroke-linecap=\"butt\" stroke-linejoin=\"miter\" stroke-width=\"0.50\">\n",
       "\t<path d=\"M537.4,408.0 L537.4,401.4 L547.7,401.4 L547.7,408.0 L537.4,408.0  \" stroke=\"rgb(  0,   0,   0)\"/></g>\n",
       "\t</g>\n",
       "\t<g id=\"gnuplot_plot_101a\"><title>gnuplot_plot_101a</title>\n",
       "<g color=\"black\" fill=\"none\" stroke=\"currentColor\" stroke-linecap=\"butt\" stroke-linejoin=\"miter\" stroke-width=\"0.50\">\n",
       "\t<path d=\"M25.2,408.0 L559.1,408.0  \" stroke=\"rgb(  0,   0,   0)\"/></g>\n",
       "\t</g>\n",
       "<g color=\"#FFFFFF\" fill=\"none\" stroke=\"rgb(  0,   0,   0)\" stroke-linecap=\"butt\" stroke-linejoin=\"miter\" stroke-width=\"2.00\">\n",
       "</g>\n",
       "<g color=\"black\" fill=\"none\" stroke=\"currentColor\" stroke-linecap=\"butt\" stroke-linejoin=\"miter\" stroke-width=\"2.00\">\n",
       "</g>\n",
       "<g color=\"black\" fill=\"none\" stroke=\"black\" stroke-linecap=\"butt\" stroke-linejoin=\"miter\" stroke-width=\"0.50\">\n",
       "</g>\n",
       "<g color=\"black\" fill=\"none\" stroke=\"currentColor\" stroke-linecap=\"butt\" stroke-linejoin=\"miter\" stroke-width=\"0.50\">\n",
       "\t<path d=\"M25.2,408.0 L559.1,408.0  \" stroke=\"rgb( 38,  38,  38)\"/></g>\n",
       "<g color=\"black\" fill=\"none\" stroke=\"currentColor\" stroke-linecap=\"butt\" stroke-linejoin=\"miter\" stroke-width=\"0.50\">\n",
       "\t<path d=\"M25.2,11.3 L559.1,11.3  \" stroke=\"rgb( 38,  38,  38)\"/></g>\n",
       "<g color=\"black\" fill=\"none\" stroke=\"currentColor\" stroke-linecap=\"butt\" stroke-linejoin=\"miter\" stroke-width=\"0.50\">\n",
       "\t<path d=\"M25.2,408.0 L25.2,11.3  \" stroke=\"rgb( 38,  38,  38)\"/></g>\n",
       "<g color=\"black\" fill=\"none\" stroke=\"currentColor\" stroke-linecap=\"butt\" stroke-linejoin=\"miter\" stroke-width=\"0.50\">\n",
       "\t<path d=\"M559.1,408.0 L559.1,11.3  \" stroke=\"rgb( 38,  38,  38)\"/></g>\n",
       "<g color=\"black\" fill=\"none\" stroke=\"rgb( 38,  38,  38)\" stroke-linecap=\"butt\" stroke-linejoin=\"miter\" stroke-width=\"1.00\">\n",
       "</g>\n",
       "<g color=\"black\" fill=\"none\" stroke=\"currentColor\" stroke-linecap=\"butt\" stroke-linejoin=\"miter\" stroke-width=\"1.00\">\n",
       "</g>\n",
       "</g>\n",
       "</svg>"
      ],
      "text/plain": [
       "<IPython.core.display.SVG object>"
      ]
     },
     "metadata": {},
     "output_type": "display_data"
    }
   ],
   "source": [
    "hist(w,50) %50 bins"
   ]
  },
  {
   "cell_type": "code",
   "execution_count": 10,
   "metadata": {
    "collapsed": false
   },
   "outputs": [
    {
     "name": "stdout",
     "output_type": "stream",
     "text": [
      "ans =\n",
      "\n",
      "Diagonal Matrix\n",
      "\n",
      "   1   0   0   0   0\n",
      "   0   1   0   0   0\n",
      "   0   0   1   0   0\n",
      "   0   0   0   1   0\n",
      "   0   0   0   0   1\n",
      "\n"
     ]
    }
   ],
   "source": [
    "eye(5) %identity"
   ]
  },
  {
   "cell_type": "code",
   "execution_count": 11,
   "metadata": {
    "collapsed": false
   },
   "outputs": [
    {
     "name": "stdout",
     "output_type": "stream",
     "text": [
      "I =\n",
      "\n",
      "Diagonal Matrix\n",
      "\n",
      "   1   0   0   0   0   0\n",
      "   0   1   0   0   0   0\n",
      "   0   0   1   0   0   0\n",
      "   0   0   0   1   0   0\n",
      "   0   0   0   0   1   0\n",
      "   0   0   0   0   0   1\n",
      "\n"
     ]
    }
   ],
   "source": [
    "I = eye(6)"
   ]
  },
  {
   "cell_type": "code",
   "execution_count": 13,
   "metadata": {
    "collapsed": false
   },
   "outputs": [
    {
     "name": "stdout",
     "output_type": "stream",
     "text": [
      "'eye' is a built-in function from the file libinterp/corefcn/data.cc\n",
      "\n",
      " -- eye (N)\n",
      " -- eye (M, N)\n",
      " -- eye ([M N])\n",
      " -- eye (..., CLASS)\n",
      "     Return an identity matrix.\n",
      "\n",
      "     If invoked with a single scalar argument N, return a square NxN\n",
      "     identity matrix.\n",
      "\n",
      "     If supplied two scalar arguments (M, N), 'eye' takes them to be the\n",
      "     number of rows and columns.  If given a vector with two elements,\n",
      "     'eye' uses the values of the elements as the number of rows and\n",
      "     columns, respectively.  For example:\n",
      "\n",
      "          eye (3)\n",
      "           =>  1  0  0\n",
      "               0  1  0\n",
      "               0  0  1\n",
      "\n",
      "     The following expressions all produce the same result:\n",
      "\n",
      "          eye (2)\n",
      "          ==\n",
      "          eye (2, 2)\n",
      "          ==\n",
      "          eye (size ([1, 2; 3, 4]))\n",
      "\n",
      "     The optional argument CLASS, allows 'eye' to return an array of the\n",
      "     specified type, like\n",
      "\n",
      "          val = zeros (n,m, \"uint8\")\n",
      "\n",
      "     Calling 'eye' with no arguments is equivalent to calling it with an\n",
      "     argument of 1.  Any negative dimensions are treated as zero.  These\n",
      "     odd definitions are for compatibility with MATLAB.\n",
      "\n",
      "     See also: speye, ones, zeros.\n",
      "\n",
      "Additional help for built-in functions and operators is\n",
      "available in the online version of the manual.  Use the command\n",
      "'doc <topic>' to search the manual index.\n",
      "\n",
      "Help and information about Octave is also available on the WWW\n",
      "at http://www.octave.org and via the help@octave.org\n",
      "mailing list.\n"
     ]
    }
   ],
   "source": [
    "help eye"
   ]
  },
  {
   "cell_type": "code",
   "execution_count": 14,
   "metadata": {
    "collapsed": false
   },
   "outputs": [
    {
     "name": "stdout",
     "output_type": "stream",
     "text": [
      "A =\n",
      "\n",
      "   1   2\n",
      "   3   4\n",
      "   5   6\n",
      "\n"
     ]
    }
   ],
   "source": [
    "A = [1 2; 3 4; 5 6]"
   ]
  },
  {
   "cell_type": "code",
   "execution_count": 15,
   "metadata": {
    "collapsed": false
   },
   "outputs": [
    {
     "name": "stdout",
     "output_type": "stream",
     "text": [
      "ans =\n",
      "\n",
      "   3   2\n",
      "\n"
     ]
    }
   ],
   "source": [
    "size(A)"
   ]
  },
  {
   "cell_type": "code",
   "execution_count": 16,
   "metadata": {
    "collapsed": false
   },
   "outputs": [
    {
     "name": "stdout",
     "output_type": "stream",
     "text": [
      "sz =\n",
      "\n",
      "   3   2\n",
      "\n"
     ]
    }
   ],
   "source": [
    "sz = size(A)"
   ]
  },
  {
   "cell_type": "code",
   "execution_count": 17,
   "metadata": {
    "collapsed": false
   },
   "outputs": [
    {
     "name": "stdout",
     "output_type": "stream",
     "text": [
      "ans =\n",
      "\n",
      "   1   2\n",
      "\n"
     ]
    }
   ],
   "source": [
    "size(sz)"
   ]
  },
  {
   "cell_type": "code",
   "execution_count": 18,
   "metadata": {
    "collapsed": false
   },
   "outputs": [
    {
     "name": "stdout",
     "output_type": "stream",
     "text": [
      "ans =  3\r\n"
     ]
    }
   ],
   "source": [
    "size(A, 1) %num rows"
   ]
  },
  {
   "cell_type": "code",
   "execution_count": 19,
   "metadata": {
    "collapsed": false
   },
   "outputs": [
    {
     "name": "stdout",
     "output_type": "stream",
     "text": [
      "ans =  2\r\n"
     ]
    }
   ],
   "source": [
    "size(A, 2) %num cols"
   ]
  },
  {
   "cell_type": "code",
   "execution_count": 20,
   "metadata": {
    "collapsed": false
   },
   "outputs": [
    {
     "name": "stdout",
     "output_type": "stream",
     "text": [
      "ans =  3\r\n"
     ]
    }
   ],
   "source": [
    "length(A) %longer dimension"
   ]
  },
  {
   "cell_type": "code",
   "execution_count": 21,
   "metadata": {
    "collapsed": false
   },
   "outputs": [
    {
     "name": "stdout",
     "output_type": "stream",
     "text": [
      "ans = /Users/Leo/MOOCs/Machine Learning Coursera\r\n"
     ]
    }
   ],
   "source": [
    "pwd"
   ]
  },
  {
   "cell_type": "code",
   "execution_count": 23,
   "metadata": {
    "collapsed": false
   },
   "outputs": [
    {
     "name": "stdout",
     "output_type": "stream",
     "text": [
      "Octave Review.ipynb\toctave-workspace\r\n"
     ]
    }
   ],
   "source": [
    "ls %list directories"
   ]
  },
  {
   "cell_type": "code",
   "execution_count": 24,
   "metadata": {
    "collapsed": false
   },
   "outputs": [
    {
     "name": "stdout",
     "output_type": "stream",
     "text": [
      "error: load: unable to find file data.dat\r\n"
     ]
    }
   ],
   "source": [
    "load data.dat"
   ]
  },
  {
   "cell_type": "code",
   "execution_count": 25,
   "metadata": {
    "collapsed": false
   },
   "outputs": [
    {
     "name": "stdout",
     "output_type": "stream",
     "text": [
      "error: load: unable to find file data.dat\r\n"
     ]
    }
   ],
   "source": [
    "load('data.dat')"
   ]
  },
  {
   "cell_type": "code",
   "execution_count": 26,
   "metadata": {
    "collapsed": false
   },
   "outputs": [
    {
     "name": "stdout",
     "output_type": "stream",
     "text": [
      "Variables in the current scope:\n",
      "\n",
      "A            _fig         _filename    ans          w\n",
      "I            _figHandles  _handle      sz\n",
      "\n"
     ]
    }
   ],
   "source": [
    "who %shows variables in workspace"
   ]
  },
  {
   "cell_type": "code",
   "execution_count": 27,
   "metadata": {
    "collapsed": false
   },
   "outputs": [
    {
     "name": "stdout",
     "output_type": "stream",
     "text": [
      "Variables in the current scope:\n",
      "\n",
      "   Attr Name             Size                     Bytes  Class\n",
      "   ==== ====             ====                     =====  ===== \n",
      "        A                3x2                         48  double\n",
      "        I                6x6                         48  double\n",
      "        _fig             1x1                          8  double\n",
      "        _figHandles      0x1                          0  double\n",
      "        _filename        1x77                        77  char\n",
      "        _handle          1x1                          8  double\n",
      "        ans              1x42                        42  char\n",
      "        sz               1x2                         16  double\n",
      "        w                1x1000                    8000  double\n",
      "\n",
      "Total is 1165 elements using 8247 bytes\n",
      "\n"
     ]
    }
   ],
   "source": [
    "whos %gives detailed view"
   ]
  },
  {
   "cell_type": "code",
   "execution_count": 29,
   "metadata": {
    "collapsed": false
   },
   "outputs": [],
   "source": [
    "clear('A') %clears variables"
   ]
  },
  {
   "cell_type": "code",
   "execution_count": 30,
   "metadata": {
    "collapsed": false
   },
   "outputs": [
    {
     "name": "stdout",
     "output_type": "stream",
     "text": [
      "Variables in the current scope:\n",
      "\n",
      "   Attr Name             Size                     Bytes  Class\n",
      "   ==== ====             ====                     =====  ===== \n",
      "        I                6x6                         48  double\n",
      "        _fig             1x1                          8  double\n",
      "        _figHandles      0x1                          0  double\n",
      "        _filename        1x77                        77  char\n",
      "        _handle          1x1                          8  double\n",
      "        ans              1x42                        42  char\n",
      "        sz               1x2                         16  double\n",
      "        w                1x1000                    8000  double\n",
      "\n",
      "Total is 1159 elements using 8199 bytes\n",
      "\n"
     ]
    }
   ],
   "source": [
    "whos"
   ]
  },
  {
   "cell_type": "code",
   "execution_count": null,
   "metadata": {
    "collapsed": true
   },
   "outputs": [],
   "source": [
    "%save test.m I %saves I into test.m into current directory"
   ]
  },
  {
   "cell_type": "code",
   "execution_count": 31,
   "metadata": {
    "collapsed": false
   },
   "outputs": [
    {
     "name": "stdout",
     "output_type": "stream",
     "text": [
      "warning: load: '/usr/local/Cellar/octave/4.2.0/share/octave/4.2.0/m/testfun/test.m' found by searching load path\n",
      "error: load: unable to determine file format of 'test.m'\n"
     ]
    }
   ],
   "source": [
    "load test.m %loads variable I into workspace"
   ]
  },
  {
   "cell_type": "code",
   "execution_count": null,
   "metadata": {
    "collapsed": true
   },
   "outputs": [],
   "source": [
    "%save test.txt I -ascii %save as text"
   ]
  },
  {
   "cell_type": "code",
   "execution_count": 32,
   "metadata": {
    "collapsed": false
   },
   "outputs": [
    {
     "name": "stdout",
     "output_type": "stream",
     "text": [
      "A =\n",
      "\n",
      "   1   2\n",
      "   3   4\n",
      "   5   6\n",
      "\n"
     ]
    }
   ],
   "source": [
    "A = [1 2; 3 4; 5 6]"
   ]
  },
  {
   "cell_type": "code",
   "execution_count": 33,
   "metadata": {
    "collapsed": false
   },
   "outputs": [
    {
     "name": "stdout",
     "output_type": "stream",
     "text": [
      "ans =  6\r\n"
     ]
    }
   ],
   "source": [
    "A(3,2) %third row, second col"
   ]
  },
  {
   "cell_type": "code",
   "execution_count": 34,
   "metadata": {
    "collapsed": false
   },
   "outputs": [
    {
     "name": "stdout",
     "output_type": "stream",
     "text": [
      "ans =\n",
      "\n",
      "   3   4\n",
      "\n"
     ]
    }
   ],
   "source": [
    "A(2,:) %everything in second row"
   ]
  },
  {
   "cell_type": "code",
   "execution_count": 35,
   "metadata": {
    "collapsed": false
   },
   "outputs": [
    {
     "name": "stdout",
     "output_type": "stream",
     "text": [
      "ans =\n",
      "\n",
      "   2\n",
      "   4\n",
      "   6\n",
      "\n"
     ]
    }
   ],
   "source": [
    "A(:,2) %everything in second col"
   ]
  },
  {
   "cell_type": "code",
   "execution_count": 36,
   "metadata": {
    "collapsed": false
   },
   "outputs": [
    {
     "name": "stdout",
     "output_type": "stream",
     "text": [
      "ans =\n",
      "\n",
      "   1   2\n",
      "   3   4\n",
      "\n"
     ]
    }
   ],
   "source": [
    "A([1 2], :) %get everything from 1st and 3rd rows of A"
   ]
  },
  {
   "cell_type": "code",
   "execution_count": 37,
   "metadata": {
    "collapsed": false
   },
   "outputs": [
    {
     "name": "stdout",
     "output_type": "stream",
     "text": [
      "A =\n",
      "\n",
      "    1   10\n",
      "    3   11\n",
      "    5   12\n",
      "\n"
     ]
    }
   ],
   "source": [
    "A(:,2) = [10; 11; 12]"
   ]
  },
  {
   "cell_type": "code",
   "execution_count": 39,
   "metadata": {
    "collapsed": false
   },
   "outputs": [
    {
     "name": "stdout",
     "output_type": "stream",
     "text": [
      "A =\n",
      "\n",
      "     1    10   100   100\n",
      "     3    11   101   101\n",
      "     5    12   102   102\n",
      "\n"
     ]
    }
   ],
   "source": [
    "A = [A, [100; 101; 102]] %append another col"
   ]
  },
  {
   "cell_type": "code",
   "execution_count": 40,
   "metadata": {
    "collapsed": false
   },
   "outputs": [
    {
     "name": "stdout",
     "output_type": "stream",
     "text": [
      "ans =\n",
      "\n",
      "     1\n",
      "     3\n",
      "     5\n",
      "    10\n",
      "    11\n",
      "    12\n",
      "   100\n",
      "   101\n",
      "   102\n",
      "   100\n",
      "   101\n",
      "   102\n",
      "\n"
     ]
    }
   ],
   "source": [
    "A(:) %put all elements into single column vector"
   ]
  },
  {
   "cell_type": "code",
   "execution_count": 41,
   "metadata": {
    "collapsed": false
   },
   "outputs": [
    {
     "name": "stdout",
     "output_type": "stream",
     "text": [
      "C =\n",
      "\n",
      "    1    2   11   12\n",
      "    3    4   13   14\n",
      "    5    6   15   16\n",
      "\n"
     ]
    }
   ],
   "source": [
    "A = [1 2; 3 4; 5 6];\n",
    "B = [11 12; 13 14; 15 16];\n",
    "C = [A B] %concatenate horizontally"
   ]
  },
  {
   "cell_type": "code",
   "execution_count": 42,
   "metadata": {
    "collapsed": false
   },
   "outputs": [
    {
     "name": "stdout",
     "output_type": "stream",
     "text": [
      "C =\n",
      "\n",
      "    1    2\n",
      "    3    4\n",
      "    5    6\n",
      "   11   12\n",
      "   13   14\n",
      "   15   16\n",
      "\n"
     ]
    }
   ],
   "source": [
    "C = [A; B] %concatenate vertically"
   ]
  },
  {
   "cell_type": "code",
   "execution_count": 43,
   "metadata": {
    "collapsed": false
   },
   "outputs": [
    {
     "name": "stdout",
     "output_type": "stream",
     "text": [
      "A =\n",
      "\n",
      "   1   2\n",
      "   3   4\n",
      "   5   6\n",
      "\n"
     ]
    }
   ],
   "source": [
    "A"
   ]
  },
  {
   "cell_type": "code",
   "execution_count": 44,
   "metadata": {
    "collapsed": false
   },
   "outputs": [
    {
     "name": "stdout",
     "output_type": "stream",
     "text": [
      "B =\n",
      "\n",
      "   11   12\n",
      "   13   14\n",
      "   15   16\n",
      "\n"
     ]
    }
   ],
   "source": [
    "B"
   ]
  },
  {
   "cell_type": "code",
   "execution_count": 45,
   "metadata": {
    "collapsed": false
   },
   "outputs": [
    {
     "name": "stdout",
     "output_type": "stream",
     "text": [
      "error: operator *: nonconformant arguments (op1 is 3x2, op2 is 3x2)\r\n"
     ]
    }
   ],
   "source": [
    "A * B"
   ]
  },
  {
   "cell_type": "code",
   "execution_count": 46,
   "metadata": {
    "collapsed": false
   },
   "outputs": [
    {
     "name": "stdout",
     "output_type": "stream",
     "text": [
      "ans =\n",
      "\n",
      "   11   24\n",
      "   39   56\n",
      "   75   96\n",
      "\n"
     ]
    }
   ],
   "source": [
    "A .* B"
   ]
  },
  {
   "cell_type": "code",
   "execution_count": 47,
   "metadata": {
    "collapsed": false
   },
   "outputs": [
    {
     "name": "stdout",
     "output_type": "stream",
     "text": [
      "ans =\n",
      "\n",
      "   0.090909   0.166667\n",
      "   0.230769   0.285714\n",
      "   0.333333   0.375000\n",
      "\n"
     ]
    }
   ],
   "source": [
    "A ./ B"
   ]
  },
  {
   "cell_type": "code",
   "execution_count": 48,
   "metadata": {
    "collapsed": false
   },
   "outputs": [
    {
     "name": "stdout",
     "output_type": "stream",
     "text": [
      "ans =\n",
      "\n",
      "   0.00000   0.69315\n",
      "   1.09861   1.38629\n",
      "   1.60944   1.79176\n",
      "\n"
     ]
    }
   ],
   "source": [
    "log(A)"
   ]
  },
  {
   "cell_type": "code",
   "execution_count": 49,
   "metadata": {
    "collapsed": false
   },
   "outputs": [
    {
     "name": "stdout",
     "output_type": "stream",
     "text": [
      "ans =\n",
      "\n",
      "     2.7183     7.3891\n",
      "    20.0855    54.5982\n",
      "   148.4132   403.4288\n",
      "\n"
     ]
    }
   ],
   "source": [
    "exp(A)"
   ]
  },
  {
   "cell_type": "code",
   "execution_count": 50,
   "metadata": {
    "collapsed": false
   },
   "outputs": [
    {
     "name": "stdout",
     "output_type": "stream",
     "text": [
      "ans =\n",
      "\n",
      "   1   2\n",
      "   3   4\n",
      "   5   6\n",
      "\n"
     ]
    }
   ],
   "source": [
    "abs(A)"
   ]
  },
  {
   "cell_type": "code",
   "execution_count": 51,
   "metadata": {
    "collapsed": false
   },
   "outputs": [
    {
     "name": "stdout",
     "output_type": "stream",
     "text": [
      "ans =\n",
      "\n",
      "  -1  -2\n",
      "  -3  -4\n",
      "  -5  -6\n",
      "\n"
     ]
    }
   ],
   "source": [
    "-A"
   ]
  },
  {
   "cell_type": "code",
   "execution_count": 52,
   "metadata": {
    "collapsed": false
   },
   "outputs": [
    {
     "name": "stdout",
     "output_type": "stream",
     "text": [
      "A =\n",
      "\n",
      "   2   3\n",
      "   4   5\n",
      "   6   7\n",
      "\n"
     ]
    }
   ],
   "source": [
    "A = A + ones(size(A))"
   ]
  },
  {
   "cell_type": "code",
   "execution_count": 53,
   "metadata": {
    "collapsed": false
   },
   "outputs": [
    {
     "name": "stdout",
     "output_type": "stream",
     "text": [
      "A =\n",
      "\n",
      "   3   4\n",
      "   5   6\n",
      "   7   8\n",
      "\n"
     ]
    }
   ],
   "source": [
    "A = A + 1"
   ]
  },
  {
   "cell_type": "code",
   "execution_count": 54,
   "metadata": {
    "collapsed": false
   },
   "outputs": [
    {
     "name": "stdout",
     "output_type": "stream",
     "text": [
      "A =\n",
      "\n",
      "   4   5\n",
      "   6   7\n",
      "   8   9\n",
      "\n"
     ]
    }
   ],
   "source": [
    "A += 1"
   ]
  },
  {
   "cell_type": "code",
   "execution_count": 55,
   "metadata": {
    "collapsed": false
   },
   "outputs": [
    {
     "name": "stdout",
     "output_type": "stream",
     "text": [
      "ans =\n",
      "\n",
      "   4   6   8\n",
      "   5   7   9\n",
      "\n"
     ]
    }
   ],
   "source": [
    "A' %transpose"
   ]
  },
  {
   "cell_type": "code",
   "execution_count": 56,
   "metadata": {
    "collapsed": false
   },
   "outputs": [
    {
     "name": "stdout",
     "output_type": "stream",
     "text": [
      "ans =\n",
      "\n",
      "   4   5\n",
      "   6   7\n",
      "   8   9\n",
      "\n"
     ]
    }
   ],
   "source": [
    "(A')'"
   ]
  },
  {
   "cell_type": "code",
   "execution_count": 57,
   "metadata": {
    "collapsed": false
   },
   "outputs": [
    {
     "name": "stdout",
     "output_type": "stream",
     "text": [
      "a =\n",
      "\n",
      "    1.00000   15.00000    2.00000    0.50000\n",
      "\n"
     ]
    }
   ],
   "source": [
    "a = [1 15 2 0.5]"
   ]
  },
  {
   "cell_type": "code",
   "execution_count": 58,
   "metadata": {
    "collapsed": false
   },
   "outputs": [
    {
     "name": "stdout",
     "output_type": "stream",
     "text": [
      "val =  15\r\n"
     ]
    }
   ],
   "source": [
    "val = max(a)"
   ]
  },
  {
   "cell_type": "code",
   "execution_count": 59,
   "metadata": {
    "collapsed": false
   },
   "outputs": [
    {
     "name": "stdout",
     "output_type": "stream",
     "text": [
      "val =  15\n",
      "ind =  15\n"
     ]
    }
   ],
   "source": [
    "val, ind = max(a)"
   ]
  },
  {
   "cell_type": "code",
   "execution_count": 60,
   "metadata": {
    "collapsed": false
   },
   "outputs": [
    {
     "name": "stdout",
     "output_type": "stream",
     "text": [
      "val =  15\n",
      "ind =  2\n"
     ]
    }
   ],
   "source": [
    "[val, ind] = max(a)"
   ]
  },
  {
   "cell_type": "code",
   "execution_count": 61,
   "metadata": {
    "collapsed": false
   },
   "outputs": [
    {
     "name": "stdout",
     "output_type": "stream",
     "text": [
      "ans =\n",
      "\n",
      "   8   9\n",
      "\n"
     ]
    }
   ],
   "source": [
    "max(A) %columnwise"
   ]
  },
  {
   "cell_type": "code",
   "execution_count": 62,
   "metadata": {
    "collapsed": false
   },
   "outputs": [
    {
     "name": "stdout",
     "output_type": "stream",
     "text": [
      "ans =\n",
      "\n",
      "  1  0  1  1\n",
      "\n"
     ]
    }
   ],
   "source": [
    "a < 3"
   ]
  },
  {
   "cell_type": "code",
   "execution_count": 63,
   "metadata": {
    "collapsed": false
   },
   "outputs": [
    {
     "name": "stdout",
     "output_type": "stream",
     "text": [
      "ans =\n",
      "\n",
      "   1   3   4\n",
      "\n"
     ]
    }
   ],
   "source": [
    "find(a < 3)"
   ]
  },
  {
   "cell_type": "code",
   "execution_count": 64,
   "metadata": {
    "collapsed": false
   },
   "outputs": [
    {
     "name": "stdout",
     "output_type": "stream",
     "text": [
      "A =\n",
      "\n",
      "   8   1   6\n",
      "   3   5   7\n",
      "   4   9   2\n",
      "\n"
     ]
    }
   ],
   "source": [
    "A = magic(3)"
   ]
  },
  {
   "cell_type": "code",
   "execution_count": 65,
   "metadata": {
    "collapsed": false
   },
   "outputs": [
    {
     "name": "stdout",
     "output_type": "stream",
     "text": [
      "r =\n",
      "\n",
      "   1\n",
      "   3\n",
      "   2\n",
      "\n",
      "c =\n",
      "\n",
      "   1\n",
      "   2\n",
      "   3\n",
      "\n"
     ]
    }
   ],
   "source": [
    "[r, c] = find(A >= 7)"
   ]
  },
  {
   "cell_type": "code",
   "execution_count": 66,
   "metadata": {
    "collapsed": false
   },
   "outputs": [
    {
     "name": "stdout",
     "output_type": "stream",
     "text": [
      "ans =  15\r\n"
     ]
    }
   ],
   "source": [
    "prod(a)"
   ]
  },
  {
   "cell_type": "code",
   "execution_count": 67,
   "metadata": {
    "collapsed": false
   },
   "outputs": [
    {
     "name": "stdout",
     "output_type": "stream",
     "text": [
      "ans =  18.500\r\n"
     ]
    }
   ],
   "source": [
    "sum(a)"
   ]
  },
  {
   "cell_type": "code",
   "execution_count": 68,
   "metadata": {
    "collapsed": false
   },
   "outputs": [
    {
     "name": "stdout",
     "output_type": "stream",
     "text": [
      "ans =\n",
      "\n",
      "    1   15    2    0\n",
      "\n"
     ]
    }
   ],
   "source": [
    "floor(a)"
   ]
  },
  {
   "cell_type": "code",
   "execution_count": 69,
   "metadata": {
    "collapsed": false
   },
   "outputs": [
    {
     "name": "stdout",
     "output_type": "stream",
     "text": [
      "ans =\n",
      "\n",
      "    1   15    2    1\n",
      "\n"
     ]
    }
   ],
   "source": [
    "ceil(a)"
   ]
  },
  {
   "cell_type": "code",
   "execution_count": 70,
   "metadata": {
    "collapsed": false
   },
   "outputs": [
    {
     "name": "stdout",
     "output_type": "stream",
     "text": [
      "ans =\n",
      "\n",
      "   0.83324   0.44536   0.24944\n",
      "   0.80928   0.68578   0.75246\n",
      "   0.90236   0.33044   0.71284\n",
      "\n"
     ]
    }
   ],
   "source": [
    "max(rand(3), rand(3)) %element-wise max of 2 3x3 matrices"
   ]
  },
  {
   "cell_type": "code",
   "execution_count": 71,
   "metadata": {
    "collapsed": false
   },
   "outputs": [
    {
     "name": "stdout",
     "output_type": "stream",
     "text": [
      "ans =\n",
      "\n",
      "   8   9   7\n",
      "\n"
     ]
    }
   ],
   "source": [
    "max(A,[],1) %max columnwise"
   ]
  },
  {
   "cell_type": "code",
   "execution_count": 72,
   "metadata": {
    "collapsed": false
   },
   "outputs": [
    {
     "name": "stdout",
     "output_type": "stream",
     "text": [
      "ans =\n",
      "\n",
      "   8\n",
      "   7\n",
      "   9\n",
      "\n"
     ]
    }
   ],
   "source": [
    "max(A,[],2) %max rowwise"
   ]
  },
  {
   "cell_type": "code",
   "execution_count": 73,
   "metadata": {
    "collapsed": false
   },
   "outputs": [
    {
     "name": "stdout",
     "output_type": "stream",
     "text": [
      "ans =  9\r\n"
     ]
    }
   ],
   "source": [
    "max(max(A))"
   ]
  },
  {
   "cell_type": "code",
   "execution_count": 74,
   "metadata": {
    "collapsed": false
   },
   "outputs": [
    {
     "name": "stdout",
     "output_type": "stream",
     "text": [
      "ans =  9\r\n"
     ]
    }
   ],
   "source": [
    "max(A(:))"
   ]
  },
  {
   "cell_type": "code",
   "execution_count": 75,
   "metadata": {
    "collapsed": false
   },
   "outputs": [
    {
     "name": "stdout",
     "output_type": "stream",
     "text": [
      "A =\n",
      "\n",
      "   47   58   69   80    1   12   23   34   45\n",
      "   57   68   79    9   11   22   33   44   46\n",
      "   67   78    8   10   21   32   43   54   56\n",
      "   77    7   18   20   31   42   53   55   66\n",
      "    6   17   19   30   41   52   63   65   76\n",
      "   16   27   29   40   51   62   64   75    5\n",
      "   26   28   39   50   61   72   74    4   15\n",
      "   36   38   49   60   71   73    3   14   25\n",
      "   37   48   59   70   81    2   13   24   35\n",
      "\n"
     ]
    }
   ],
   "source": [
    "A = magic(9)"
   ]
  },
  {
   "cell_type": "code",
   "execution_count": 76,
   "metadata": {
    "collapsed": false
   },
   "outputs": [
    {
     "name": "stdout",
     "output_type": "stream",
     "text": [
      "ans =\n",
      "\n",
      "   369   369   369   369   369   369   369   369   369\n",
      "\n"
     ]
    }
   ],
   "source": [
    "sum(A,1) %sum cols"
   ]
  },
  {
   "cell_type": "code",
   "execution_count": 77,
   "metadata": {
    "collapsed": false
   },
   "outputs": [
    {
     "name": "stdout",
     "output_type": "stream",
     "text": [
      "ans =\n",
      "\n",
      "   369\n",
      "   369\n",
      "   369\n",
      "   369\n",
      "   369\n",
      "   369\n",
      "   369\n",
      "   369\n",
      "   369\n",
      "\n"
     ]
    }
   ],
   "source": [
    "sum(A,2) %sum rows"
   ]
  },
  {
   "cell_type": "code",
   "execution_count": 78,
   "metadata": {
    "collapsed": false
   },
   "outputs": [
    {
     "name": "stdout",
     "output_type": "stream",
     "text": [
      "ans =\n",
      "\n",
      "   47    0    0    0    0    0    0    0    0\n",
      "    0   68    0    0    0    0    0    0    0\n",
      "    0    0    8    0    0    0    0    0    0\n",
      "    0    0    0   20    0    0    0    0    0\n",
      "    0    0    0    0   41    0    0    0    0\n",
      "    0    0    0    0    0   62    0    0    0\n",
      "    0    0    0    0    0    0   74    0    0\n",
      "    0    0    0    0    0    0    0   14    0\n",
      "    0    0    0    0    0    0    0    0   35\n",
      "\n"
     ]
    }
   ],
   "source": [
    "A .* eye(9)"
   ]
  },
  {
   "cell_type": "code",
   "execution_count": 79,
   "metadata": {
    "collapsed": false
   },
   "outputs": [
    {
     "name": "stdout",
     "output_type": "stream",
     "text": [
      "ans =  369\r\n"
     ]
    }
   ],
   "source": [
    "sum(sum(A.*eye(9)))"
   ]
  },
  {
   "cell_type": "code",
   "execution_count": 80,
   "metadata": {
    "collapsed": false
   },
   "outputs": [
    {
     "name": "stdout",
     "output_type": "stream",
     "text": [
      "ans =  369\r\n"
     ]
    }
   ],
   "source": [
    "sum(sum(A.*flipud(eye(9))))"
   ]
  },
  {
   "cell_type": "code",
   "execution_count": 81,
   "metadata": {
    "collapsed": false
   },
   "outputs": [
    {
     "name": "stdout",
     "output_type": "stream",
     "text": [
      "ans =\n",
      "\n",
      "Diagonal Matrix\n",
      "\n",
      "   1   0   0   0   0   0   0   0   0\n",
      "   0   1   0   0   0   0   0   0   0\n",
      "   0   0   1   0   0   0   0   0   0\n",
      "   0   0   0   1   0   0   0   0   0\n",
      "   0   0   0   0   1   0   0   0   0\n",
      "   0   0   0   0   0   1   0   0   0\n",
      "   0   0   0   0   0   0   1   0   0\n",
      "   0   0   0   0   0   0   0   1   0\n",
      "   0   0   0   0   0   0   0   0   1\n",
      "\n"
     ]
    }
   ],
   "source": [
    "eye(9)"
   ]
  },
  {
   "cell_type": "code",
   "execution_count": 83,
   "metadata": {
    "collapsed": false
   },
   "outputs": [
    {
     "name": "stdout",
     "output_type": "stream",
     "text": [
      "ans =\n",
      "\n",
      "Permutation Matrix\n",
      "\n",
      "   0   0   0   0   0   0   0   0   1\n",
      "   0   0   0   0   0   0   0   1   0\n",
      "   0   0   0   0   0   0   1   0   0\n",
      "   0   0   0   0   0   1   0   0   0\n",
      "   0   0   0   0   1   0   0   0   0\n",
      "   0   0   0   1   0   0   0   0   0\n",
      "   0   0   1   0   0   0   0   0   0\n",
      "   0   1   0   0   0   0   0   0   0\n",
      "   1   0   0   0   0   0   0   0   0\n",
      "\n"
     ]
    }
   ],
   "source": [
    "flipud(eye(9))"
   ]
  },
  {
   "cell_type": "code",
   "execution_count": 84,
   "metadata": {
    "collapsed": false
   },
   "outputs": [
    {
     "name": "stdout",
     "output_type": "stream",
     "text": [
      "A =\n",
      "\n",
      "   8   1   6\n",
      "   3   5   7\n",
      "   4   9   2\n",
      "\n"
     ]
    }
   ],
   "source": [
    "A = magic(3)"
   ]
  },
  {
   "cell_type": "code",
   "execution_count": 85,
   "metadata": {
    "collapsed": false
   },
   "outputs": [
    {
     "name": "stdout",
     "output_type": "stream",
     "text": [
      "ans =\n",
      "\n",
      "   0.147222  -0.144444   0.063889\n",
      "  -0.061111   0.022222   0.105556\n",
      "  -0.019444   0.188889  -0.102778\n",
      "\n"
     ]
    }
   ],
   "source": [
    "pinv(A)"
   ]
  },
  {
   "cell_type": "code",
   "execution_count": 86,
   "metadata": {
    "collapsed": false
   },
   "outputs": [
    {
     "name": "stdout",
     "output_type": "stream",
     "text": [
      "temp =\n",
      "\n",
      "   0.147222  -0.144444   0.063889\n",
      "  -0.061111   0.022222   0.105556\n",
      "  -0.019444   0.188889  -0.102778\n",
      "\n"
     ]
    }
   ],
   "source": [
    "temp = pinv(A)"
   ]
  },
  {
   "cell_type": "code",
   "execution_count": 88,
   "metadata": {
    "collapsed": false
   },
   "outputs": [
    {
     "name": "stdout",
     "output_type": "stream",
     "text": [
      "ans =\n",
      "\n",
      "  1  1  1\n",
      "  1  1  1\n",
      "  1  1  1\n",
      "\n"
     ]
    }
   ],
   "source": [
    "temp*A - eye(3) < 10^-6"
   ]
  },
  {
   "cell_type": "code",
   "execution_count": 109,
   "metadata": {
    "collapsed": false
   },
   "outputs": [],
   "source": [
    "t = [0:0.01:0.98];"
   ]
  },
  {
   "cell_type": "code",
   "execution_count": 110,
   "metadata": {
    "collapsed": true
   },
   "outputs": [],
   "source": [
    "y1 = sin(2*pi*4*t);"
   ]
  },
  {
   "cell_type": "code",
   "execution_count": 111,
   "metadata": {
    "collapsed": false
   },
   "outputs": [],
   "source": [
    "plot(t, y1)"
   ]
  },
  {
   "cell_type": "code",
   "execution_count": 112,
   "metadata": {
    "collapsed": false
   },
   "outputs": [],
   "source": [
    "y2 = cos(2*pi*4*t);"
   ]
  },
  {
   "cell_type": "code",
   "execution_count": 113,
   "metadata": {
    "collapsed": false
   },
   "outputs": [],
   "source": [
    "plot(t, y2)"
   ]
  },
  {
   "cell_type": "code",
   "execution_count": 148,
   "metadata": {
    "collapsed": false
   },
   "outputs": [
    {
     "name": "stdout",
     "output_type": "stream",
     "text": [
      "\n",
      "gnuplot> set terminal aqua enhanced title \"Figure 1\"  font \"*,6.66667\" dashlength 1\n",
      "                      ^\n",
      "         line 0: unknown or ambiguous terminal type; type just 'set terminal' for a list\n",
      "\n",
      "WARNING: Plotting with an 'unknown' terminal.\n",
      "No output will be generated. Please select a terminal with 'set terminal'.\n",
      "\n",
      "gnuplot> set terminal aqua enhanced title \"Figure 1\"  font \"*,6.66667\" dashlength 1\n",
      "                      ^\n",
      "         line 0: unknown or ambiguous terminal type; type just 'set terminal' for a list\n",
      "\n",
      "WARNING: Plotting with an 'unknown' terminal.\n",
      "No output will be generated. Please select a terminal with 'set terminal'.\n"
     ]
    }
   ],
   "source": [
    "figure(1);\n",
    "xlabel('time')\n",
    "ylabel('value')\n",
    "title('my plot')\n",
    "hold on;\n",
    "plot(t, y1);\n",
    "plot(t, y2, 'r');\n"
   ]
  },
  {
   "cell_type": "code",
   "execution_count": 141,
   "metadata": {
    "collapsed": false
   },
   "outputs": [
    {
     "name": "stdout",
     "output_type": "stream",
     "text": [
      "'legend' is a function from the file /usr/local/Cellar/octave/4.2.0/share/octave/4.2.0/m/plot/appearance/legend.m\n",
      "\n",
      " -- legend (STR1, STR2, ...)\n",
      " -- legend (MATSTR)\n",
      " -- legend (CELLSTR)\n",
      " -- legend (..., \"location\", POS)\n",
      " -- legend (..., \"orientation\", ORIENT)\n",
      " -- legend (HAX, ...)\n",
      " -- legend (HOBJS, ...)\n",
      " -- legend (HAX, HOBJS, ...)\n",
      " -- legend (\"OPTION\")\n",
      " -- [HLEG, HLEG_OBJ, HPLOT, LABELS] = legend (...)\n",
      "\n",
      "     Display a legend for the current axes using the specified strings\n",
      "     as labels.\n",
      "\n",
      "     Legend entries may be specified as individual character string\n",
      "     arguments, a character array, or a cell array of character strings.\n",
      "\n",
      "     If the first argument HAX is an axes handle, then plot into this\n",
      "     axis, rather than the current axes returned by 'gca'.  If the\n",
      "     handles, HOBJS, are not specified then the legend's strings will be\n",
      "     associated with the axes' descendants.  'legend' works on line\n",
      "     graphs, bar graphs, etc.  A plot must exist before legend is\n",
      "     called.\n",
      "\n",
      "     The optional parameter POS specifies the location of the legend as\n",
      "     follows:\n",
      "\n",
      "          pos        location of the legend\n",
      "     ---------------------------------------------------------------------------\n",
      "          north      center top\n",
      "          south      center bottom\n",
      "          east       right center\n",
      "          west       left center\n",
      "          northeast  right top (default)\n",
      "          northwest  left top\n",
      "          southeast  right bottom\n",
      "          southwest  left bottom\n",
      "          outside    can be appended to any location string\n",
      "\n",
      "     The optional parameter ORIENT determines if the key elements are\n",
      "     placed vertically or horizontally.  The allowed values are\n",
      "     \"vertical\" (default) or \"horizontal\".\n",
      "\n",
      "     The following customizations are available using OPTION:\n",
      "\n",
      "     \"show\"\n",
      "          Show legend on the plot\n",
      "\n",
      "     \"hide\"\n",
      "          Hide legend on the plot\n",
      "\n",
      "     \"toggle\"\n",
      "          Toggles between \"hide\" and \"show\"\n",
      "\n",
      "     \"boxon\"\n",
      "          Show a box around legend (default)\n",
      "\n",
      "     \"boxoff\"\n",
      "          Hide the box around legend\n",
      "\n",
      "     \"right\"\n",
      "          Place label text to the right of the keys (default)\n",
      "\n",
      "     \"left\"\n",
      "          Place label text to the left of the keys\n",
      "\n",
      "     \"off\"\n",
      "          Delete the legend object\n",
      "\n",
      "     The optional output values are\n",
      "\n",
      "     HLEG\n",
      "          The graphics handle of the legend object.\n",
      "\n",
      "     HLEG_OBJ\n",
      "          Graphics handles to the text and line objects which make up\n",
      "          the legend.\n",
      "\n",
      "     HPLOT\n",
      "          Graphics handles to the plot objects which were used in making\n",
      "          the legend.\n",
      "\n",
      "     LABELS\n",
      "          A cell array of strings of the labels in the legend.\n",
      "\n",
      "     The legend label text is either provided in the call to 'legend' or\n",
      "     is taken from the DisplayName property of graphics objects.  If no\n",
      "     labels or DisplayNames are available, then the label text is simply\n",
      "     \"data1\", \"data2\", ..., \"dataN\".\n",
      "\n",
      "     Implementation Note: A legend is implemented as an additional axes\n",
      "     object of the current figure with the \"tag\" set to \"legend\".\n",
      "     Properties of the legend object may be manipulated directly by\n",
      "     using 'set'.\n",
      "\n",
      "Additional help for built-in functions and operators is\n",
      "available in the online version of the manual.  Use the command\n",
      "'doc <topic>' to search the manual index.\n",
      "\n",
      "Help and information about Octave is also available on the WWW\n",
      "at http://www.octave.org and via the help@octave.org\n",
      "mailing list.\n"
     ]
    }
   ],
   "source": [
    "help legend"
   ]
  },
  {
   "cell_type": "code",
   "execution_count": null,
   "metadata": {
    "collapsed": true
   },
   "outputs": [],
   "source": []
  }
 ],
 "metadata": {
  "anaconda-cloud": {},
  "kernelspec": {
   "display_name": "Octave",
   "language": "octave",
   "name": "octave"
  },
  "language_info": {
   "file_extension": ".m",
   "help_links": [
    {
     "text": "MetaKernel Magics",
     "url": "https://github.com/calysto/metakernel/blob/master/metakernel/magics/README.md"
    }
   ],
   "mimetype": "text/x-octave",
   "name": "octave",
   "version": "0.18.0"
  }
 },
 "nbformat": 4,
 "nbformat_minor": 1
}
